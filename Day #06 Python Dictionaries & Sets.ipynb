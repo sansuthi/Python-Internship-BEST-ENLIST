{
 "cells": [
  {
   "cell_type": "markdown",
   "metadata": {},
   "source": [
    "## 30 Days Python Bootcamp @BEST-ENLIST\n",
    "\n",
    "### Author: SANDHYA S\n",
    "\n",
    "### Date: 17 June '21\n",
    "\n",
    "## Task: Python Dictionaries & Sets"
   ]
  },
  {
   "cell_type": "markdown",
   "metadata": {},
   "source": [
    "## 1. Dictionaries"
   ]
  },
  {
   "cell_type": "markdown",
   "metadata": {},
   "source": [
    "#### • A dictionary consists of a collection of key-value pairs. Each key-value pair maps the key to its associated value.\n",
    "#### • Dictionary can be defined by enclosing a comma-separated list of key-value pairs in curly braces ({}). \n",
    "#### •  A colon (:) separates each key from its associated value\n",
    "\n",
    "#### dictionary = {< key >: < value >}"
   ]
  },
  {
   "cell_type": "code",
   "execution_count": 1,
   "metadata": {},
   "outputs": [
    {
     "name": "stdout",
     "output_type": "stream",
     "text": [
      "DICTIONARY:\n"
     ]
    },
    {
     "data": {
      "text/plain": [
       "{'Maharashtra': 'Mumbai',\n",
       " 'Telangana': 'Hyderabad',\n",
       " 'Tamil Nadu': 'Chennai',\n",
       " 'Karnataka': 'Bengaluru',\n",
       " 'Bihar': 'Patna'}"
      ]
     },
     "execution_count": 1,
     "metadata": {},
     "output_type": "execute_result"
    }
   ],
   "source": [
    "# Example\n",
    "capitals = {'Maharashtra': 'Mumbai',\n",
    "           'Telangana': 'Hyderabad',\n",
    "           'Tamil Nadu': 'Chennai',\n",
    "           'Karnataka': 'Bengaluru',\n",
    "           'Bihar': 'Patna'}\n",
    "print('DICTIONARY:')\n",
    "capitals"
   ]
  },
  {
   "cell_type": "markdown",
   "metadata": {},
   "source": [
    "#### • A value is retrieved from a dictionary by specifying its corresponding key in square brackets"
   ]
  },
  {
   "cell_type": "code",
   "execution_count": 2,
   "metadata": {},
   "outputs": [
    {
     "name": "stdout",
     "output_type": "stream",
     "text": [
      "Capital of Karnataka: Bengaluru\n"
     ]
    }
   ],
   "source": [
    "# Example\n",
    "print('Capital of Karnataka:', capitals['Karnataka'])"
   ]
  },
  {
   "cell_type": "markdown",
   "metadata": {},
   "source": [
    "#### • Adding an entry to an existing dictionary is simply a matter of assigning a  new key and value"
   ]
  },
  {
   "cell_type": "code",
   "execution_count": 3,
   "metadata": {},
   "outputs": [
    {
     "name": "stdout",
     "output_type": "stream",
     "text": [
      "DICTIONARY:\n"
     ]
    },
    {
     "data": {
      "text/plain": [
       "{'Maharashtra': 'Mumbai',\n",
       " 'Telangana': 'Hyderabad',\n",
       " 'Tamil Nadu': 'Chennai',\n",
       " 'Karnataka': 'Bengaluru',\n",
       " 'Bihar': 'Patna',\n",
       " 'Goa': 'Panaji'}"
      ]
     },
     "execution_count": 3,
     "metadata": {},
     "output_type": "execute_result"
    }
   ],
   "source": [
    "# Example\n",
    "capitals['Goa'] = 'Panaji'\n",
    "print('DICTIONARY:')\n",
    "capitals"
   ]
  },
  {
   "cell_type": "code",
   "execution_count": 4,
   "metadata": {},
   "outputs": [
    {
     "name": "stdout",
     "output_type": "stream",
     "text": [
      "DICTIONARY:\n"
     ]
    },
    {
     "data": {
      "text/plain": [
       "{'Maharashtra': 'Mumbai',\n",
       " 'Telangana': 'Hyderabad',\n",
       " 'Tamil Nadu': 'Chennai',\n",
       " 'Karnataka': 'Bengaluru',\n",
       " 'Bihar': 'Patna',\n",
       " 'Goa': 'Panaji',\n",
       " 'Gujarat': 'Gandhinagar'}"
      ]
     },
     "execution_count": 4,
     "metadata": {},
     "output_type": "execute_result"
    }
   ],
   "source": [
    "capitals['Gujarat'] = 'Gandhinagar'\n",
    "print('DICTIONARY:')\n",
    "capitals"
   ]
  },
  {
   "cell_type": "markdown",
   "metadata": {},
   "source": [
    "#### • If you want to update an entry, you can just assign a new value to an existing key"
   ]
  },
  {
   "cell_type": "code",
   "execution_count": 5,
   "metadata": {},
   "outputs": [
    {
     "name": "stdout",
     "output_type": "stream",
     "text": [
      "DICTIONARY:\n"
     ]
    },
    {
     "data": {
      "text/plain": [
       "{'Maharashtra': 'Mumbai',\n",
       " 'Telangana': 'Hyderabad',\n",
       " 'Tamil Nadu': 'Madras',\n",
       " 'Karnataka': 'Bengaluru',\n",
       " 'Bihar': 'Patna',\n",
       " 'Goa': 'Panaji',\n",
       " 'Gujarat': 'Gandhinagar'}"
      ]
     },
     "execution_count": 5,
     "metadata": {},
     "output_type": "execute_result"
    }
   ],
   "source": [
    "# Example\n",
    "capitals['Tamil Nadu'] = 'Madras'\n",
    "print('DICTIONARY:')\n",
    "capitals"
   ]
  },
  {
   "cell_type": "markdown",
   "metadata": {},
   "source": [
    "#### • To delete an entry, use the 'del' statement, specifying the key to delete"
   ]
  },
  {
   "cell_type": "code",
   "execution_count": 6,
   "metadata": {},
   "outputs": [
    {
     "name": "stdout",
     "output_type": "stream",
     "text": [
      "DICTIONARY:\n"
     ]
    },
    {
     "data": {
      "text/plain": [
       "{'Telangana': 'Hyderabad',\n",
       " 'Tamil Nadu': 'Madras',\n",
       " 'Karnataka': 'Bengaluru',\n",
       " 'Bihar': 'Patna',\n",
       " 'Goa': 'Panaji',\n",
       " 'Gujarat': 'Gandhinagar'}"
      ]
     },
     "execution_count": 6,
     "metadata": {},
     "output_type": "execute_result"
    }
   ],
   "source": [
    "# Example\n",
    "del capitals['Maharashtra']\n",
    "print('DICTIONARY:')\n",
    "capitals"
   ]
  },
  {
   "cell_type": "markdown",
   "metadata": {},
   "source": [
    "### Other methods in Dictionary\n",
    "##### • clear() : Removes all the elements from the dictionary\n",
    "##### • copy() : Returns a copy of the dictionary\n",
    "##### • fromkeys() : Returns a dictionary with the specified keys and value\n",
    "##### •  get() : Returns the value of the specified key\n",
    "##### •  items() : Returns a list containing a tuple for each key value pair\n",
    "##### •  keys() : Returns a list containing the dictionary's keys\n",
    "##### •  pop() : Removes the element with the specified key\n",
    "##### •  popitem() : Removes the last inserted key-value pair\n",
    "##### •  setdefault() : Returns the value of the specified key, if the key does not  exist, insert the key with the specified value\n",
    "##### •  update() : Updates the dictionary with the specified key-value pairs\n",
    "##### •  values() : Returns a list of all the values in the dictionary"
   ]
  },
  {
   "cell_type": "markdown",
   "metadata": {},
   "source": [
    "## 2. Sets"
   ]
  },
  {
   "cell_type": "markdown",
   "metadata": {},
   "source": [
    "#### • A set is a collection which is unordered and unindexed. In Python, sets are written with curly brackets."
   ]
  },
  {
   "cell_type": "code",
   "execution_count": 7,
   "metadata": {},
   "outputs": [
    {
     "name": "stdout",
     "output_type": "stream",
     "text": [
      "SET: {'Peacock', 'Rose', 'Cat', 'Parrot'}\n"
     ]
    }
   ],
   "source": [
    "# Example\n",
    "set_ = {'Parrot', 'Peacock', 'Rose', 'Cat'}\n",
    "print('SET:', set_)"
   ]
  },
  {
   "cell_type": "markdown",
   "metadata": {},
   "source": [
    "#### • We cannot access items in a set by referring to an index or a key.\n",
    "#### • To add one item to a set use the add() method"
   ]
  },
  {
   "cell_type": "code",
   "execution_count": 8,
   "metadata": {},
   "outputs": [
    {
     "name": "stdout",
     "output_type": "stream",
     "text": [
      "SET: {'Peacock', 'Sun Flower', 'Rose', 'Cat', 'Parrot'}\n"
     ]
    }
   ],
   "source": [
    "# Example\n",
    "set_.add('Sun Flower')\n",
    "print('SET:', set_)"
   ]
  },
  {
   "cell_type": "markdown",
   "metadata": {},
   "source": [
    "#### • To add more than one item to a set use the update() method."
   ]
  },
  {
   "cell_type": "code",
   "execution_count": 9,
   "metadata": {},
   "outputs": [
    {
     "name": "stdout",
     "output_type": "stream",
     "text": [
      "SET: {'Peacock', 'Sun Flower', 'Green', 'Rose', 'Cat', 'Orange', 'Parrot'}\n"
     ]
    }
   ],
   "source": [
    "# Example \n",
    "set_.update(['Green', 'Orange'])\n",
    "print('SET:', set_)"
   ]
  },
  {
   "cell_type": "markdown",
   "metadata": {},
   "source": [
    "#### • To remove an item in a set, use the remove(), or the discard() method"
   ]
  },
  {
   "cell_type": "code",
   "execution_count": 10,
   "metadata": {},
   "outputs": [
    {
     "name": "stdout",
     "output_type": "stream",
     "text": [
      "SET: {'Peacock', 'Sun Flower', 'Green', 'Cat', 'Orange', 'Parrot'}\n"
     ]
    }
   ],
   "source": [
    "# Example: remove()\n",
    "set_.remove('Rose')\n",
    "print('SET:', set_)"
   ]
  },
  {
   "cell_type": "code",
   "execution_count": 11,
   "metadata": {},
   "outputs": [
    {
     "name": "stdout",
     "output_type": "stream",
     "text": [
      "SET: {'Peacock', 'Sun Flower', 'Green', 'Orange', 'Parrot'}\n"
     ]
    }
   ],
   "source": [
    "# Example: discard()\n",
    "set_.discard('Cat')\n",
    "print('SET:', set_)"
   ]
  },
  {
   "cell_type": "markdown",
   "metadata": {},
   "source": [
    "# Exercise:"
   ]
  },
  {
   "cell_type": "markdown",
   "metadata": {},
   "source": [
    "### 1. Write a Python script to merge two Python dictionaries"
   ]
  },
  {
   "cell_type": "code",
   "execution_count": 12,
   "metadata": {},
   "outputs": [
    {
     "name": "stdout",
     "output_type": "stream",
     "text": [
      "DICTIONARIES:\n",
      "Animals: {'C': 'Cat', 'D': 'Dog', 'E': 'Elephant'}\n",
      "Birds: {'K': 'King Fisher', 'O': 'Owl', 'P': 'Parrot'}\n"
     ]
    }
   ],
   "source": [
    "# Creating two dictionaries\n",
    "animals = {'C': 'Cat', 'D': 'Dog', 'E': 'Elephant'}\n",
    "birds = {'K': 'King Fisher', 'O': 'Owl', 'P': 'Parrot'}\n",
    "print('DICTIONARIES:')\n",
    "print('Animals:', animals)\n",
    "print('Birds:', birds)"
   ]
  },
  {
   "cell_type": "markdown",
   "metadata": {},
   "source": [
    "#### a) Merging dictionaries using update()"
   ]
  },
  {
   "cell_type": "code",
   "execution_count": 13,
   "metadata": {},
   "outputs": [
    {
     "name": "stdout",
     "output_type": "stream",
     "text": [
      "Animals:\n",
      "\n"
     ]
    },
    {
     "data": {
      "text/plain": [
       "{'C': 'Cat',\n",
       " 'D': 'Dog',\n",
       " 'E': 'Elephant',\n",
       " 'K': 'King Fisher',\n",
       " 'O': 'Owl',\n",
       " 'P': 'Parrot'}"
      ]
     },
     "execution_count": 13,
     "metadata": {},
     "output_type": "execute_result"
    }
   ],
   "source": [
    "animals.update(birds)\n",
    "print('Animals:\\n')\n",
    "animals"
   ]
  },
  {
   "cell_type": "code",
   "execution_count": 14,
   "metadata": {},
   "outputs": [
    {
     "name": "stdout",
     "output_type": "stream",
     "text": [
      "Birds:\n",
      "\n"
     ]
    },
    {
     "data": {
      "text/plain": [
       "{'K': 'King Fisher',\n",
       " 'O': 'Owl',\n",
       " 'P': 'Parrot',\n",
       " 'C': 'Cat',\n",
       " 'D': 'Dog',\n",
       " 'E': 'Elephant'}"
      ]
     },
     "execution_count": 14,
     "metadata": {},
     "output_type": "execute_result"
    }
   ],
   "source": [
    "birds.update(animals)\n",
    "print('Birds:\\n')\n",
    "birds"
   ]
  },
  {
   "cell_type": "markdown",
   "metadata": {},
   "source": [
    "#### b) Merging dictionaries using **"
   ]
  },
  {
   "cell_type": "code",
   "execution_count": 15,
   "metadata": {},
   "outputs": [
    {
     "name": "stdout",
     "output_type": "stream",
     "text": [
      "Merged Dict:\n",
      "\n"
     ]
    },
    {
     "data": {
      "text/plain": [
       "{'C': 'Cat',\n",
       " 'D': 'Dog',\n",
       " 'E': 'Elephant',\n",
       " 'K': 'King Fisher',\n",
       " 'O': 'Owl',\n",
       " 'P': 'Parrot'}"
      ]
     },
     "execution_count": 15,
     "metadata": {},
     "output_type": "execute_result"
    }
   ],
   "source": [
    "animals = {'C': 'Cat', 'D': 'Dog', 'E': 'Elephant'}\n",
    "birds = {'K': 'King Fisher', 'O': 'Owl', 'P': 'Parrot'}\n",
    "new_dict = {**animals, **birds}\n",
    "print('Merged Dict:\\n')\n",
    "new_dict"
   ]
  },
  {
   "cell_type": "code",
   "execution_count": 16,
   "metadata": {},
   "outputs": [
    {
     "name": "stdout",
     "output_type": "stream",
     "text": [
      "Merged Dict:\n",
      "\n"
     ]
    },
    {
     "data": {
      "text/plain": [
       "{'K': 'King Fisher',\n",
       " 'O': 'Owl',\n",
       " 'P': 'Parrot',\n",
       " 'C': 'Cat',\n",
       " 'D': 'Dog',\n",
       " 'E': 'Elephant'}"
      ]
     },
     "execution_count": 16,
     "metadata": {},
     "output_type": "execute_result"
    }
   ],
   "source": [
    "new_dict = {**birds, **animals}\n",
    "print('Merged Dict:\\n')\n",
    "new_dict"
   ]
  },
  {
   "cell_type": "markdown",
   "metadata": {},
   "source": [
    "### 2. Write a Python program to remove a key from a dictionary "
   ]
  },
  {
   "cell_type": "code",
   "execution_count": 17,
   "metadata": {},
   "outputs": [
    {
     "name": "stdout",
     "output_type": "stream",
     "text": [
      "DICTIONARY:\n"
     ]
    },
    {
     "data": {
      "text/plain": [
       "{1: 'one',\n",
       " 2: 'Two',\n",
       " 3: 'Three',\n",
       " 4: 'Four',\n",
       " 5: 'Five',\n",
       " 6: 'Six',\n",
       " 7: 'Seven',\n",
       " 8: 'Eight'}"
      ]
     },
     "execution_count": 17,
     "metadata": {},
     "output_type": "execute_result"
    }
   ],
   "source": [
    "# Creating a dictionary\n",
    "numbers = {1:'one', 2: 'Two', 3: 'Three', 4: 'Four', \n",
    "           5: 'Five', 6: 'Six', 7: 'Seven', 8: 'Eight'}\n",
    "print('DICTIONARY:')\n",
    "numbers"
   ]
  },
  {
   "cell_type": "markdown",
   "metadata": {},
   "source": [
    "#### a) Removing the item 4, using del"
   ]
  },
  {
   "cell_type": "code",
   "execution_count": 18,
   "metadata": {},
   "outputs": [
    {
     "name": "stdout",
     "output_type": "stream",
     "text": [
      "DICTIONARY:\n"
     ]
    },
    {
     "data": {
      "text/plain": [
       "{1: 'one', 2: 'Two', 3: 'Three', 5: 'Five', 6: 'Six', 7: 'Seven', 8: 'Eight'}"
      ]
     },
     "execution_count": 18,
     "metadata": {},
     "output_type": "execute_result"
    }
   ],
   "source": [
    "del numbers[4]\n",
    "print('DICTIONARY:')\n",
    "numbers"
   ]
  },
  {
   "cell_type": "markdown",
   "metadata": {},
   "source": [
    "#### b) Removing the item 6, using pop()"
   ]
  },
  {
   "cell_type": "code",
   "execution_count": 19,
   "metadata": {},
   "outputs": [
    {
     "name": "stdout",
     "output_type": "stream",
     "text": [
      "DICTIONARY:\n"
     ]
    },
    {
     "data": {
      "text/plain": [
       "{1: 'one', 2: 'Two', 3: 'Three', 5: 'Five', 7: 'Seven', 8: 'Eight'}"
      ]
     },
     "execution_count": 19,
     "metadata": {},
     "output_type": "execute_result"
    }
   ],
   "source": [
    "numbers.pop(6)\n",
    "print('DICTIONARY:')\n",
    "numbers"
   ]
  },
  {
   "cell_type": "markdown",
   "metadata": {},
   "source": [
    "#### c) Removing last item, using popitem()"
   ]
  },
  {
   "cell_type": "code",
   "execution_count": 20,
   "metadata": {},
   "outputs": [
    {
     "name": "stdout",
     "output_type": "stream",
     "text": [
      "DICTIONARY:\n"
     ]
    },
    {
     "data": {
      "text/plain": [
       "{1: 'one', 2: 'Two', 3: 'Three', 5: 'Five', 7: 'Seven'}"
      ]
     },
     "execution_count": 20,
     "metadata": {},
     "output_type": "execute_result"
    }
   ],
   "source": [
    "numbers.popitem()\n",
    "print('DICTIONARY:')\n",
    "numbers"
   ]
  },
  {
   "cell_type": "markdown",
   "metadata": {},
   "source": [
    "#### d) Removing all the elements, using clear()"
   ]
  },
  {
   "cell_type": "code",
   "execution_count": 21,
   "metadata": {},
   "outputs": [
    {
     "name": "stdout",
     "output_type": "stream",
     "text": [
      "DICTIONARY:\n"
     ]
    },
    {
     "data": {
      "text/plain": [
       "{}"
      ]
     },
     "execution_count": 21,
     "metadata": {},
     "output_type": "execute_result"
    }
   ],
   "source": [
    "numbers.clear()\n",
    "print('DICTIONARY:')\n",
    "numbers"
   ]
  },
  {
   "cell_type": "markdown",
   "metadata": {},
   "source": [
    "### 3. Write a Python program to map two lists into a dictionary"
   ]
  },
  {
   "cell_type": "code",
   "execution_count": 22,
   "metadata": {},
   "outputs": [
    {
     "name": "stdout",
     "output_type": "stream",
     "text": [
      "Lists\n",
      "lower: ['abc', 'def', 'ghi', 'jkl', 'mno'] \n",
      "UPPER: ['ABC', 'DEF', 'GHI', 'JKL', 'MNO']\n"
     ]
    }
   ],
   "source": [
    "# Creating two lists\n",
    "lower = ['abc', 'def', 'ghi', 'jkl', 'mno']\n",
    "upper = ['ABC', 'DEF', 'GHI', 'JKL', 'MNO']\n",
    "print('Lists\\nlower:',lower,'\\nUPPER:',upper)"
   ]
  },
  {
   "cell_type": "markdown",
   "metadata": {},
   "source": [
    "#### a) Mapping the lists into a dictionary, using zip()"
   ]
  },
  {
   "cell_type": "code",
   "execution_count": 23,
   "metadata": {},
   "outputs": [
    {
     "name": "stdout",
     "output_type": "stream",
     "text": [
      "DICTIONARY:\n",
      "\n"
     ]
    },
    {
     "data": {
      "text/plain": [
       "{'abc': 'ABC', 'def': 'DEF', 'ghi': 'GHI', 'jkl': 'JKL', 'mno': 'MNO'}"
      ]
     },
     "execution_count": 23,
     "metadata": {},
     "output_type": "execute_result"
    }
   ],
   "source": [
    "words = dict(zip(lower, upper))\n",
    "print('DICTIONARY:\\n')\n",
    "words"
   ]
  },
  {
   "cell_type": "markdown",
   "metadata": {},
   "source": [
    "#### b) Mapping the lists into a dictionary, using list comprehension"
   ]
  },
  {
   "cell_type": "code",
   "execution_count": 24,
   "metadata": {},
   "outputs": [
    {
     "name": "stdout",
     "output_type": "stream",
     "text": [
      "DICTIONARY:\n",
      "\n"
     ]
    },
    {
     "data": {
      "text/plain": [
       "{'abc': 'ABC', 'def': 'DEF', 'ghi': 'GHI', 'jkl': 'JKL', 'mno': 'MNO'}"
      ]
     },
     "execution_count": 24,
     "metadata": {},
     "output_type": "execute_result"
    }
   ],
   "source": [
    "words = {lower[i]: upper[i] for i in range(0, len(lower))}\n",
    "print('DICTIONARY:\\n')\n",
    "words"
   ]
  },
  {
   "cell_type": "markdown",
   "metadata": {},
   "source": [
    "### 4. Write a Python program to find the length of a set"
   ]
  },
  {
   "cell_type": "code",
   "execution_count": 25,
   "metadata": {},
   "outputs": [
    {
     "name": "stdout",
     "output_type": "stream",
     "text": [
      "SET: {'Telengana', 'Tamilnadu', 'Andhra Pradesh', 'Kerala', 'Karnataka'}\n"
     ]
    }
   ],
   "source": [
    "# Creating a set of 5 elements\n",
    "states = {'Kerala', 'Tamilnadu', 'Andhra Pradesh', 'Telengana', 'Karnataka'}\n",
    "print('SET:', states)"
   ]
  },
  {
   "cell_type": "markdown",
   "metadata": {},
   "source": [
    "#### Finding length of the set using len()"
   ]
  },
  {
   "cell_type": "code",
   "execution_count": 26,
   "metadata": {},
   "outputs": [
    {
     "name": "stdout",
     "output_type": "stream",
     "text": [
      "Length of set, states: 5\n"
     ]
    }
   ],
   "source": [
    "length = len(states)\n",
    "print('Length of set, states:', length)"
   ]
  },
  {
   "cell_type": "code",
   "execution_count": 27,
   "metadata": {},
   "outputs": [
    {
     "name": "stdout",
     "output_type": "stream",
     "text": [
      "Length of set, states: 5\n"
     ]
    }
   ],
   "source": [
    "print('Length of set, states:', len(states))"
   ]
  },
  {
   "cell_type": "markdown",
   "metadata": {},
   "source": [
    "### 5. Write a Python program to remove the intersection of a 2nd set from the 1st set"
   ]
  },
  {
   "cell_type": "code",
   "execution_count": 28,
   "metadata": {},
   "outputs": [
    {
     "name": "stdout",
     "output_type": "stream",
     "text": [
      "ORIGINAL SETS:\n",
      "Set 1: {876, 879, 564, 342, 123}\n",
      "Set 2: {107, 398, 879, 912, 564}\n"
     ]
    }
   ],
   "source": [
    "# Creating two sets\n",
    "set1 = {123, 564, 879, 342, 876}\n",
    "set2 = {564, 912, 879, 398, 107}\n",
    "print('ORIGINAL SETS:')\n",
    "print('Set 1:', set1)\n",
    "print('Set 2:', set2)"
   ]
  },
  {
   "cell_type": "markdown",
   "metadata": {},
   "source": [
    "#### a) Removing the intersection using difference_update()"
   ]
  },
  {
   "cell_type": "code",
   "execution_count": 29,
   "metadata": {},
   "outputs": [
    {
     "name": "stdout",
     "output_type": "stream",
     "text": [
      "Updated Set1 {876, 342, 123}\n",
      "Set 2: {107, 398, 879, 912, 564}\n"
     ]
    }
   ],
   "source": [
    "set1.difference_update(set2)\n",
    "print('Updated Set1',set1)\n",
    "print('Set 2:', set2)"
   ]
  },
  {
   "cell_type": "markdown",
   "metadata": {},
   "source": [
    "#### a) Removing the intersection using -= operator"
   ]
  },
  {
   "cell_type": "code",
   "execution_count": 30,
   "metadata": {},
   "outputs": [
    {
     "name": "stdout",
     "output_type": "stream",
     "text": [
      "Updated Set1 {876, 342, 123}\n",
      "Set 2: {107, 398, 879, 912, 564}\n"
     ]
    }
   ],
   "source": [
    "set1 = {123, 564, 879, 342, 876}\n",
    "set2 = {564, 912, 879, 398, 107}\n",
    "set1 -= set2\n",
    "print('Updated Set1',set1)\n",
    "print('Set 2:', set2)"
   ]
  },
  {
   "cell_type": "markdown",
   "metadata": {},
   "source": [
    "## Thank You!"
   ]
  }
 ],
 "metadata": {
  "kernelspec": {
   "display_name": "Python 3",
   "language": "python",
   "name": "python3"
  },
  "language_info": {
   "codemirror_mode": {
    "name": "ipython",
    "version": 3
   },
   "file_extension": ".py",
   "mimetype": "text/x-python",
   "name": "python",
   "nbconvert_exporter": "python",
   "pygments_lexer": "ipython3",
   "version": "3.8.5"
  }
 },
 "nbformat": 4,
 "nbformat_minor": 4
}
