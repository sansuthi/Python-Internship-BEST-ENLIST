{
 "cells": [
  {
   "cell_type": "markdown",
   "metadata": {},
   "source": [
    "## _30 Days Python Bootcamp @ BEST-ENLIST_\n",
    "\n",
    "### _Author: SANDHYA S_\n",
    "\n",
    "### _Date: 08 July '21_\n",
    "\n",
    "## _Task: Python JSON_\n",
    "---"
   ]
  },
  {
   "cell_type": "markdown",
   "metadata": {},
   "source": [
    "- Python has a built-in package called json, which can be used to work with JSON data\n",
    "- If you have a JSON string, you can parse it by using the json.loads() method"
   ]
  },
  {
   "cell_type": "code",
   "execution_count": 1,
   "metadata": {},
   "outputs": [
    {
     "name": "stdout",
     "output_type": "stream",
     "text": [
      "18\n"
     ]
    }
   ],
   "source": [
    "import json\n",
    "\n",
    "# some JSON:\n",
    "x =  '{ \"name\":\"Sachin\", \"age\":18, \"city\":\"Mumbai\"}'\n",
    "\n",
    "# parse x:\n",
    "y = json.loads(x)\n",
    "\n",
    "# the result is a Python dictionary:\n",
    "print(y[\"age\"])"
   ]
  },
  {
   "cell_type": "markdown",
   "metadata": {},
   "source": [
    "- If you have a Python object, you can convert it into a JSON string by using the json.dumps() method."
   ]
  },
  {
   "cell_type": "code",
   "execution_count": 2,
   "metadata": {},
   "outputs": [
    {
     "name": "stdout",
     "output_type": "stream",
     "text": [
      "{\"name\": \"John\", \"age\": 30, \"city\": \"New York\"}\n"
     ]
    }
   ],
   "source": [
    "# a Python object (dict):\n",
    "x = {\n",
    "  \"name\": \"John\",\n",
    "  \"age\": 30,\n",
    "  \"city\": \"New York\"\n",
    "}\n",
    "\n",
    "# convert into JSON:\n",
    "y = json.dumps(x)\n",
    "\n",
    "# the result is a JSON string:\n",
    "print(y)"
   ]
  },
  {
   "cell_type": "markdown",
   "metadata": {},
   "source": [
    "- You can convert Python objects of the following types, into JSON strings:\n",
    "> - dict\n",
    "> - list\n",
    "> - tuple\n",
    "> - string\n",
    "> - int\n",
    "> - float\n",
    "> - True\n",
    "> - False\n",
    "> - None\n",
    "- Use the indent parameter to define the numbers of indents"
   ]
  },
  {
   "cell_type": "markdown",
   "metadata": {},
   "source": [
    "- You can also define the separators, default value is (\", \", \": \"), which means using a comma and a space to separate each object, and a colon and a space to separate keys from values\n",
    "> - json.dumps(x, indent=4, separators=(\". \", \" = \"))\n",
    "> - The json.dumps() method has parameters to order the keys in the result\n",
    "> - json.dumps(x, indent=4, sort_keys=True)"
   ]
  },
  {
   "cell_type": "markdown",
   "metadata": {},
   "source": [
    "# Exercise:\n",
    "## _Create a JSON of all object types and import the JSON into an SQL Database_"
   ]
  },
  {
   "cell_type": "code",
   "execution_count": 3,
   "metadata": {},
   "outputs": [
    {
     "data": {
      "text/plain": [
       "{'Physics': 98,\n",
       " 'Chemistry': 97,\n",
       " 'Maths': 97,\n",
       " 'Total': 292,\n",
       " 'Percentage': 98.33,\n",
       " 'Passed': 'True'}"
      ]
     },
     "execution_count": 3,
     "metadata": {},
     "output_type": "execute_result"
    }
   ],
   "source": [
    "x = '{\"Physics\":98, \"Chemistry\":97, \"Maths\":97, \"Total\":292, \"Percentage\":98.33, \"Passed\":\"True\"}'\n",
    "json.loads(x)"
   ]
  },
  {
   "cell_type": "code",
   "execution_count": 4,
   "metadata": {},
   "outputs": [],
   "source": [
    "import mysql.connector as msq\n",
    "db = msq.connect(host='localhost', user='root', password='password', database='mydb')\n",
    "curs = db.cursor(buffered=True)\n",
    "\n",
    "# Creating table - 'student'\n",
    "std_q = 'CREATE TABLE student(Id int auto_increment primary key, details json)'\n",
    "curs.execute(std_q)"
   ]
  },
  {
   "cell_type": "code",
   "execution_count": 5,
   "metadata": {},
   "outputs": [],
   "source": [
    "query = '''insert into student(details) values\n",
    "        ('{\"student\":\"(Annie)\", \"marks\":{\"Physics\":98, \"Chemistry\":97, \"Maths\":97}, \n",
    "        \"Total\":292, \"Percentage\":98.33, \"Passed\":\"True\"}'),\n",
    "        ('{\"student\":\"(John)\", \"marks\":{\"Physics\":45, \"Chemistry\":40, \"Maths\":60}, \n",
    "        \"Total\":145, \"Percentage\":48.33, \"Passed\":\"False\"}'),\n",
    "        ('{\"student\":\"(Kelly, Andrew)\", \"marks\":{\"Physics\":82, \"Chemistry\":76, \"Maths\":85}, \n",
    "        \"Total\":242, \"Percentage\":80.67, \"Passed\":\"True\"}')'''\n",
    "curs.execute(query)\n",
    "db.commit()"
   ]
  },
  {
   "cell_type": "code",
   "execution_count": 6,
   "metadata": {},
   "outputs": [
    {
     "name": "stdout",
     "output_type": "stream",
     "text": [
      "STUDENT DETAILS:\n",
      "----------------\n",
      "(1, '{\"Total\": 292, \"marks\": {\"Maths\": 97, \"Physics\": 98, \"Chemistry\": 97}, \"Passed\": \"True\", \"student\": \"(Annie)\", \"Percentage\": 98.33}')\n",
      "(2, '{\"Total\": 145, \"marks\": {\"Maths\": 60, \"Physics\": 45, \"Chemistry\": 40}, \"Passed\": \"False\", \"student\": \"(John)\", \"Percentage\": 48.33}')\n",
      "(3, '{\"Total\": 242, \"marks\": {\"Maths\": 85, \"Physics\": 82, \"Chemistry\": 76}, \"Passed\": \"True\", \"student\": \"(Kelly, Andrew)\", \"Percentage\": 80.67}')\n"
     ]
    }
   ],
   "source": [
    "data = 'SELECT * FROM student'\n",
    "curs.execute(data)\n",
    "details = curs.fetchall()\n",
    "print(f'STUDENT DETAILS:\\n{\"-\"*16}')\n",
    "for detail in details:\n",
    "    print(detail)"
   ]
  },
  {
   "cell_type": "code",
   "execution_count": 7,
   "metadata": {},
   "outputs": [
    {
     "name": "stdout",
     "output_type": "stream",
     "text": [
      "Id, Marks\n",
      "---------\n",
      "(1, '{\"Maths\": 97, \"Physics\": 98, \"Chemistry\": 97}')\n",
      "(2, '{\"Maths\": 60, \"Physics\": 45, \"Chemistry\": 40}')\n",
      "(3, '{\"Maths\": 85, \"Physics\": 82, \"Chemistry\": 76}')\n"
     ]
    }
   ],
   "source": [
    "marks = \"select id, details->'$.marks' from student\"\n",
    "curs.execute(marks)\n",
    "details = curs.fetchall()\n",
    "print(f'Id, Marks\\n{\"-\"*9}')\n",
    "for detail in details:\n",
    "    print(detail)"
   ]
  },
  {
   "cell_type": "code",
   "execution_count": 8,
   "metadata": {},
   "outputs": [
    {
     "name": "stdout",
     "output_type": "stream",
     "text": [
      "Id, Percentage\n",
      "--------------\n",
      "(1, '98.33')\n",
      "(2, '48.33')\n",
      "(3, '80.67')\n"
     ]
    }
   ],
   "source": [
    "perc = \"select id, details->'$.Percentage' from student\"\n",
    "curs.execute(perc)\n",
    "details = curs.fetchall()\n",
    "print(f'Id, Percentage\\n{\"-\"*14}')\n",
    "for detail in details:\n",
    "    print(detail)"
   ]
  },
  {
   "cell_type": "code",
   "execution_count": 9,
   "metadata": {},
   "outputs": [],
   "source": [
    "curs.execute('DROP TABLE student')\n",
    "curs.close()\n",
    "db.close()"
   ]
  },
  {
   "cell_type": "markdown",
   "metadata": {},
   "source": [
    "---\n",
    "## _Thank You!_"
   ]
  }
 ],
 "metadata": {
  "kernelspec": {
   "display_name": "Python 3",
   "language": "python",
   "name": "python3"
  },
  "language_info": {
   "codemirror_mode": {
    "name": "ipython",
    "version": 3
   },
   "file_extension": ".py",
   "mimetype": "text/x-python",
   "name": "python",
   "nbconvert_exporter": "python",
   "pygments_lexer": "ipython3",
   "version": "3.8.5"
  }
 },
 "nbformat": 4,
 "nbformat_minor": 4
}
