{
 "cells": [
  {
   "cell_type": "markdown",
   "metadata": {},
   "source": [
    "## 30 Days Python Bootcamp @BEST-ENLIST\n",
    "\n",
    "### Author: SANDHYA S\n",
    "\n",
    "### Date: 21 June '21\n",
    "\n",
    "## Task: Programming Exercise"
   ]
  },
  {
   "cell_type": "markdown",
   "metadata": {},
   "source": [
    "### 1. Write a program to loop through a list of numbers and add +2 to every value to elements in list"
   ]
  },
  {
   "cell_type": "code",
   "execution_count": 1,
   "metadata": {},
   "outputs": [],
   "source": [
    "# Creating a list of 5 numbers\n",
    "num_list = [23, 34, 89, 18, 67]"
   ]
  },
  {
   "cell_type": "code",
   "execution_count": 2,
   "metadata": {
    "scrolled": true
   },
   "outputs": [
    {
     "name": "stdout",
     "output_type": "stream",
     "text": [
      "Actual List: [23, 34, 89, 18, 67]\n",
      "List after +2: [25, 36, 91, 20, 69]\n"
     ]
    }
   ],
   "source": [
    "print(f'Actual List: {num_list}')\n",
    "\n",
    "# Adding 2 to each element\n",
    "for i in range(len(num_list)):\n",
    "    num_list[i] += 2\n",
    "print(f'List after +2: {num_list}')"
   ]
  },
  {
   "cell_type": "markdown",
   "metadata": {},
   "source": [
    "### 2. Write a program to get the below pattern\n",
    "#### 54321\n",
    "#### 4321\n",
    "#### 321\n",
    "#### 21\n",
    "#### 1"
   ]
  },
  {
   "cell_type": "code",
   "execution_count": 3,
   "metadata": {},
   "outputs": [
    {
     "name": "stdout",
     "output_type": "stream",
     "text": [
      "5 4 3 2 1 \n",
      "\n",
      "4 3 2 1 \n",
      "\n",
      "3 2 1 \n",
      "\n",
      "2 1 \n",
      "\n",
      "1 \n",
      "\n"
     ]
    }
   ],
   "source": [
    "step = 5\n",
    "while step > 0:\n",
    "    num = step\n",
    "    while num > 0: \n",
    "        print(num, end=' ')\n",
    "        num -= 1\n",
    "    print('\\n')\n",
    "    step -= 1"
   ]
  },
  {
   "cell_type": "markdown",
   "metadata": {},
   "source": [
    "### 3. Python Program to Print the Fibonacci sequence"
   ]
  },
  {
   "cell_type": "code",
   "execution_count": 4,
   "metadata": {},
   "outputs": [],
   "source": [
    "# Function for storing fibonacci numbers in a list\n",
    "def fibonacci():\n",
    "    fib = []\n",
    "    number = int(input('Enter the limit:'))\n",
    "    first, second = 0, 1\n",
    "    while first < number:\n",
    "        fib.append(first)\n",
    "        first, second = second, first + second\n",
    "    return fib"
   ]
  },
  {
   "cell_type": "code",
   "execution_count": 5,
   "metadata": {},
   "outputs": [
    {
     "name": "stdout",
     "output_type": "stream",
     "text": [
      "Enter the limit:10\n",
      "Fibonacci series: [0, 1, 1, 2, 3, 5, 8]\n"
     ]
    }
   ],
   "source": [
    "# Function call with user input\n",
    "print(f'Fibonacci series: {fibonacci()}')"
   ]
  },
  {
   "cell_type": "code",
   "execution_count": 6,
   "metadata": {},
   "outputs": [
    {
     "name": "stdout",
     "output_type": "stream",
     "text": [
      "Enter the limit:99\n",
      "Fibonacci series: [0, 1, 1, 2, 3, 5, 8, 13, 21, 34, 55, 89]\n"
     ]
    }
   ],
   "source": [
    "print(f'Fibonacci series: {fibonacci()}')"
   ]
  },
  {
   "cell_type": "markdown",
   "metadata": {},
   "source": [
    "### 4. Explain Armstrong number and write a code with a function"
   ]
  },
  {
   "cell_type": "markdown",
   "metadata": {},
   "source": [
    "##### Armstrong number is a number that is equal to the sum of cubes of its digits - (abc = a^3 + b^3 + c^3)"
   ]
  },
  {
   "cell_type": "code",
   "execution_count": 7,
   "metadata": {},
   "outputs": [],
   "source": [
    "# Function definition for amstrong number\n",
    "def armstrong(number):\n",
    "    sum_ = 0\n",
    "    string = str(number)\n",
    "    for digit in string:\n",
    "        sum_ += int(digit) ** 3\n",
    "    if sum_ == number:\n",
    "        print(f'{number} is Armstrong.')\n",
    "    else:\n",
    "         print(f'{number} is not Armstrong.')"
   ]
  },
  {
   "cell_type": "code",
   "execution_count": 8,
   "metadata": {},
   "outputs": [
    {
     "name": "stdout",
     "output_type": "stream",
     "text": [
      "153 is Armstrong.\n",
      "1 is Armstrong.\n",
      "734 is not Armstrong.\n",
      "407 is Armstrong.\n",
      "5289 is not Armstrong.\n"
     ]
    }
   ],
   "source": [
    "armstrong(153)\n",
    "armstrong(1)\n",
    "armstrong(734)\n",
    "armstrong(407)\n",
    "armstrong(5289)"
   ]
  },
  {
   "cell_type": "markdown",
   "metadata": {},
   "source": [
    "### 5. Write a program to print the multiplication table of 9"
   ]
  },
  {
   "cell_type": "code",
   "execution_count": 9,
   "metadata": {},
   "outputs": [],
   "source": [
    "# Function definition for multiplication\n",
    "def mul_table():\n",
    "    rang = int(input('Enter the limit: '))\n",
    "    print(f'Multiplication Table of 9\\n{\"-\"*25}')\n",
    "    for i in range(1, rang+1):\n",
    "        print(f'{i} * 9 = {i*9}')"
   ]
  },
  {
   "cell_type": "code",
   "execution_count": 10,
   "metadata": {},
   "outputs": [
    {
     "name": "stdout",
     "output_type": "stream",
     "text": [
      "Enter the limit: 5\n",
      "Multiplication Table of 9\n",
      "-------------------------\n",
      "1 * 9 = 9\n",
      "2 * 9 = 18\n",
      "3 * 9 = 27\n",
      "4 * 9 = 36\n",
      "5 * 9 = 45\n"
     ]
    }
   ],
   "source": [
    "mul_table()"
   ]
  },
  {
   "cell_type": "code",
   "execution_count": 11,
   "metadata": {},
   "outputs": [
    {
     "name": "stdout",
     "output_type": "stream",
     "text": [
      "Enter the limit: 10\n",
      "Multiplication Table of 9\n",
      "-------------------------\n",
      "1 * 9 = 9\n",
      "2 * 9 = 18\n",
      "3 * 9 = 27\n",
      "4 * 9 = 36\n",
      "5 * 9 = 45\n",
      "6 * 9 = 54\n",
      "7 * 9 = 63\n",
      "8 * 9 = 72\n",
      "9 * 9 = 81\n",
      "10 * 9 = 90\n"
     ]
    }
   ],
   "source": [
    "mul_table()"
   ]
  },
  {
   "cell_type": "markdown",
   "metadata": {},
   "source": [
    "### 6. Check if a program is negative or positive"
   ]
  },
  {
   "cell_type": "code",
   "execution_count": 12,
   "metadata": {},
   "outputs": [],
   "source": [
    "def pos_neg(number):\n",
    "    if number < 0:\n",
    "        print(f'{number} is Negative.')\n",
    "    elif number > 0:\n",
    "        print(f'{number} is Positive.')\n",
    "    else:\n",
    "        print('ZERO!')"
   ]
  },
  {
   "cell_type": "code",
   "execution_count": 13,
   "metadata": {},
   "outputs": [
    {
     "name": "stdout",
     "output_type": "stream",
     "text": [
      "-23 is Negative.\n"
     ]
    }
   ],
   "source": [
    "pos_neg(-23)"
   ]
  },
  {
   "cell_type": "code",
   "execution_count": 14,
   "metadata": {},
   "outputs": [
    {
     "name": "stdout",
     "output_type": "stream",
     "text": [
      "ZERO!\n"
     ]
    }
   ],
   "source": [
    "pos_neg(0)"
   ]
  },
  {
   "cell_type": "code",
   "execution_count": 15,
   "metadata": {},
   "outputs": [
    {
     "name": "stdout",
     "output_type": "stream",
     "text": [
      "56 is Positive.\n"
     ]
    }
   ],
   "source": [
    "pos_neg(56)"
   ]
  },
  {
   "cell_type": "markdown",
   "metadata": {},
   "source": [
    "### 7. Write a program to convert the number of days to ages"
   ]
  },
  {
   "cell_type": "code",
   "execution_count": 16,
   "metadata": {},
   "outputs": [],
   "source": [
    "def num_ages(days):\n",
    "    print(f'{days} in age: {days/365} years')"
   ]
  },
  {
   "cell_type": "code",
   "execution_count": 17,
   "metadata": {},
   "outputs": [
    {
     "name": "stdout",
     "output_type": "stream",
     "text": [
      "3650 in age: 10.0 years\n"
     ]
    }
   ],
   "source": [
    "num_ages(3650)"
   ]
  },
  {
   "cell_type": "code",
   "execution_count": 18,
   "metadata": {},
   "outputs": [
    {
     "name": "stdout",
     "output_type": "stream",
     "text": [
      "34925 in age: 95.68493150684931 years\n"
     ]
    }
   ],
   "source": [
    "num_ages(34925)"
   ]
  },
  {
   "cell_type": "markdown",
   "metadata": {},
   "source": [
    "### 8. Solve Trigonometry problem using math function write a program to solve using math function"
   ]
  },
  {
   "cell_type": "code",
   "execution_count": 19,
   "metadata": {},
   "outputs": [],
   "source": [
    "import math\n",
    "def trigno(x):\n",
    "    print(f'sin {x}: {math.sin(x)}')\n",
    "    print(f'cos {x}: {math.cos(x)}')\n",
    "    print(f'tan {x}: {math.tan(x)}')"
   ]
  },
  {
   "cell_type": "code",
   "execution_count": 20,
   "metadata": {},
   "outputs": [
    {
     "name": "stdout",
     "output_type": "stream",
     "text": [
      "sin 30: -0.9880316240928618\n",
      "cos 30: 0.15425144988758405\n",
      "tan 30: -6.405331196646276\n"
     ]
    }
   ],
   "source": [
    "trigno(30)"
   ]
  },
  {
   "cell_type": "code",
   "execution_count": 21,
   "metadata": {},
   "outputs": [
    {
     "name": "stdout",
     "output_type": "stream",
     "text": [
      "sin 45: 0.8509035245341184\n",
      "cos 45: 0.5253219888177297\n",
      "tan 45: 1.6197751905438615\n"
     ]
    }
   ],
   "source": [
    "trigno(45)"
   ]
  },
  {
   "cell_type": "code",
   "execution_count": 22,
   "metadata": {},
   "outputs": [
    {
     "name": "stdout",
     "output_type": "stream",
     "text": [
      "sin 60: -0.3048106211022167\n",
      "cos 60: -0.9524129804151563\n",
      "tan 60: 0.320040389379563\n"
     ]
    }
   ],
   "source": [
    "trigno(60)"
   ]
  },
  {
   "cell_type": "code",
   "execution_count": 23,
   "metadata": {},
   "outputs": [
    {
     "name": "stdout",
     "output_type": "stream",
     "text": [
      "sin 90: 0.8939966636005579\n",
      "cos 90: -0.4480736161291701\n",
      "tan 90: -1.995200412208242\n"
     ]
    }
   ],
   "source": [
    "trigno(90)"
   ]
  },
  {
   "cell_type": "markdown",
   "metadata": {},
   "source": [
    "### 9. Create a calculator only on a code level by using if condition (Basic arithmetic calculation)"
   ]
  },
  {
   "cell_type": "code",
   "execution_count": 24,
   "metadata": {},
   "outputs": [],
   "source": [
    "# Function definition\n",
    "def calculator():\n",
    "    print(f'CALCULATOR\\n{\"-\"*10}')\n",
    "    print('1. Addition\\n2. Subtraction')\n",
    "    print('3. Multiplication\\n4. Division')\n",
    "    print('5. Exit')\n",
    "    while 'Y':\n",
    "        option = input('\\nEnter the option: ')\n",
    "        if option == '5': return\n",
    "        else:\n",
    "            num1 = int(input('Enter First Number: '))\n",
    "            num2 = int(input('Enter Second Number: '))\n",
    "            if option == '1':\n",
    "                print(f'\\n{num1} + {num2} = {num1+num2}')\n",
    "            elif option == '2':\n",
    "                print(f'\\n{num1} - {num2} = {num1-num2}')\n",
    "            elif option == '3':\n",
    "                print(f'\\n{num1} * {num2} = {num1*num2}')\n",
    "            elif option == '4':\n",
    "                print(f'\\n{num1} / {num2} = {num1/num2}')\n",
    "            if input('Do you want to continue?(Y/N): ') == 'Y':\n",
    "                continue\n",
    "            else: \n",
    "                print('END')\n",
    "                return"
   ]
  },
  {
   "cell_type": "code",
   "execution_count": 25,
   "metadata": {},
   "outputs": [
    {
     "name": "stdout",
     "output_type": "stream",
     "text": [
      "CALCULATOR\n",
      "----------\n",
      "1. Addition\n",
      "2. Subtraction\n",
      "3. Multiplication\n",
      "4. Division\n",
      "5. Exit\n",
      "\n",
      "Enter the option: 1\n",
      "Enter First Number: 34\n",
      "Enter Second Number: 43\n",
      "\n",
      "34 + 43 = 77\n",
      "Do you want to continue?(Y/N): Y\n",
      "\n",
      "Enter the option: 2\n",
      "Enter First Number: 43\n",
      "Enter Second Number: 12\n",
      "\n",
      "43 - 12 = 31\n",
      "Do you want to continue?(Y/N): Y\n",
      "\n",
      "Enter the option: 3\n",
      "Enter First Number: 56\n",
      "Enter Second Number: 12\n",
      "\n",
      "56 * 12 = 672\n",
      "Do you want to continue?(Y/N): Y\n",
      "\n",
      "Enter the option: 4\n",
      "Enter First Number: 78\n",
      "Enter Second Number: 4\n",
      "\n",
      "78 / 4 = 19.5\n",
      "Do you want to continue?(Y/N): N\n",
      "END\n"
     ]
    }
   ],
   "source": [
    "calculator()"
   ]
  },
  {
   "cell_type": "markdown",
   "metadata": {},
   "source": [
    "## Thank You!"
   ]
  }
 ],
 "metadata": {
  "kernelspec": {
   "display_name": "Python 3",
   "language": "python",
   "name": "python3"
  },
  "language_info": {
   "codemirror_mode": {
    "name": "ipython",
    "version": 3
   },
   "file_extension": ".py",
   "mimetype": "text/x-python",
   "name": "python",
   "nbconvert_exporter": "python",
   "pygments_lexer": "ipython3",
   "version": "3.8.5"
  }
 },
 "nbformat": 4,
 "nbformat_minor": 4
}
