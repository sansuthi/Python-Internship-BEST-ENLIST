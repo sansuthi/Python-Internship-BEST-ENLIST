{
 "cells": [
  {
   "cell_type": "markdown",
   "metadata": {},
   "source": [
    "## 30 Days Python Bootcamp @BEST-ENLIST\n",
    "\n",
    "### Author: SANDHYA S\n",
    "\n",
    "### Date: 01 July '21\n",
    "\n",
    "## Task: MySql: Filter & Sort"
   ]
  },
  {
   "cell_type": "markdown",
   "metadata": {},
   "source": [
    "- When selecting records from a table, you can filter the selection by using the WHERE statement:\n",
    "```\n",
    "sql = \"SELECT * FROM customers WHERE address ='Chennai'\"\n",
    "mycursor.execute(sql)\n",
    "myresult = mycursor.fetchall()\n",
    "for x in myresult:\n",
    "    print(x)\n",
    "```"
   ]
  },
  {
   "cell_type": "markdown",
   "metadata": {},
   "source": [
    "- You can also select the records that starts, includes, or ends with a given letter or phrase.  Use the %  to represent wildcard characters\n",
    "```\n",
    "sql = \"SELECT * FROM customers WHERE address LIKE '%way%'\"\n",
    "mycursor.execute(sql)\n",
    "myresult = mycursor.fetchall()\n",
    "for x in myresult:\n",
    "    print(x)\n",
    "```"
   ]
  },
  {
   "cell_type": "markdown",
   "metadata": {},
   "source": [
    "- Use the ORDER BY statement to sort the result in ascending or descending order.\n",
    "- The ORDER BY keyword sorts the result ascending by default. To sort the result in descending order, use the DESC keyword.\n",
    "```\n",
    "sql = \"SELECT * FROM customers ORDER BY name\"\n",
    "mycursor.execute(sql)\n",
    "myresult = mycursor.fetchall()\n",
    "for x in myresult:\n",
    "    print(x)\n",
    "```"
   ]
  },
  {
   "cell_type": "markdown",
   "metadata": {},
   "source": [
    "- Use the DESC keyword to sort the result in a descending order\n",
    "```\n",
    "sql = \"SELECT * FROM customers ORDER BY name DESC\"\n",
    "mycursor.execute(sql)\n",
    "myresult = mycursor.fetchall()\n",
    "for x in myresult:\n",
    "    print(x)\n",
    "```"
   ]
  },
  {
   "cell_type": "markdown",
   "metadata": {},
   "source": [
    "# Exercise"
   ]
  },
  {
   "cell_type": "markdown",
   "metadata": {},
   "source": [
    "### 1. Create an Excel with data of Student database and add all the values which is required for student management database, Read the excel file and add the datas into a database (using script)"
   ]
  },
  {
   "cell_type": "code",
   "execution_count": 1,
   "metadata": {},
   "outputs": [
    {
     "data": {
      "text/html": [
       "<div>\n",
       "<style scoped>\n",
       "    .dataframe tbody tr th:only-of-type {\n",
       "        vertical-align: middle;\n",
       "    }\n",
       "\n",
       "    .dataframe tbody tr th {\n",
       "        vertical-align: top;\n",
       "    }\n",
       "\n",
       "    .dataframe thead th {\n",
       "        text-align: right;\n",
       "    }\n",
       "</style>\n",
       "<table border=\"1\" class=\"dataframe\">\n",
       "  <thead>\n",
       "    <tr style=\"text-align: right;\">\n",
       "      <th></th>\n",
       "      <th>Student ID</th>\n",
       "      <th>First Name</th>\n",
       "      <th>Last Name</th>\n",
       "      <th>Data of Birth</th>\n",
       "      <th>Email</th>\n",
       "      <th>Phone</th>\n",
       "      <th>Address</th>\n",
       "    </tr>\n",
       "  </thead>\n",
       "  <tbody>\n",
       "    <tr>\n",
       "      <th>0</th>\n",
       "      <td>Q1001</td>\n",
       "      <td>Luke</td>\n",
       "      <td>Baxley</td>\n",
       "      <td>01/02/1998</td>\n",
       "      <td>lpb@myUniversity.com</td>\n",
       "      <td>780-883-7269</td>\n",
       "      <td>222 Lakeshore Drive, Abilene</td>\n",
       "    </tr>\n",
       "    <tr>\n",
       "      <th>1</th>\n",
       "      <td>Q1002</td>\n",
       "      <td>Marnie</td>\n",
       "      <td>Lemmons</td>\n",
       "      <td>11/07/1998</td>\n",
       "      <td>mgl@myUniversity.com</td>\n",
       "      <td>826-443-7227</td>\n",
       "      <td>610 Spring Creek Drive, Waynesburg</td>\n",
       "    </tr>\n",
       "    <tr>\n",
       "      <th>2</th>\n",
       "      <td>Q1003</td>\n",
       "      <td>Anne</td>\n",
       "      <td>Scott</td>\n",
       "      <td>02/02/1997</td>\n",
       "      <td>afs@myUniversity.com</td>\n",
       "      <td>759-315-2580</td>\n",
       "      <td>871 Lakeshore Drive, Abilene</td>\n",
       "    </tr>\n",
       "    <tr>\n",
       "      <th>3</th>\n",
       "      <td>Q1004</td>\n",
       "      <td>Lucy</td>\n",
       "      <td>Blakeslee</td>\n",
       "      <td>03/02/2000</td>\n",
       "      <td>lbb@myUniversity.com</td>\n",
       "      <td>956-277-5715</td>\n",
       "      <td>787 Ruth Street, Springfield</td>\n",
       "    </tr>\n",
       "    <tr>\n",
       "      <th>4</th>\n",
       "      <td>Q1005</td>\n",
       "      <td>Chelsea</td>\n",
       "      <td>Vlassman</td>\n",
       "      <td>01/24/1997</td>\n",
       "      <td>scv@myUniversity.com</td>\n",
       "      <td>716-713-9011</td>\n",
       "      <td>461 Lakeshore Drive, Abilene</td>\n",
       "    </tr>\n",
       "    <tr>\n",
       "      <th>5</th>\n",
       "      <td>Q1006</td>\n",
       "      <td>Kelly</td>\n",
       "      <td>Hudson</td>\n",
       "      <td>01/25/1999</td>\n",
       "      <td>mkh@myUniversity.com</td>\n",
       "      <td>775-553-2558</td>\n",
       "      <td>744 Ruth Street, Springfield</td>\n",
       "    </tr>\n",
       "    <tr>\n",
       "      <th>6</th>\n",
       "      <td>Q1007</td>\n",
       "      <td>Todd</td>\n",
       "      <td>Robertson</td>\n",
       "      <td>01/21/1997</td>\n",
       "      <td>gtw@myUniversity.com</td>\n",
       "      <td>279-705-3782</td>\n",
       "      <td>832 Lakeshore Drive, Abilene</td>\n",
       "    </tr>\n",
       "    <tr>\n",
       "      <th>7</th>\n",
       "      <td>Q1008</td>\n",
       "      <td>Kirk</td>\n",
       "      <td>Mitchell</td>\n",
       "      <td>01/20/1997</td>\n",
       "      <td>jkm@myUniversity.com</td>\n",
       "      <td>937-857-9883</td>\n",
       "      <td>793 Ruth Street, Springfield</td>\n",
       "    </tr>\n",
       "    <tr>\n",
       "      <th>8</th>\n",
       "      <td>Q1009</td>\n",
       "      <td>Suzanne</td>\n",
       "      <td>Dunn</td>\n",
       "      <td>11/20/1997</td>\n",
       "      <td>ksd@myUniversity.com</td>\n",
       "      <td>985-677-7127</td>\n",
       "      <td>587 Lakeshore Drive, Abilene</td>\n",
       "    </tr>\n",
       "    <tr>\n",
       "      <th>9</th>\n",
       "      <td>Q1010</td>\n",
       "      <td>Tina</td>\n",
       "      <td>Drew</td>\n",
       "      <td>01/04/1998</td>\n",
       "      <td>tmd@myUniversity.com</td>\n",
       "      <td>909-318-2642</td>\n",
       "      <td>725 Ruth Street, Springfield</td>\n",
       "    </tr>\n",
       "    <tr>\n",
       "      <th>10</th>\n",
       "      <td>Q1011</td>\n",
       "      <td>Alan</td>\n",
       "      <td>Roman</td>\n",
       "      <td>01/05/1998</td>\n",
       "      <td>alr@myUniversity.com</td>\n",
       "      <td>141-999-1475</td>\n",
       "      <td>364 Lakeshore Drive, Abilene</td>\n",
       "    </tr>\n",
       "    <tr>\n",
       "      <th>11</th>\n",
       "      <td>Q1012</td>\n",
       "      <td>Jie</td>\n",
       "      <td>Woo</td>\n",
       "      <td>01/06/2000</td>\n",
       "      <td>jjw@myUniversity.com</td>\n",
       "      <td>768-598-5770</td>\n",
       "      <td>603 Ruth Street, Springfield</td>\n",
       "    </tr>\n",
       "    <tr>\n",
       "      <th>12</th>\n",
       "      <td>Q1013</td>\n",
       "      <td>Ruth</td>\n",
       "      <td>Langford</td>\n",
       "      <td>01/07/1998</td>\n",
       "      <td>srl@myUniversity.com</td>\n",
       "      <td>826-357-7927</td>\n",
       "      <td>610 Lakeshore Drive, Abilene</td>\n",
       "    </tr>\n",
       "    <tr>\n",
       "      <th>13</th>\n",
       "      <td>Q1014</td>\n",
       "      <td>Peyton</td>\n",
       "      <td>Baxley</td>\n",
       "      <td>02/07/1999</td>\n",
       "      <td>pjb@myUniversity.com</td>\n",
       "      <td>780-883-7269</td>\n",
       "      <td>222 Lakeshore Drive, Abilene</td>\n",
       "    </tr>\n",
       "    <tr>\n",
       "      <th>14</th>\n",
       "      <td>Q1015</td>\n",
       "      <td>Shawna</td>\n",
       "      <td>Rose</td>\n",
       "      <td>12/05/1997</td>\n",
       "      <td>snr@myUniversity.com</td>\n",
       "      <td>826-643-7227</td>\n",
       "      <td>616 Spring Creek Drive, Waynesburg</td>\n",
       "    </tr>\n",
       "    <tr>\n",
       "      <th>15</th>\n",
       "      <td>Q1016</td>\n",
       "      <td>Kimberly</td>\n",
       "      <td>Macaw</td>\n",
       "      <td>12/02/1998</td>\n",
       "      <td>kmm@myUniversity.com</td>\n",
       "      <td>759-315-2580</td>\n",
       "      <td>871 Lakeshore Drive, Abilene</td>\n",
       "    </tr>\n",
       "    <tr>\n",
       "      <th>16</th>\n",
       "      <td>Q1017</td>\n",
       "      <td>Faustina</td>\n",
       "      <td>Hicks</td>\n",
       "      <td>01/24/1997</td>\n",
       "      <td>fah@myUniversity.com</td>\n",
       "      <td>956-277-5715</td>\n",
       "      <td>787 Ruth Street, Springfield</td>\n",
       "    </tr>\n",
       "    <tr>\n",
       "      <th>17</th>\n",
       "      <td>Q1018</td>\n",
       "      <td>Melissa</td>\n",
       "      <td>Meeks</td>\n",
       "      <td>01/25/1999</td>\n",
       "      <td>scv@myUniversity.com</td>\n",
       "      <td>716-713-9011</td>\n",
       "      <td>461 Lakeshore Drive, Abilene</td>\n",
       "    </tr>\n",
       "    <tr>\n",
       "      <th>18</th>\n",
       "      <td>Q1019</td>\n",
       "      <td>Shelly</td>\n",
       "      <td>McFarlen</td>\n",
       "      <td>01/21/1997</td>\n",
       "      <td>sdm@myUniversity.com</td>\n",
       "      <td>775-553-2558</td>\n",
       "      <td>744 Ruth Street, Springfield</td>\n",
       "    </tr>\n",
       "    <tr>\n",
       "      <th>19</th>\n",
       "      <td>Q1020</td>\n",
       "      <td>Alexandro</td>\n",
       "      <td>Lopez</td>\n",
       "      <td>01/20/1997</td>\n",
       "      <td>ajl@myUniversity.com</td>\n",
       "      <td>279-705-3782</td>\n",
       "      <td>832 Lakeshore Drive, Abilene</td>\n",
       "    </tr>\n",
       "  </tbody>\n",
       "</table>\n",
       "</div>"
      ],
      "text/plain": [
       "   Student ID First Name  Last Name Data of Birth                 Email  \\\n",
       "0       Q1001       Luke     Baxley    01/02/1998  lpb@myUniversity.com   \n",
       "1       Q1002     Marnie    Lemmons    11/07/1998  mgl@myUniversity.com   \n",
       "2       Q1003       Anne      Scott    02/02/1997  afs@myUniversity.com   \n",
       "3       Q1004       Lucy  Blakeslee    03/02/2000  lbb@myUniversity.com   \n",
       "4       Q1005    Chelsea   Vlassman    01/24/1997  scv@myUniversity.com   \n",
       "5       Q1006      Kelly     Hudson    01/25/1999  mkh@myUniversity.com   \n",
       "6       Q1007       Todd  Robertson    01/21/1997  gtw@myUniversity.com   \n",
       "7       Q1008       Kirk   Mitchell    01/20/1997  jkm@myUniversity.com   \n",
       "8       Q1009    Suzanne       Dunn    11/20/1997  ksd@myUniversity.com   \n",
       "9       Q1010       Tina       Drew    01/04/1998  tmd@myUniversity.com   \n",
       "10      Q1011       Alan      Roman    01/05/1998  alr@myUniversity.com   \n",
       "11      Q1012        Jie        Woo    01/06/2000  jjw@myUniversity.com   \n",
       "12      Q1013       Ruth   Langford    01/07/1998  srl@myUniversity.com   \n",
       "13      Q1014     Peyton     Baxley    02/07/1999  pjb@myUniversity.com   \n",
       "14      Q1015     Shawna       Rose    12/05/1997  snr@myUniversity.com   \n",
       "15      Q1016   Kimberly      Macaw    12/02/1998  kmm@myUniversity.com   \n",
       "16      Q1017   Faustina      Hicks    01/24/1997  fah@myUniversity.com   \n",
       "17      Q1018    Melissa      Meeks    01/25/1999  scv@myUniversity.com   \n",
       "18      Q1019     Shelly   McFarlen    01/21/1997  sdm@myUniversity.com   \n",
       "19      Q1020  Alexandro      Lopez    01/20/1997  ajl@myUniversity.com   \n",
       "\n",
       "           Phone                             Address  \n",
       "0   780-883-7269        222 Lakeshore Drive, Abilene  \n",
       "1   826-443-7227  610 Spring Creek Drive, Waynesburg  \n",
       "2   759-315-2580        871 Lakeshore Drive, Abilene  \n",
       "3   956-277-5715        787 Ruth Street, Springfield  \n",
       "4   716-713-9011        461 Lakeshore Drive, Abilene  \n",
       "5   775-553-2558        744 Ruth Street, Springfield  \n",
       "6   279-705-3782        832 Lakeshore Drive, Abilene  \n",
       "7   937-857-9883        793 Ruth Street, Springfield  \n",
       "8   985-677-7127        587 Lakeshore Drive, Abilene  \n",
       "9   909-318-2642        725 Ruth Street, Springfield  \n",
       "10  141-999-1475        364 Lakeshore Drive, Abilene  \n",
       "11  768-598-5770        603 Ruth Street, Springfield  \n",
       "12  826-357-7927        610 Lakeshore Drive, Abilene  \n",
       "13  780-883-7269        222 Lakeshore Drive, Abilene  \n",
       "14  826-643-7227  616 Spring Creek Drive, Waynesburg  \n",
       "15  759-315-2580        871 Lakeshore Drive, Abilene  \n",
       "16  956-277-5715        787 Ruth Street, Springfield  \n",
       "17  716-713-9011        461 Lakeshore Drive, Abilene  \n",
       "18  775-553-2558        744 Ruth Street, Springfield  \n",
       "19  279-705-3782        832 Lakeshore Drive, Abilene  "
      ]
     },
     "execution_count": 1,
     "metadata": {},
     "output_type": "execute_result"
    }
   ],
   "source": [
    "# Displaying the data of 'student_data.xlsx'\n",
    "import pandas as pd\n",
    "data = pd.read_excel('student_data.xlsx')  \n",
    "data"
   ]
  },
  {
   "cell_type": "markdown",
   "metadata": {},
   "source": [
    "#### 1) Loading data from Excel file"
   ]
  },
  {
   "cell_type": "code",
   "execution_count": 2,
   "metadata": {},
   "outputs": [],
   "source": [
    "import xlrd\n",
    "book = xlrd.open_workbook('student_data.xlsx')\n",
    "sheet = book.sheet_by_name('Sheet1')"
   ]
  },
  {
   "cell_type": "markdown",
   "metadata": {},
   "source": [
    "#### 2) Establishing connection to the database & creating the table"
   ]
  },
  {
   "cell_type": "code",
   "execution_count": 3,
   "metadata": {},
   "outputs": [],
   "source": [
    "import mysql.connector as msq\n",
    "db = msq.connect(host='localhost', user='root', password='MySqlPass234', database='mydb')\n",
    "curs = db.cursor(buffered=True)\n",
    "\n",
    "# Creating table - 'student'\n",
    "tab_q = 'CREATE TABLE student(StudentID varchar(50), FirstName varchar(50), LastName varchar(50),\\\n",
    "         DateOfBirth varchar(50), Email varchar(50), Phone varchar(50), Address varchar(50))'\n",
    "curs.execute(tab_q)"
   ]
  },
  {
   "cell_type": "markdown",
   "metadata": {},
   "source": [
    "#### 3) Inserting values into the table"
   ]
  },
  {
   "cell_type": "code",
   "execution_count": 4,
   "metadata": {},
   "outputs": [
    {
     "name": "stdout",
     "output_type": "stream",
     "text": [
      "Successfully inserted 21 rows and 7 columns into the student table!\n"
     ]
    }
   ],
   "source": [
    "# Inserting Excel data into student table\n",
    "query = 'INSERT INTO student(StudentID, FirstName, LastName, DateOfBirth, Email, Phone, Address)\\\n",
    "         VALUES (%s, %s, %s, %s, %s, %s, %s)'\n",
    "\n",
    "for r in range(1, sheet.nrows):\n",
    "    StudentID = sheet.cell(r, 0).value\n",
    "    FirstName = sheet.cell(r, 1).value\n",
    "    LastName = sheet.cell(r, 2).value\n",
    "    DateOfBirth = sheet.cell(r, 3).value\n",
    "    Email = sheet.cell(r, 4).value\n",
    "    Phone = sheet.cell(r, 5).value\n",
    "    Address = sheet.cell(r, 6).value\n",
    "    values = (StudentID, FirstName, LastName, DateOfBirth, Email, Phone, Address)\n",
    "    curs.execute(query, values)\n",
    "db.commit()\n",
    "print(f'Successfully inserted {sheet.nrows} rows and {sheet.ncols} columns into the student table!')"
   ]
  },
  {
   "cell_type": "markdown",
   "metadata": {},
   "source": [
    "#### 4) Performing operations on the data stored into the table"
   ]
  },
  {
   "cell_type": "code",
   "execution_count": 5,
   "metadata": {},
   "outputs": [
    {
     "name": "stdout",
     "output_type": "stream",
     "text": [
      "STUDENT DETAILS:\n",
      "Student ID, First Name, Last Name, Date of Birth, Email, Phone, Address\n",
      "-----------------------------------------------------------------------\n",
      "('Q1001', 'Luke', 'Baxley', '01/02/1998', 'lpb@myUniversity.com', '780-883-7269', '222 Lakeshore Drive, Abilene')\n",
      "('Q1002', 'Marnie', 'Lemmons', '11/07/1998', 'mgl@myUniversity.com', '826-443-7227', '610 Spring Creek Drive, Waynesburg')\n",
      "('Q1003', 'Anne', 'Scott', '02/02/1997', 'afs@myUniversity.com', '759-315-2580', '871 Lakeshore Drive, Abilene')\n",
      "('Q1004', 'Lucy', 'Blakeslee', '03/02/2000', 'lbb@myUniversity.com', '956-277-5715', '787 Ruth Street, Springfield')\n",
      "('Q1005', 'Chelsea', 'Vlassman', '01/24/1997', 'scv@myUniversity.com', '716-713-9011', '461 Lakeshore Drive, Abilene')\n",
      "('Q1006', 'Kelly', 'Hudson', '01/25/1999', 'mkh@myUniversity.com', '775-553-2558', '744 Ruth Street, Springfield')\n",
      "('Q1007', 'Todd', 'Robertson', '01/21/1997', 'gtw@myUniversity.com', '279-705-3782', '832 Lakeshore Drive, Abilene')\n",
      "('Q1008', 'Kirk', 'Mitchell', '01/20/1997', 'jkm@myUniversity.com', '937-857-9883', '793 Ruth Street, Springfield')\n",
      "('Q1009', 'Suzanne', 'Dunn', '11/20/1997', 'ksd@myUniversity.com', '985-677-7127', '587 Lakeshore Drive, Abilene')\n",
      "('Q1010', 'Tina', 'Drew', '01/04/1998', 'tmd@myUniversity.com', '909-318-2642', '725 Ruth Street, Springfield')\n",
      "('Q1011', 'Alan', 'Roman', '01/05/1998', 'alr@myUniversity.com', '141-999-1475', '364 Lakeshore Drive, Abilene')\n",
      "('Q1012', 'Jie', 'Woo', '01/06/2000', 'jjw@myUniversity.com', '768-598-5770', '603 Ruth Street, Springfield')\n",
      "('Q1013', 'Ruth', 'Langford', '01/07/1998', 'srl@myUniversity.com', '826-357-7927', '610 Lakeshore Drive, Abilene')\n",
      "('Q1014', 'Peyton', 'Baxley', '02/07/1999', 'pjb@myUniversity.com', '780-883-7269', '222 Lakeshore Drive, Abilene')\n",
      "('Q1015', 'Shawna', 'Rose', '12/05/1997', 'snr@myUniversity.com', '826-643-7227', '616 Spring Creek Drive, Waynesburg')\n",
      "('Q1016', 'Kimberly', 'Macaw', '12/02/1998', 'kmm@myUniversity.com', '759-315-2580', '871 Lakeshore Drive, Abilene')\n",
      "('Q1017', 'Faustina', 'Hicks', '01/24/1997', 'fah@myUniversity.com', '956-277-5715', '787 Ruth Street, Springfield')\n",
      "('Q1018', 'Melissa', 'Meeks', '01/25/1999', 'scv@myUniversity.com', '716-713-9011', '461 Lakeshore Drive, Abilene')\n",
      "('Q1019', 'Shelly', 'McFarlen', '01/21/1997', 'sdm@myUniversity.com', '775-553-2558', '744 Ruth Street, Springfield')\n",
      "('Q1020', 'Alexandro', 'Lopez', '01/20/1997', 'ajl@myUniversity.com', '279-705-3782', '832 Lakeshore Drive, Abilene')\n"
     ]
    }
   ],
   "source": [
    "# Displaying some data of student table \n",
    "query = 'SELECT * FROM student'\n",
    "curs.execute(query)\n",
    "details = curs.fetchall()\n",
    "print(f'STUDENT DETAILS:\\nStudent ID, First Name, Last Name, Date of Birth, Email, Phone, Address\\n{\"-\"*71}')\n",
    "for detail in details:\n",
    "    print(detail)"
   ]
  },
  {
   "cell_type": "code",
   "execution_count": 6,
   "metadata": {},
   "outputs": [
    {
     "name": "stdout",
     "output_type": "stream",
     "text": [
      "DETAILS OF STUDENTS WHO ARE FROM Abilene\n",
      "Student ID, First Name, Address\n",
      "-------------------------------\n",
      "('Q1001', 'Luke', '222 Lakeshore Drive, Abilene')\n",
      "('Q1003', 'Anne', '871 Lakeshore Drive, Abilene')\n",
      "('Q1005', 'Chelsea', '461 Lakeshore Drive, Abilene')\n",
      "('Q1007', 'Todd', '832 Lakeshore Drive, Abilene')\n",
      "('Q1009', 'Suzanne', '587 Lakeshore Drive, Abilene')\n",
      "('Q1011', 'Alan', '364 Lakeshore Drive, Abilene')\n",
      "('Q1013', 'Ruth', '610 Lakeshore Drive, Abilene')\n",
      "('Q1014', 'Peyton', '222 Lakeshore Drive, Abilene')\n",
      "('Q1016', 'Kimberly', '871 Lakeshore Drive, Abilene')\n",
      "('Q1018', 'Melissa', '461 Lakeshore Drive, Abilene')\n",
      "('Q1020', 'Alexandro', '832 Lakeshore Drive, Abilene')\n"
     ]
    }
   ],
   "source": [
    "# Displaying details of student who are from 'Abilene'\n",
    "query = \"SELECT StudentID, FirstName, Address FROM student WHERE address LIKE '%Abilene%'\"\n",
    "curs.execute(query)\n",
    "students = curs.fetchall()\n",
    "print('DETAILS OF STUDENTS WHO ARE FROM Abilene')\n",
    "print(f'Student ID, First Name, Address\\n{\"-\"*31}')\n",
    "for student in students:\n",
    "    print(student)"
   ]
  },
  {
   "cell_type": "code",
   "execution_count": 7,
   "metadata": {},
   "outputs": [
    {
     "name": "stdout",
     "output_type": "stream",
     "text": [
      "DETAILS OF STUDENTS BORN IN 1997\n",
      "Student ID, First Name, Date of Birth\n",
      "-------------------------------------\n",
      "('Q1003', 'Anne', '02/02/1997')\n",
      "('Q1005', 'Chelsea', '01/24/1997')\n",
      "('Q1007', 'Todd', '01/21/1997')\n",
      "('Q1008', 'Kirk', '01/20/1997')\n",
      "('Q1009', 'Suzanne', '11/20/1997')\n",
      "('Q1015', 'Shawna', '12/05/1997')\n",
      "('Q1017', 'Faustina', '01/24/1997')\n",
      "('Q1019', 'Shelly', '01/21/1997')\n",
      "('Q1020', 'Alexandro', '01/20/1997')\n"
     ]
    }
   ],
   "source": [
    "# Displaying details of students born in 1997\n",
    "query = \"SELECT StudentID, FirstName, DateOfBirth FROM student WHERE DateOfBirth LIKE '%1997%'\"\n",
    "curs.execute(query)\n",
    "students = curs.fetchall()\n",
    "print('DETAILS OF STUDENTS BORN IN 1997')\n",
    "print(f'Student ID, First Name, Date of Birth\\n{\"-\"*37}')\n",
    "for student in students:\n",
    "    print(student)"
   ]
  },
  {
   "cell_type": "code",
   "execution_count": 8,
   "metadata": {},
   "outputs": [
    {
     "name": "stdout",
     "output_type": "stream",
     "text": [
      "DETAILS OF STUDENTS - SORTED BY FIRSTNAME\n",
      "Student ID, First Name, Last Name\n",
      "---------------------------------\n",
      "('Q1011', 'Alan', 'Roman')\n",
      "('Q1020', 'Alexandro', 'Lopez')\n",
      "('Q1003', 'Anne', 'Scott')\n",
      "('Q1005', 'Chelsea', 'Vlassman')\n",
      "('Q1017', 'Faustina', 'Hicks')\n",
      "('Q1012', 'Jie', 'Woo')\n",
      "('Q1006', 'Kelly', 'Hudson')\n",
      "('Q1016', 'Kimberly', 'Macaw')\n",
      "('Q1008', 'Kirk', 'Mitchell')\n",
      "('Q1004', 'Lucy', 'Blakeslee')\n",
      "('Q1001', 'Luke', 'Baxley')\n",
      "('Q1002', 'Marnie', 'Lemmons')\n",
      "('Q1018', 'Melissa', 'Meeks')\n",
      "('Q1014', 'Peyton', 'Baxley')\n",
      "('Q1013', 'Ruth', 'Langford')\n",
      "('Q1015', 'Shawna', 'Rose')\n",
      "('Q1019', 'Shelly', 'McFarlen')\n",
      "('Q1009', 'Suzanne', 'Dunn')\n",
      "('Q1010', 'Tina', 'Drew')\n",
      "('Q1007', 'Todd', 'Robertson')\n"
     ]
    }
   ],
   "source": [
    "# Displaying details of students sorted by First Name\n",
    "query = \"SELECT StudentID, FirstName, LastName FROM student ORDER BY FirstName\"\n",
    "curs.execute(query)\n",
    "students = curs.fetchall()\n",
    "print('DETAILS OF STUDENTS - SORTED BY FIRSTNAME')\n",
    "print(f'Student ID, First Name, Last Name\\n{\"-\"*33}')\n",
    "for student in students:\n",
    "    print(student)"
   ]
  },
  {
   "cell_type": "markdown",
   "metadata": {},
   "source": [
    "#### 5) Closing the connection to the database"
   ]
  },
  {
   "cell_type": "code",
   "execution_count": 9,
   "metadata": {},
   "outputs": [],
   "source": [
    "curs.close()\n",
    "db.close()"
   ]
  },
  {
   "cell_type": "markdown",
   "metadata": {},
   "source": [
    "## Thank You!"
   ]
  }
 ],
 "metadata": {
  "kernelspec": {
   "display_name": "Python 3",
   "language": "python",
   "name": "python3"
  },
  "language_info": {
   "codemirror_mode": {
    "name": "ipython",
    "version": 3
   },
   "file_extension": ".py",
   "mimetype": "text/x-python",
   "name": "python",
   "nbconvert_exporter": "python",
   "pygments_lexer": "ipython3",
   "version": "3.8.5"
  }
 },
 "nbformat": 4,
 "nbformat_minor": 4
}
