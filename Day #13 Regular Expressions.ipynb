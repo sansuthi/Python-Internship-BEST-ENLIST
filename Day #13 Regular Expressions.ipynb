{
 "cells": [
  {
   "cell_type": "markdown",
   "metadata": {},
   "source": [
    "## 30 Days Python Bootcamp @BEST-ENLIST\n",
    "\n",
    "### Author: SANDHYA S\n",
    "\n",
    "### Date: 25 June '21\n",
    "\n",
    "## Task: Regular Expressions"
   ]
  },
  {
   "cell_type": "markdown",
   "metadata": {},
   "source": [
    "### A Regular Expression(RegEx) is a sequence of characters that defines a search pattern.\n",
    "#### For example,\n",
    "#### ^b...g$ defines a RegEx pattern. \n",
    "#### • The pattern is: any five letter string starting with b and ending with g. \n",
    "#### • A pattern defined using RegEx can be used to match against a string.\n",
    "\n",
    "Expression:  ^b...g$\t\n",
    "\n",
    "Bag -- No match\n",
    "\n",
    "Buuug -- Match\n",
    "\n",
    "Baaag -- Match\n",
    "\n",
    "Bgm -- No match\n",
    "\n",
    "Buiscuit -- No match\n",
    "\n",
    "#### * Python has a built-in package called re, which can be used to work with Regular Expressions. \n",
    "#### * The re module offers a set of functions that allows us to search a string for a match"
   ]
  },
  {
   "cell_type": "code",
   "execution_count": 1,
   "metadata": {},
   "outputs": [],
   "source": [
    "import re"
   ]
  },
  {
   "cell_type": "markdown",
   "metadata": {},
   "source": [
    "### • re.findall()\n",
    "#### The re.findall() method returns a list of strings containing all matches."
   ]
  },
  {
   "cell_type": "markdown",
   "metadata": {},
   "source": [
    "### • re.split()\n",
    "#### The re.split method splits the string where there is a match and returns a list of strings where the splits have occurred."
   ]
  },
  {
   "cell_type": "markdown",
   "metadata": {},
   "source": [
    "### • re.sub()\n",
    "#### syntax: re.sub(pattern, replace, string)"
   ]
  },
  {
   "cell_type": "markdown",
   "metadata": {},
   "source": [
    "### • re.search()\n",
    "#### The re.search() method takes two arguments: a pattern and a string. The method looks for the first location where the RegEx pattern produces a match with the string."
   ]
  },
  {
   "cell_type": "markdown",
   "metadata": {},
   "source": [
    "# Exercise"
   ]
  },
  {
   "cell_type": "markdown",
   "metadata": {},
   "source": [
    "### 1. Write a program for all the cases which can check a string contains only a certain set of characters \n",
    "### (in this case a-z, A-Z and 0-9)"
   ]
  },
  {
   "cell_type": "code",
   "execution_count": 2,
   "metadata": {},
   "outputs": [],
   "source": [
    "def match_aA0(text):\n",
    "    pattern = '^[a-zA-Z0-9]+$'\n",
    "    match = bool(re.match(pattern, text))\n",
    "    print(f'{text}: {match}')"
   ]
  },
  {
   "cell_type": "code",
   "execution_count": 3,
   "metadata": {},
   "outputs": [
    {
     "name": "stdout",
     "output_type": "stream",
     "text": [
      "Checking for letters & digits only..\n",
      "\n",
      "Java Programming: False\n",
      "Python 3: False\n",
      "30Days30Hours: True\n",
      "RegEx: True\n"
     ]
    }
   ],
   "source": [
    "print('Checking for letters & digits only..\\n')\n",
    "match_aA0('Java Programming')\n",
    "match_aA0('Python 3')\n",
    "match_aA0('30Days30Hours')\n",
    "match_aA0('RegEx')"
   ]
  },
  {
   "cell_type": "markdown",
   "metadata": {},
   "source": [
    "### 2. Write a program that matches a word containing 'ab'"
   ]
  },
  {
   "cell_type": "code",
   "execution_count": 4,
   "metadata": {},
   "outputs": [],
   "source": [
    "def match_ab(text):\n",
    "    pattern = '\\w*ab\\w*'\n",
    "    if re.search(pattern, text):\n",
    "        print(f'{text}: Match Found!')\n",
    "    else: print(f'{text}: No Match Found!')"
   ]
  },
  {
   "cell_type": "code",
   "execution_count": 5,
   "metadata": {},
   "outputs": [
    {
     "name": "stdout",
     "output_type": "stream",
     "text": [
      "Checking for 'ab' in a word..\n",
      "\n",
      "about: Match Found!\n",
      "crab: Match Found!\n",
      "He was above all a good writer: Match Found!\n",
      "Python Programming: No Match Found!\n"
     ]
    }
   ],
   "source": [
    "print('Checking for \\'ab\\' in a word..\\n')\n",
    "match_ab('about')\n",
    "match_ab('crab')\n",
    "match_ab('He was above all a good writer')\n",
    "match_ab('Python Programming')"
   ]
  },
  {
   "cell_type": "markdown",
   "metadata": {},
   "source": [
    "### 3. Write a program to check for a number at the end of a word/sentence"
   ]
  },
  {
   "cell_type": "code",
   "execution_count": 6,
   "metadata": {},
   "outputs": [],
   "source": [
    "def match_num(text):\n",
    "    pattern = '[0-9]$'\n",
    "    if re.search(pattern, text):\n",
    "        print(f'{text}: Match Found!')\n",
    "    else: print(f'{text}: No Match Found!')"
   ]
  },
  {
   "cell_type": "code",
   "execution_count": 7,
   "metadata": {},
   "outputs": [
    {
     "name": "stdout",
     "output_type": "stream",
     "text": [
      "Checking for a number at the end..\n",
      "\n",
      "Python 3.7: Match Found!\n",
      "Programming: No Match Found!\n",
      "2 cats: No Match Found!\n",
      "I got an iPhone 10: Match Found!\n"
     ]
    }
   ],
   "source": [
    "print('Checking for a number at the end..\\n')\n",
    "match_num('Python 3.7')\n",
    "match_num('Programming')\n",
    "match_num('2 cats')\n",
    "match_num('I got an iPhone 10')"
   ]
  },
  {
   "cell_type": "markdown",
   "metadata": {},
   "source": [
    "### 4. Write a program to search the numbers (0-9) of length between 1 to 3 in a given string"
   ]
  },
  {
   "cell_type": "code",
   "execution_count": 8,
   "metadata": {},
   "outputs": [],
   "source": [
    "def match_09(text):\n",
    "    pattern = '([0-9]{1,3})'\n",
    "    match = re.findall(pattern, text)\n",
    "    print(match)"
   ]
  },
  {
   "cell_type": "code",
   "execution_count": 9,
   "metadata": {},
   "outputs": [
    {
     "name": "stdout",
     "output_type": "stream",
     "text": [
      "['1', '23', '456', '789', '0']\n"
     ]
    }
   ],
   "source": [
    "match_09('Numbers are: 1, 23, 456, 7890')"
   ]
  },
  {
   "cell_type": "code",
   "execution_count": 10,
   "metadata": {},
   "outputs": [
    {
     "name": "stdout",
     "output_type": "stream",
     "text": [
      "['234', '567']\n"
     ]
    }
   ],
   "source": [
    "match_09('Current savings: Rs.234567')"
   ]
  },
  {
   "cell_type": "code",
   "execution_count": 11,
   "metadata": {},
   "outputs": [
    {
     "name": "stdout",
     "output_type": "stream",
     "text": [
      "['3']\n"
     ]
    }
   ],
   "source": [
    "match_09('Python 3 Programming')"
   ]
  },
  {
   "cell_type": "markdown",
   "metadata": {},
   "source": [
    "### 5. Write a program to match a string that contains only uppercase letters"
   ]
  },
  {
   "cell_type": "code",
   "execution_count": 12,
   "metadata": {},
   "outputs": [],
   "source": [
    "def match_upper(text):\n",
    "    pattern = '^[A-Z]+$'\n",
    "    match = bool(re.match(pattern, text))\n",
    "    print(f'{text}: {match}')"
   ]
  },
  {
   "cell_type": "code",
   "execution_count": 13,
   "metadata": {},
   "outputs": [
    {
     "name": "stdout",
     "output_type": "stream",
     "text": [
      "Checking for only uppercase letters..\n",
      "\n",
      "PYTHON: True\n",
      "Programming: False\n",
      "REGULAREXPRESSION: True\n",
      "RegEx: False\n",
      "AN APPLE: False\n"
     ]
    }
   ],
   "source": [
    "print('Checking for only uppercase letters..\\n')\n",
    "match_upper('PYTHON')\n",
    "match_upper('Programming')\n",
    "match_upper('REGULAREXPRESSION')\n",
    "match_upper('RegEx')\n",
    "match_upper('AN APPLE')"
   ]
  },
  {
   "cell_type": "markdown",
   "metadata": {},
   "source": [
    "## Thank You!"
   ]
  }
 ],
 "metadata": {
  "kernelspec": {
   "display_name": "Python 3",
   "language": "python",
   "name": "python3"
  },
  "language_info": {
   "codemirror_mode": {
    "name": "ipython",
    "version": 3
   },
   "file_extension": ".py",
   "mimetype": "text/x-python",
   "name": "python",
   "nbconvert_exporter": "python",
   "pygments_lexer": "ipython3",
   "version": "3.8.5"
  }
 },
 "nbformat": 4,
 "nbformat_minor": 4
}
