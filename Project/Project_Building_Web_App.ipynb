{
 "cells": [
  {
   "cell_type": "markdown",
   "metadata": {},
   "source": [
    "## _Python Bootcamp @ BEST-ENLIST_\n",
    "\n",
    "### _Author: SANDHYA S_\n",
    "\n",
    "### _Date: 29 July '21_\n",
    "\n",
    "## _Project: WEB SCRAPING & BUILDING WEB APP_\n",
    "---"
   ]
  },
  {
   "cell_type": "markdown",
   "metadata": {},
   "source": [
    "### Problem Statement:  _Scrape data from a web app and save it in a local db and then create a similar web app using data from locally saved db._\n",
    "\n",
    "\n",
    "#### LANGUAGE: **PYTHON**  \n",
    "#### DATABASE: **MYSQL**    \n",
    "#### FRAMEWORK: **FLASK**  \n",
    "#### URL: http://quotes.toscrape.com/tag/books/"
   ]
  },
  {
   "cell_type": "code",
   "execution_count": 1,
   "metadata": {},
   "outputs": [],
   "source": [
    "# Establishing database connection to store scraped data\n",
    "import mysql.connector\n",
    "mydb = mysql.connector.connect(host='localhost', user='root', password='password', database='mydb')\n",
    "curs = mydb.cursor()\n",
    "curs.execute(\"CREATE TABLE quotes (Quote VARCHAR(255), Author VARCHAR(50))\")\n",
    "query = 'INSERT INTO quotes(Quote, Author) VALUES(%s, %s)'"
   ]
  },
  {
   "cell_type": "code",
   "execution_count": 2,
   "metadata": {},
   "outputs": [],
   "source": [
    "# Scraping data from the URL: http://quotes.toscrape.com/tag/books/\n",
    "import requests\n",
    "import bs4\n",
    "url = 'http://quotes.toscrape.com/tag/books/'\n",
    "res = requests.get(url)\n",
    "html = res.text\n",
    "soup = bs4.BeautifulSoup(html)\n",
    "quotes = soup.find_all('div',  attrs={\"class\": \"quote\"})\n",
    "\n",
    "# Storing data into the database\n",
    "for quote in quotes:\n",
    "    data = (quote.span.text, quote.find('small').text)\n",
    "    curs.execute(query, data)"
   ]
  },
  {
   "cell_type": "code",
   "execution_count": 3,
   "metadata": {},
   "outputs": [
    {
     "name": "stdout",
     "output_type": "stream",
     "text": [
      "('“The person, be it gentleman or lady, who has not pleasure in a good novel, must be intolerably stupid.”', 'Jane Austen')\n",
      "('“Good friends, good books, and a sleepy conscience: this is the ideal life.”', 'Mark Twain')\n",
      "('“I have always imagined that Paradise will be a kind of library.”', 'Jorge Luis Borges')\n",
      "('“You can never get a cup of tea large enough or a book long enough to suit me.”', 'C.S. Lewis')\n",
      "('“If you only read the books that everyone else is reading, you can only think what everyone else is thinking.”', 'Haruki Murakami')\n",
      "('“There is no friend as loyal as a book.”', 'Ernest Hemingway')\n",
      "(\"“What really knocks me out is a book that, when you're all done reading it, you wish the author that wrote it was a terrific friend of yours and you could call him up on the phone whenever you felt like it. That doesn't happen much, though.”\", 'J.D. Salinger')\n",
      "(\"“′Classic′ - a book which people praise and don't read.”\", 'Mark Twain')\n",
      "('“I declare after all there is no enjoyment like reading! How much sooner one tires of any thing than of a book! -- When I have a house of my own, I shall be miserable if I have not an excellent library.”', 'Jane Austen')\n",
      "('“You have to write the book that wants to be written. And if the book will be too difficult for grown-ups, then you write it for children.”', \"Madeleine L'Engle\")\n"
     ]
    }
   ],
   "source": [
    "curs.execute('SELECT * FROM quotes')\n",
    "quotes = curs.fetchall()\n",
    "for quote in quotes:\n",
    "    print(quote)"
   ]
  },
  {
   "cell_type": "code",
   "execution_count": 8,
   "metadata": {},
   "outputs": [
    {
     "name": "stdout",
     "output_type": "stream",
     "text": [
      " * Serving Flask app \"__main__\" (lazy loading)\n",
      " * Environment: production\n",
      "   WARNING: This is a development server. Do not use it in a production deployment.\n",
      "   Use a production WSGI server instead.\n",
      " * Debug mode: off\n"
     ]
    },
    {
     "name": "stderr",
     "output_type": "stream",
     "text": [
      " * Running on http://127.0.0.1:5000/ (Press CTRL+C to quit)\n",
      "127.0.0.1 - - [29/Jul/2021 19:22:23] \"\u001b[37mGET / HTTP/1.1\u001b[0m\" 200 -\n"
     ]
    }
   ],
   "source": [
    "# Building web app using the scraped data, which is stored in the database\n",
    "from flask import Flask, render_template\n",
    "\n",
    "app = Flask(__name__)\n",
    "\n",
    "@app.route('/')\n",
    "def books():\n",
    "    return render_template('index.html', data=quotes)\n",
    "\n",
    "if __name__ == \"__main__\":\n",
    "    app.run()"
   ]
  },
  {
   "cell_type": "markdown",
   "metadata": {},
   "source": [
    "---"
   ]
  }
 ],
 "metadata": {
  "kernelspec": {
   "display_name": "Python 3 (ipykernel)",
   "language": "python",
   "name": "python3"
  },
  "language_info": {
   "codemirror_mode": {
    "name": "ipython",
    "version": 3
   },
   "file_extension": ".py",
   "mimetype": "text/x-python",
   "name": "python",
   "nbconvert_exporter": "python",
   "pygments_lexer": "ipython3",
   "version": "3.9.1"
  }
 },
 "nbformat": 4,
 "nbformat_minor": 4
}
