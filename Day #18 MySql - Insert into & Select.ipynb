{
 "cells": [
  {
   "cell_type": "markdown",
   "metadata": {},
   "source": [
    "## 30 Days Python Bootcamp @BEST-ENLIST\n",
    "\n",
    "### Author: SANDHYA S\n",
    "\n",
    "### Date: 30 June '21\n",
    "\n",
    "## Task: MySql (Insert into & select)"
   ]
  },
  {
   "cell_type": "markdown",
   "metadata": {},
   "source": [
    "### INSERT INTO\n",
    "- To fill a table in MySQL, use the INSERT INTO statement\n",
    
    "Example: \n",
    "```\n",
    "sql = \"INSERT INTO customers (name, address) VALUES (%s, %s)\"\n",
    "val = (\"Dhoni\", \"Ranchi 7\")\n",
    "mycursor.execute(sql, val)\n",
    "mydb.commit()\n",
    "```\n",
    "- mydb.commit() is important comment, only this changes the table"
   ]
  },
  {
   "cell_type": "markdown",
   "metadata": {},
   "source": [
    "- To insert multiple rows into a table, use the _executemany()_ method. \n",
    "- second parameter of the executemany() method is a list of tuples, containing the data you want to insert.\n",
    
    "Example: \n",
    "```\n",
    "sql = \"INSERT INTO customers (name, address) VALUES (%s, %s)\"\n",
    "val = [('Dhoni', '7'), ('Kohli', '18')]\n",
    "mycursor.executemany(sql, val)\n",
    "mydb.commit()\n",
    "```"
   ]
  },
  {
   "cell_type": "markdown",
   "metadata": {},
   "source": [
    "### SELECT\n",
    "- To select from a table in MySQL, use the SELECT statement\n",
    
    "Example: \n",
    "```\n",
    "mycursor.execute(\"SELECT * FROM customers\")\n",
    "myresult = mycursor.fetchall()\n",
    "for x in myresult:\n",
    "    print(x)\n",
    "```"
   ]
  },
  {
   "cell_type": "markdown",
   "metadata": {},
   "source": [
    "- To select only some of the columns in a table, use the SELECT statement followed by the column\n",
    "```\n",
    "mycursor.execute(\"SELECT name, address FROM customers\")\n",
    "myresult = mycursor.fetchall()\n",
    "for x in myresult:\n",
    "    print(x)\n",
    "```"
   ]
  },
  {
   "cell_type": "markdown",
   "metadata": {},
   "source": [
    "- If you are only interested in one row, you can use the _fetchone()_ method\n",
    "```\n",
    "mycursor.execute(\"SELECT * FROM customers\")\n",
    "myresult = mycursor.fetchone()\n",
    "print(myresult)\n",
    "```"
   ]
  },
  {
   "cell_type": "markdown",
   "metadata": {},
   "source": [
    "# Exercise"
   ]
  },
  {
   "cell_type": "markdown",
   "metadata": {},
   "source": [
    "### 1. Create a table with doctor name, doctor ID & patients visited"
   ]
  },
  {
   "cell_type": "code",
   "execution_count": 1,
   "metadata": {},
   "outputs": [],
   "source": [
    "import mysql.connector as msq"
   ]
  },
  {
   "cell_type": "code",
   "execution_count": 2,
   "metadata": {},
   "outputs": [],
   "source": [
    "conn = msq.connect(host='localhost', user='root', password='password', database='mydb')\n",
    "curs = conn.cursor(buffered=True)"
   ]
  },
  {
   "cell_type": "code",
   "execution_count": 3,
   "metadata": {},
   "outputs": [],
   "source": [
    "# Creating table, 'doctors' and inserting value in it\n",
    "curs.execute('CREATE TABLE Doctors(id integer(7), name VARCHAR(30), patients INTEGER(3))')"
   ]
  },
  {
   "cell_type": "code",
   "execution_count": 4,
   "metadata": {},
   "outputs": [],
   "source": [
    "query = 'INSERT INTO Doctors(Id, Name, patients) VALUES(%s, %s, %s)'\n",
    "data = [(2634, 'John', 2), (5135, 'Chris', 9), (7682, 'Sara', 0), (3482, 'Katty', 12), \n",
    "        (1783, 'Kelly', 0), (1290, 'Rose', 7), (8465, 'Ziba', 3), (9084, 'Lisa', 4),\n",
    "        (2067, 'Alice', 10), (4712, 'Dan', 0), (6092, 'George', 7), (5056, 'Jerry', 3),]\n",
    "curs.executemany(query, data)\n",
    "conn.commit()"
   ]
  },
  {
   "cell_type": "code",
   "execution_count": 5,
   "metadata": {},
   "outputs": [
    {
     "name": "stdout",
     "output_type": "stream",
     "text": [
      "Id\tName\tPatients Visited\n",
      "--------------------------------\n",
      "2634\tJohn\t2\n",
      "5135\tChris\t9\n",
      "7682\tSara\t0\n",
      "3482\tKatty\t12\n",
      "1783\tKelly\t0\n",
      "1290\tRose\t7\n",
      "8465\tZiba\t3\n",
      "9084\tLisa\t4\n",
      "2067\tAlice\t10\n",
      "4712\tDan\t0\n",
      "6092\tGeorge\t7\n",
      "5056\tJerry\t3\n"
     ]
    }
   ],
   "source": [
    "# Displaying Doctors' details\n",
    "query = 'SELECT * FROM Doctors'\n",
    "curs.execute(query)\n",
    "details = curs.fetchall()\n",
    "\n",
    "print('Id\\tName\\tPatients Visited')\n",
    "print('-'*32)\n",
    "for detail in details:\n",
    "    print(f'{detail[0]}\\t{detail[1]}\\t{detail[2]}')"
   ]
  },
  {
   "cell_type": "markdown",
   "metadata": {},
   "source": [
    "### 2. Get the doctor(s) who have more than 5 patients visited"
   ]
  },
  {
   "cell_type": "code",
   "execution_count": 6,
   "metadata": {},
   "outputs": [
    {
     "name": "stdout",
     "output_type": "stream",
     "text": [
      "Doctor(s) who have more than 5 patients visited\n",
      "\n",
      "Id\tName\n",
      "------------\n",
      "5135\tChris\n",
      "3482\tKatty\n",
      "1290\tRose\n",
      "2067\tAlice\n",
      "6092\tGeorge\n"
     ]
    }
   ],
   "source": [
    "query = 'SELECT * FROM Doctors WHERE patients > 5'\n",
    "curs.execute(query)\n",
    "details = curs.fetchall()\n",
    "print('Doctor(s) who have more than 5 patients visited\\n')\n",
    "print('Id\\tName')\n",
    "print('-'*12)\n",
    "for detail in details:\n",
    "    print(f'{detail[0]}\\t{detail[1]}')"
   ]
  },
  {
   "cell_type": "markdown",
   "metadata": {},
   "source": [
    "### 3. Get the doctors with no patients visit"
   ]
  },
  {
   "cell_type": "code",
   "execution_count": 7,
   "metadata": {},
   "outputs": [
    {
     "name": "stdout",
     "output_type": "stream",
     "text": [
      "Doctor(s) with no patient visits\n",
      "\n",
      "Id\tName\n",
      "------------\n",
      "7682\tSara\n",
      "1783\tKelly\n",
      "4712\tDan\n"
     ]
    }
   ],
   "source": [
    "query = 'SELECT * FROM Doctors WHERE patients = 0'\n",
    "curs.execute(query)\n",
    "details = curs.fetchall()\n",
    "print('Doctor(s) with no patient visits\\n')\n",
    "print('Id\\tName')\n",
    "print('-'*12)\n",
    "for detail in details:\n",
    "    print(f'{detail[0]}\\t{detail[1]}')"
   ]
  },
  {
   "cell_type": "markdown",
   "metadata": {},
   "source": [
    "## Thank You!"
   ]
  }
 ],
 "metadata": {
  "kernelspec": {
   "display_name": "Python 3",
   "language": "python",
   "name": "python3"
  },
  "language_info": {
   "codemirror_mode": {
    "name": "ipython",
    "version": 3
   },
   "file_extension": ".py",
   "mimetype": "text/x-python",
   "name": "python",
   "nbconvert_exporter": "python",
   "pygments_lexer": "ipython3",
   "version": "3.8.5"
  }
 },
 "nbformat": 4,
 "nbformat_minor": 4
}
