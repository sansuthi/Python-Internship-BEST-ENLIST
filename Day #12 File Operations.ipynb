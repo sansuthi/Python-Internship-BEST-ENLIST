{
 "cells": [
  {
   "cell_type": "markdown",
   "metadata": {},
   "source": [
    "## 30 Days Python Bootcamp @BEST-ENLIST\n",
    "\n",
    "### Author: SANDHYA S\n",
    "\n",
    "### Date: 24 June '21\n",
    "\n",
    "## Task: File Operations"
   ]
  },
  {
   "cell_type": "markdown",
   "metadata": {},
   "source": [
    "##### •  Read Only ('r'): Open text file for reading \n",
    "##### •\t Read and Write (‘r+’) : Open the file for reading and writing\n",
    "##### •\t Write Only (‘w’) : Open the file for writing. For existing file, the data is truncated and over-written\n",
    "##### •\t Write and Read (‘w+’) : Open the file for reading and writing. For existing file, data is truncated and over-written  \n",
    "##### •\t Append Only (‘a’) : Open the file for writing\n",
    "##### •  Append and Read (‘a+’) : Open the file for reading and writing"
   ]
  },
  {
   "cell_type": "markdown",
   "metadata": {},
   "source": [
    "## 1. Opening a File"
   ]
  },
  {
   "cell_type": "markdown",
   "metadata": {},
   "source": [
    "Open function to open the file \"MyFile1.txt\" (same directory) in append mode"
   ]
  },
  {
   "cell_type": "code",
   "execution_count": 1,
   "metadata": {},
   "outputs": [],
   "source": [
    "file1 = open('MyFile.txt', 'a')  "
   ]
  },
  {
   "cell_type": "markdown",
   "metadata": {},
   "source": [
    "and store its reference in the variable file1 and \"MyFile2.txt\" in D:\\PythonFiles in file2 "
   ]
  },
  {
   "cell_type": "code",
   "execution_count": 2,
   "metadata": {},
   "outputs": [],
   "source": [
    "file2 = open(r'D:\\PythonFiles\\MyFile2.txt', 'w+')"
   ]
  },
  {
   "cell_type": "markdown",
   "metadata": {},
   "source": [
    "## 2. Closing a file"
   ]
  },
  {
   "cell_type": "markdown",
   "metadata": {},
   "source": [
    "Opening and Closing a file \"MyFile.txt\" for object name file1"
   ]
  },
  {
   "cell_type": "code",
   "execution_count": 3,
   "metadata": {},
   "outputs": [],
   "source": [
    "file1 = open('MyFile.txt', 'a') \n",
    "file1.close() "
   ]
  },
  {
   "cell_type": "markdown",
   "metadata": {},
   "source": [
    "## 3. Writing to a file\n",
    "\n",
    "#### write() : Inserts the string str1 in a single line in the text file\n",
    "\n",
    "#### writelines() : For a list of string elements, each string is inserted in the text file.Used to insert multiple strings at a single time\n"
   ]
  },
  {
   "cell_type": "markdown",
   "metadata": {},
   "source": [
    "### • Program to show various ways to read and write data in a file"
   ]
  },
  {
   "cell_type": "code",
   "execution_count": 4,
   "metadata": {},
   "outputs": [],
   "source": [
    "file1 = open('myfile.txt', 'w') \n",
    "L = ['This is Delhi \\n', 'This is Paris \\n', 'This is London \\n'] \n",
    "file1.write('Hello \\n') \n",
    "file1.writelines(L) \n",
    "file1.close() "
   ]
  },
  {
   "cell_type": "markdown",
   "metadata": {},
   "source": [
    "#### \\n is placed to indicate EOL (End of Line) "
   ]
  },
  {
   "cell_type": "code",
   "execution_count": 5,
   "metadata": {},
   "outputs": [
    {
     "name": "stdout",
     "output_type": "stream",
     "text": [
      "myfile.txt content:\n",
      "\n",
      "Hello \n",
      "This is Delhi \n",
      "This is Paris \n",
      "This is London \n",
      "\n"
     ]
    }
   ],
   "source": [
    "file1 = open('myfile.txt', 'r+') \n",
    "print('myfile.txt content:\\n')\n",
    "print(file1.read()) "
   ]
  },
  {
   "cell_type": "markdown",
   "metadata": {},
   "source": [
    "#### seek(n) takes the file handle to the nth bite from the beginning"
   ]
  },
  {
   "cell_type": "code",
   "execution_count": 6,
   "metadata": {},
   "outputs": [
    {
     "name": "stdout",
     "output_type": "stream",
     "text": [
      "myfile.txt content:\n",
      "\n",
      "Hello \n",
      "\n"
     ]
    },
    {
     "data": {
      "text/plain": [
       "0"
      ]
     },
     "execution_count": 6,
     "metadata": {},
     "output_type": "execute_result"
    }
   ],
   "source": [
    "file1.seek(0)\n",
    "\n",
    "print('myfile.txt content:\\n')\n",
    "print(file1.readline())\n",
    "file1.seek(0)"
   ]
  },
  {
   "cell_type": "markdown",
   "metadata": {},
   "source": [
    "### read(), readline() & readlines()"
   ]
  },
  {
   "cell_type": "code",
   "execution_count": 7,
   "metadata": {},
   "outputs": [
    {
     "name": "stdout",
     "output_type": "stream",
     "text": [
      "Output of read(9):\n",
      "Hello \n",
      "Th\n",
      "\n",
      "Output of readline(9):\n",
      "Hello \n",
      "\n",
      "Output of readlines():\n",
      "['Hello \\n', 'This is Delhi \\n', 'This is Paris \\n', 'This is London \\n']\n"
     ]
    }
   ],
   "source": [
    "# read()\n",
    "print('Output of read(9):')\n",
    "print(file1.read(9))\n",
    "file1.seek(0) \n",
    "\n",
    "# readline()\n",
    "print('\\nOutput of readline(9):')\n",
    "print(file1.readline(9))\n",
    "file1.seek(0) \n",
    "\n",
    "# readlines()\n",
    "print('Output of readlines():')\n",
    "print(file1.readlines())"
   ]
  },
  {
   "cell_type": "code",
   "execution_count": 8,
   "metadata": {},
   "outputs": [],
   "source": [
    "file1.close()"
   ]
  },
  {
   "cell_type": "markdown",
   "metadata": {},
   "source": [
    "## 4. Appending to a file"
   ]
  },
  {
   "cell_type": "markdown",
   "metadata": {},
   "source": [
    "### • program to illustrate Append vs write mode "
   ]
  },
  {
   "cell_type": "code",
   "execution_count": 9,
   "metadata": {},
   "outputs": [],
   "source": [
    "file1 = open('myfile.txt', 'w') \n",
    "L = ['This is Delhi \\n', 'This is Paris \\n', 'This is London \\n'] \n",
    "file1.writelines(L) \n",
    "file1.close() "
   ]
  },
  {
   "cell_type": "code",
   "execution_count": 10,
   "metadata": {},
   "outputs": [
    {
     "name": "stdout",
     "output_type": "stream",
     "text": [
      "Output of readlines after appending:\n",
      "['This is Delhi \\n', 'This is Paris \\n', 'This is London \\n', 'Today \\n']\n"
     ]
    }
   ],
   "source": [
    "# Append: adds at last \n",
    "file1 = open('myfile.txt', 'a')\n",
    "file1.write('Today \\n') \n",
    "file1.close() \n",
    "\n",
    "file1 = open('myfile.txt', 'r') \n",
    "print('Output of readlines after appending:')\n",
    "print(file1.readlines())\n",
    "file1.close() "
   ]
  },
  {
   "cell_type": "code",
   "execution_count": 11,
   "metadata": {},
   "outputs": [
    {
     "name": "stdout",
     "output_type": "stream",
     "text": [
      "Output of readlines after writing:\n",
      "['Tomorrow \\n']\n"
     ]
    }
   ],
   "source": [
    "# Write: Overwrites \n",
    "file1 = open('myfile.txt', 'w')\n",
    "file1.write('Tomorrow \\n') \n",
    "file1.close() \n",
    "\n",
    "file1 = open('myfile.txt', 'r') \n",
    "print('Output of readlines after writing:')\n",
    "print(file1.readlines())\n",
    "file1.close()"
   ]
  },
  {
   "cell_type": "markdown",
   "metadata": {},
   "source": [
    "# Exercise:"
   ]
  },
  {
   "cell_type": "markdown",
   "metadata": {},
   "source": [
    "## • Create a file 30 days 30 hour \n",
    "### operations\n",
    "### a) Write data in it, 'I have completed 10 days successfully.'\n",
    "### b) Append the data your name in to it.\n",
    "### c) Close the file."
   ]
  },
  {
   "cell_type": "code",
   "execution_count": 12,
   "metadata": {},
   "outputs": [],
   "source": [
    "filename = '30days_30hours.txt'\n",
    "line = 'I have completed 10 days successfully.'\n",
    "name = 'SANDHYA S'"
   ]
  },
  {
   "cell_type": "code",
   "execution_count": 13,
   "metadata": {},
   "outputs": [
    {
     "data": {
      "text/plain": [
       "38"
      ]
     },
     "execution_count": 13,
     "metadata": {},
     "output_type": "execute_result"
    }
   ],
   "source": [
    "# a) Opeining file in w+ mode and writing in it \n",
    "file = open(filename, 'w+')\n",
    "file.write(line)"
   ]
  },
  {
   "cell_type": "code",
   "execution_count": 14,
   "metadata": {},
   "outputs": [
    {
     "data": {
      "text/plain": [
       "10"
      ]
     },
     "execution_count": 14,
     "metadata": {},
     "output_type": "execute_result"
    }
   ],
   "source": [
    "# b) Appending Name into the file\n",
    "file.write('\\n'+ name)"
   ]
  },
  {
   "cell_type": "code",
   "execution_count": 15,
   "metadata": {},
   "outputs": [],
   "source": [
    "# c) Closing the file\n",
    "file.close()"
   ]
  },
  {
   "cell_type": "markdown",
   "metadata": {},
   "source": [
    "### Content of the file - '30days_30hours.txt'"
   ]
  },
  {
   "cell_type": "code",
   "execution_count": 16,
   "metadata": {},
   "outputs": [
    {
     "name": "stdout",
     "output_type": "stream",
     "text": [
      "I have completed 10 days successfully.\n",
      "SANDHYA S\n"
     ]
    }
   ],
   "source": [
    "print(open(filename, 'r').read())"
   ]
  },
  {
   "cell_type": "markdown",
   "metadata": {},
   "source": [
    "## Thank You!"
   ]
  }
 ],
 "metadata": {
  "kernelspec": {
   "display_name": "Python 3",
   "language": "python",
   "name": "python3"
  },
  "language_info": {
   "codemirror_mode": {
    "name": "ipython",
    "version": 3
   },
   "file_extension": ".py",
   "mimetype": "text/x-python",
   "name": "python",
   "nbconvert_exporter": "python",
   "pygments_lexer": "ipython3",
   "version": "3.8.5"
  }
 },
 "nbformat": 4,
 "nbformat_minor": 4
}
