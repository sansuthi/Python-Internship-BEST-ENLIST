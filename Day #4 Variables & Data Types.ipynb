{
 "cells": [
  {
   "cell_type": "markdown",
   "metadata": {},
   "source": [
    "# 30 Days Python Bootcamp @BEST-ENLIST\n",
    "\n",
    "## Author: SANDHYA S\n",
    "\n",
    "## Date: 15 June '21\n",
    "\n",
    "# Task: Exercise - Variables & Data Types"
   ]
  },
  {
   "cell_type": "markdown",
   "metadata": {},
   "source": [
    "## * VARIABLES\n",
    "A variable is initially declared to have a specific data type, and any value assigned to it during its lifetime must always have that type, a variable may be assigned a value of one type and then later re-assigned a value of a different type."
   ]
  },
  {
   "cell_type": "code",
   "execution_count": 1,
   "metadata": {},
   "outputs": [
    {
     "name": "stdout",
     "output_type": "stream",
     "text": [
      "3\n"
     ]
    }
   ],
   "source": [
    "# Example\n",
    "number_of_wheels = 3\n",
    "print(number_of_wheels)"
   ]
  },
  {
   "cell_type": "markdown",
   "metadata": {},
   "source": [
    "#### Variables can store data of different types which has the capability to do different things.\n",
    "\n",
    "* Text Type: str\n",
    "* Numeric Types: int, float, complex\n",
    "* Sequence Types: list, tuple, range\n",
    "* Mapping Type: dict\n",
    "* Set Types: set, frozenset\n",
    "* Boolean Type: bool"
   ]
  },
  {
   "cell_type": "markdown",
   "metadata": {},
   "source": [
    "### 1. Integer"
   ]
  },
  {
   "cell_type": "code",
   "execution_count": 2,
   "metadata": {},
   "outputs": [
    {
     "name": "stdout",
     "output_type": "stream",
     "text": [
      "23537649\n"
     ]
    }
   ],
   "source": [
    "# Example\n",
    "print(23413435 + 124214)"
   ]
  },
  {
   "cell_type": "code",
   "execution_count": 3,
   "metadata": {},
   "outputs": [
    {
     "name": "stdout",
     "output_type": "stream",
     "text": [
      "Number: 234\n",
      "Datatype: <class 'int'>\n"
     ]
    }
   ],
   "source": [
    "number = 234\n",
    "print('Number:', number)\n",
    "print('Datatype:', type(number))"
   ]
  },
  {
   "cell_type": "markdown",
   "metadata": {},
   "source": [
    "### 2. Floating-point numbers"
   ]
  },
  {
   "cell_type": "code",
   "execution_count": 4,
   "metadata": {},
   "outputs": [
    {
     "name": "stdout",
     "output_type": "stream",
     "text": [
      "Value of pie: 3.14\n",
      "Datatype: <class 'float'>\n"
     ]
    }
   ],
   "source": [
    "# Example\n",
    "pie = 3.14\n",
    "print('Value of pie:', pie)\n",
    "print('Datatype:' , type(pie))"
   ]
  },
  {
   "cell_type": "code",
   "execution_count": 5,
   "metadata": {},
   "outputs": [
    {
     "name": "stdout",
     "output_type": "stream",
     "text": [
      "567.266\n"
     ]
    }
   ],
   "source": [
    "print(2.456 + 564.81)"
   ]
  },
  {
   "cell_type": "markdown",
   "metadata": {},
   "source": [
    "### 3. Complex numbers\n",
    "\n",
    "#### < real part > + < imaginary part > j"
   ]
  },
  {
   "cell_type": "code",
   "execution_count": 6,
   "metadata": {},
   "outputs": [
    {
     "name": "stdout",
     "output_type": "stream",
     "text": [
      "Number: (5+7j)\n",
      "Datatype: <class 'complex'>\n"
     ]
    }
   ],
   "source": [
    "# Example\n",
    "number = 5 + 7j\n",
    "print('Number:', number)\n",
    "print('Datatype:', type(number))"
   ]
  },
  {
   "cell_type": "markdown",
   "metadata": {},
   "source": [
    "### 4. String\n",
    "Strings are sequences of character data. The string type in Python is called str"
   ]
  },
  {
   "cell_type": "code",
   "execution_count": 7,
   "metadata": {},
   "outputs": [
    {
     "name": "stdout",
     "output_type": "stream",
     "text": [
      "Text: String\n",
      "Datatype: <class 'str'>\n"
     ]
    }
   ],
   "source": [
    "# Example\n",
    "text = 'String'\n",
    "print('Text:', text)\n",
    "print('Datatype:', type(text))"
   ]
  },
  {
   "cell_type": "markdown",
   "metadata": {},
   "source": [
    "### 5. Boolean\n",
    "Objects of Boolean type may have one of two values True or False"
   ]
  },
  {
   "cell_type": "code",
   "execution_count": 8,
   "metadata": {},
   "outputs": [
    {
     "data": {
      "text/plain": [
       "False"
      ]
     },
     "execution_count": 8,
     "metadata": {},
     "output_type": "execute_result"
    }
   ],
   "source": [
    "# Example\n",
    "234 == 677"
   ]
  },
  {
   "cell_type": "code",
   "execution_count": 9,
   "metadata": {},
   "outputs": [
    {
     "data": {
      "text/plain": [
       "True"
      ]
     },
     "execution_count": 9,
     "metadata": {},
     "output_type": "execute_result"
    }
   ],
   "source": [
    "'String' != 'str'"
   ]
  },
  {
   "cell_type": "code",
   "execution_count": 10,
   "metadata": {},
   "outputs": [
    {
     "name": "stdout",
     "output_type": "stream",
     "text": [
      "Text: True\n",
      "Datatype: <class 'bool'>\n"
     ]
    }
   ],
   "source": [
    "text = 456 < 567\n",
    "print('Text:', text)\n",
    "print('Datatype:', type(text))"
   ]
  },
  {
   "cell_type": "markdown",
   "metadata": {},
   "source": [
    "## * Assigning Values to Variables\n",
    "Python variables do not need explicit declaration to reserve memory space. \n",
    "\n",
    "The declaration happens automatically when you assign a value to a variable. \n",
    "\n",
    "The equal sign (=) is used to assign values to variables."
   ]
  },
  {
   "cell_type": "code",
   "execution_count": 11,
   "metadata": {},
   "outputs": [
    {
     "name": "stdout",
     "output_type": "stream",
     "text": [
      "53 , 78764\n"
     ]
    }
   ],
   "source": [
    "# Integer assignment\n",
    "value = 53\n",
    "number = 78764\n",
    "print(value,',',number)"
   ]
  },
  {
   "cell_type": "code",
   "execution_count": 12,
   "metadata": {},
   "outputs": [
    {
     "name": "stdout",
     "output_type": "stream",
     "text": [
      "3.14 , 4.7\n"
     ]
    }
   ],
   "source": [
    "# Floating point assignment\n",
    "pie = 3.14 \n",
    "discount = 4.7\n",
    "print(pie,',',discount)"
   ]
  },
  {
   "cell_type": "code",
   "execution_count": 13,
   "metadata": {},
   "outputs": [
    {
     "name": "stdout",
     "output_type": "stream",
     "text": [
      "Sun Flower , Peacock\n"
     ]
    }
   ],
   "source": [
    "# String assignment\n",
    "bird = 'Peacock' \n",
    "flower = 'Sun Flower'\n",
    "print(flower,',',bird)"
   ]
  },
  {
   "cell_type": "markdown",
   "metadata": {},
   "source": [
    "## * Multiple Assignment\n",
    "Python allows you to assign a single value to several variables simultaneously. "
   ]
  },
  {
   "cell_type": "code",
   "execution_count": 14,
   "metadata": {},
   "outputs": [
    {
     "name": "stdout",
     "output_type": "stream",
     "text": [
      "A: 25\n",
      "B: 25\n",
      "C: 25\n"
     ]
    }
   ],
   "source": [
    "# Assigning to a same value\n",
    "A = B = C = 25\n",
    "print('A:',A)\n",
    "print('B:',B)\n",
    "print('C:',C)"
   ]
  },
  {
   "cell_type": "code",
   "execution_count": 15,
   "metadata": {},
   "outputs": [
    {
     "name": "stdout",
     "output_type": "stream",
     "text": [
      "Number: 234\n",
      "Pie: 3.14\n",
      "Bird: Parrot\n"
     ]
    }
   ],
   "source": [
    "# Assigning multiple objects to multiple variables\n",
    "number, pie, bird = 234, 3.14, 'Parrot'\n",
    "print('Number:', number)\n",
    "print('Pie:', pie)\n",
    "print('Bird:', bird)"
   ]
  },
  {
   "cell_type": "markdown",
   "metadata": {},
   "source": [
    "# Exercise:"
   ]
  },
  {
   "cell_type": "markdown",
   "metadata": {},
   "source": [
    "### 1.  Create three variables (a,b,c) to same value of any integer &  do the following\n",
    "#### a) Divide a by 10\n",
    "#### b) Multiply b by 50\n",
    "#### c) Add c value by 60"
   ]
  },
  {
   "cell_type": "code",
   "execution_count": 16,
   "metadata": {},
   "outputs": [],
   "source": [
    "# Solution\n",
    "a = b = c = 30"
   ]
  },
  {
   "cell_type": "code",
   "execution_count": 17,
   "metadata": {},
   "outputs": [
    {
     "name": "stdout",
     "output_type": "stream",
     "text": [
      "a: 30\n",
      "a/10: 3.0\n"
     ]
    }
   ],
   "source": [
    "# Part a\n",
    "print('a:', a)\n",
    "print('a/10:', a/10)"
   ]
  },
  {
   "cell_type": "code",
   "execution_count": 18,
   "metadata": {},
   "outputs": [
    {
     "name": "stdout",
     "output_type": "stream",
     "text": [
      "b: 30\n",
      "b*50: 1500\n"
     ]
    }
   ],
   "source": [
    "# Part b\n",
    "print('b:', b)\n",
    "print('b*50:', b*50)"
   ]
  },
  {
   "cell_type": "code",
   "execution_count": 19,
   "metadata": {},
   "outputs": [
    {
     "name": "stdout",
     "output_type": "stream",
     "text": [
      "c: 30\n",
      "c+60: 90\n"
     ]
    }
   ],
   "source": [
    "# Part c\n",
    "print('c:', c)\n",
    "print('c+60:', c+60)"
   ]
  },
  {
   "cell_type": "markdown",
   "metadata": {},
   "source": [
    "### 2. Create a String variable of 5 characters and replace the 3rd character with 'G'"
   ]
  },
  {
   "cell_type": "code",
   "execution_count": 20,
   "metadata": {},
   "outputs": [
    {
     "name": "stdout",
     "output_type": "stream",
     "text": [
      "WORDS\n",
      "WOGDS\n"
     ]
    }
   ],
   "source": [
    "# Solution - Method 1\n",
    "text = 'WORDS'\n",
    "print(text)\n",
    "text = text.replace('R','G')\n",
    "print(text)"
   ]
  },
  {
   "cell_type": "code",
   "execution_count": 21,
   "metadata": {},
   "outputs": [
    {
     "name": "stdout",
     "output_type": "stream",
     "text": [
      "PAINT\n",
      "PAGNT\n"
     ]
    }
   ],
   "source": [
    "# Method 2\n",
    "text = 'PAINT'\n",
    "print(text)\n",
    "text = text.replace(text[2], 'G')\n",
    "print(text)"
   ]
  },
  {
   "cell_type": "markdown",
   "metadata": {},
   "source": [
    "### 3. Create two values (a,b) of int, float data type & convert the vise versa "
   ]
  },
  {
   "cell_type": "code",
   "execution_count": 22,
   "metadata": {},
   "outputs": [
    {
     "name": "stdout",
     "output_type": "stream",
     "text": [
      "a: 567 \n",
      "Datatype: <class 'int'>\n",
      "b: 345.23 \n",
      "Datatype: <class 'float'>\n"
     ]
    }
   ],
   "source": [
    "# Solution\n",
    "a = 567\n",
    "b = 345.23\n",
    "print('a:',a,'\\nDatatype:',type(a))\n",
    "print('b:',b,'\\nDatatype:',type(b))"
   ]
  },
  {
   "cell_type": "code",
   "execution_count": 23,
   "metadata": {},
   "outputs": [
    {
     "name": "stdout",
     "output_type": "stream",
     "text": [
      "a: 567.0 \n",
      "Datatype: <class 'float'>\n",
      "b: 345 \n",
      "Datatype: <class 'int'>\n"
     ]
    }
   ],
   "source": [
    "# Converting data types\n",
    "a = float(a)\n",
    "b = int(b)\n",
    "print('a:',a,'\\nDatatype:',type(a))\n",
    "print('b:',b,'\\nDatatype:',type(b))"
   ]
  },
  {
   "cell_type": "markdown",
   "metadata": {},
   "source": [
    "# Thank You!"
   ]
  }
 ],
 "metadata": {
  "kernelspec": {
   "display_name": "Python 3",
   "language": "python",
   "name": "python3"
  },
  "language_info": {
   "codemirror_mode": {
    "name": "ipython",
    "version": 3
   },
   "file_extension": ".py",
   "mimetype": "text/x-python",
   "name": "python",
   "nbconvert_exporter": "python",
   "pygments_lexer": "ipython3",
   "version": "3.8.5"
  }
 },
 "nbformat": 4,
 "nbformat_minor": 4
}
