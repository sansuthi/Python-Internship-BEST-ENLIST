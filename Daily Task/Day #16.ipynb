{
 "cells": [
  {
   "cell_type": "markdown",
   "metadata": {},
   "source": [
    "## 30 Days Python Bootcamp @BEST-ENLIST\n",
    "\n",
    "### Author: SANDHYA S\n",
    "\n",
    "### Date: 28 June '21\n",
    "\n",
    "## Task: Lambda Function"
   ]
  },
  {
   "cell_type": "markdown",
   "metadata": {},
   "source": [
    "• A lambda function is a small anonymous function & can take any number of arguments, but only have one expression.\n",
    "\n",
    "• Python Lambda function is known as the anonymous function that is defined without a name. Python allows us to not declare the function in the standard manner, i.e., by using the def keyword. Rather, the anonymous functions are declared by using the lambda keyword\n",
    "##### lambda arguments : expression\n",
    "\n",
    "#### Example: Add 10 to argument a, and return the result"
   ]
  },
  {
   "cell_type": "code",
   "execution_count": 1,
   "metadata": {},
   "outputs": [
    {
     "name": "stdout",
     "output_type": "stream",
     "text": [
      "15\n"
     ]
    }
   ],
   "source": [
    "a = lambda m : m + 10\n",
    "print(a(5))"
   ]
  },
  {
   "cell_type": "markdown",
   "metadata": {},
   "source": [
    "• a bound variable is an argument to a lambda function In contrast, a free variable is not bound and may be referenced in the body of the expression. A free variable can be a constant or a variable defined in the enclosing scope of a function.\n",
    "\n",
    "• Lambda functions can take any number of arguments\n",
    "\n",
    "• The power of lambda is better shown when you use them as an anonymous function inside another function, when you have a function definition that takes one argument, and that argument will be multiplied with an unknown number"
   ]
  },
  {
   "cell_type": "code",
   "execution_count": 2,
   "metadata": {},
   "outputs": [
    {
     "name": "stdout",
     "output_type": "stream",
     "text": [
      "<function myfunc.<locals>.<lambda> at 0x0000023E5570B8B0>\n"
     ]
    }
   ],
   "source": [
    "def myfunc(n):\n",
    "    return lambda a : a * n\n",
    "\n",
    "mydoubler = myfunc(2)\n",
    "print(mydoubler)"
   ]
  },
  {
   "cell_type": "code",
   "execution_count": 3,
   "metadata": {},
   "outputs": [
    {
     "name": "stdout",
     "output_type": "stream",
     "text": [
      "22\n"
     ]
    }
   ],
   "source": [
    "print(mydoubler(11))"
   ]
  },
  {
   "cell_type": "markdown",
   "metadata": {},
   "source": [
    "#### Use lambda functions when an anonymous function is required for a short period of time."
   ]
  },
  {
   "cell_type": "markdown",
   "metadata": {},
   "source": [
    "• The Python built-in filter() function accepts a function and a list as an argument. It provides an effective way to filter out all elements of the sequence. It returns the new sequence in which the function evaluates to True."
   ]
  },
  {
   "cell_type": "code",
   "execution_count": 4,
   "metadata": {},
   "outputs": [
    {
     "data": {
      "text/plain": [
       "(21, 42)"
      ]
     },
     "execution_count": 4,
     "metadata": {},
     "output_type": "execute_result"
    }
   ],
   "source": [
    "lst = [7, 14, 21, 28, 35, 42, 49]\n",
    "tuple(filter(lambda x : (x % 3 == 0), lst))"
   ]
  },
  {
   "cell_type": "markdown",
   "metadata": {},
   "source": [
    "• The map() function in Python accepts a function and a list. It gives a new list which contains all modified items returned by the function for each item."
   ]
  },
  {
   "cell_type": "code",
   "execution_count": 5,
   "metadata": {},
   "outputs": [
    {
     "data": {
      "text/plain": [
       "[49, 196, 441, 784, 1225, 1764, 2401]"
      ]
     },
     "execution_count": 5,
     "metadata": {},
     "output_type": "execute_result"
    }
   ],
   "source": [
    "list(map(lambda x : x ** 2, lst))"
   ]
  },
  {
   "cell_type": "markdown",
   "metadata": {},
   "source": [
    "# Exercise:"
   ]
  },
  {
   "cell_type": "markdown",
   "metadata": {},
   "source": [
    "### 1. Create a lambda function that multiplies argument x with argument y "
   ]
  },
  {
   "cell_type": "code",
   "execution_count": 6,
   "metadata": {},
   "outputs": [],
   "source": [
    "product = lambda x, y : x * y"
   ]
  },
  {
   "cell_type": "code",
   "execution_count": 7,
   "metadata": {},
   "outputs": [
    {
     "name": "stdout",
     "output_type": "stream",
     "text": [
      "12 * 3 = 36\n",
      "45 * 6 = 270\n",
      "78 * 9 = 702\n"
     ]
    }
   ],
   "source": [
    "print(f'12 * 3 = {product(12, 3)}')\n",
    "print(f'45 * 6 = {product(45, 6)}')\n",
    "print(f'78 * 9 = {product(78, 9)}')"
   ]
  },
  {
   "cell_type": "markdown",
   "metadata": {},
   "source": [
    "### 2. Write a program to create Fibonacci series to n using Lambda"
   ]
  },
  {
   "cell_type": "code",
   "execution_count": 8,
   "metadata": {},
   "outputs": [],
   "source": [
    "def fibonacci():\n",
    "    n = int(input('Enter the limit: '))\n",
    "    fib = [0, 1]\n",
    "    any(map(lambda x : fib.append(sum(fib[-2:])), range(n-2)))\n",
    "    return fib"
   ]
  },
  {
   "cell_type": "code",
   "execution_count": 9,
   "metadata": {},
   "outputs": [
    {
     "name": "stdout",
     "output_type": "stream",
     "text": [
      "Enter the limit: 7\n",
      "[0, 1, 1, 2, 3, 5, 8]\n"
     ]
    }
   ],
   "source": [
    "print(fibonacci())"
   ]
  },
  {
   "cell_type": "code",
   "execution_count": 10,
   "metadata": {},
   "outputs": [
    {
     "name": "stdout",
     "output_type": "stream",
     "text": [
      "Enter the limit: 12\n",
      "[0, 1, 1, 2, 3, 5, 8, 13, 21, 34, 55, 89]\n"
     ]
    }
   ],
   "source": [
    "print(fibonacci())"
   ]
  },
  {
   "cell_type": "markdown",
   "metadata": {},
   "source": [
    "### 3. Write a program that multiply each number of given list with a given number "
   ]
  },
  {
   "cell_type": "code",
   "execution_count": 11,
   "metadata": {},
   "outputs": [],
   "source": [
    "lst = [12, 23, 34, 45, 56, 67, 78, 89, 90]\n",
    "def mul(n):\n",
    "    return list(map(lambda x : x * n, lst))"
   ]
  },
  {
   "cell_type": "code",
   "execution_count": 12,
   "metadata": {},
   "outputs": [
    {
     "name": "stdout",
     "output_type": "stream",
     "text": [
      "List: [12, 23, 34, 45, 56, 67, 78, 89, 90]\n",
      "\n",
      "List * 3: [36, 69, 102, 135, 168, 201, 234, 267, 270]\n",
      "\n",
      "List * 7: [84, 161, 238, 315, 392, 469, 546, 623, 630]\n"
     ]
    }
   ],
   "source": [
    "print('List:', lst)\n",
    "print('\\nList * 3:', mul(3))\n",
    "print('\\nList * 7:', mul(7))"
   ]
  },
  {
   "cell_type": "markdown",
   "metadata": {},
   "source": [
    "### 4. Write a Python program to find numbers divisible by 9 from a list of numbers "
   ]
  },
  {
   "cell_type": "code",
   "execution_count": 13,
   "metadata": {},
   "outputs": [],
   "source": [
    "lst = [12, 23, 34, 45, 56, 67, 78, 89, 90]\n",
    "div9 = list(filter(lambda x : (x % 9 == 0), lst))"
   ]
  },
  {
   "cell_type": "code",
   "execution_count": 14,
   "metadata": {},
   "outputs": [
    {
     "name": "stdout",
     "output_type": "stream",
     "text": [
      "List: [12, 23, 34, 45, 56, 67, 78, 89, 90]\n",
      "\n",
      "Numbers divisible by 9: [45, 90]\n"
     ]
    }
   ],
   "source": [
    "print('List:', lst)\n",
    "print('\\nNumbers divisible by 9:', div9)"
   ]
  },
  {
   "cell_type": "markdown",
   "metadata": {},
   "source": [
    "### 5. Write a program to count the even numbers in a given list of integers"
   ]
  },
  {
   "cell_type": "code",
   "execution_count": 15,
   "metadata": {},
   "outputs": [],
   "source": [
    "lst = [12, 23, 34, 45, 56, 67, 78, 89, 90]\n",
    "even = list(filter(lambda x : (x % 2 == 0), lst))"
   ]
  },
  {
   "cell_type": "code",
   "execution_count": 16,
   "metadata": {},
   "outputs": [
    {
     "name": "stdout",
     "output_type": "stream",
     "text": [
      "List: [12, 23, 34, 45, 56, 67, 78, 89, 90]\n",
      "\n",
      "Even Numbers: [12, 34, 56, 78, 90]\n",
      "\n",
      "Count: 5\n"
     ]
    }
   ],
   "source": [
    "print('List:', lst)\n",
    "print('\\nEven Numbers:', even)\n",
    "print('\\nCount:', len(even))"
   ]
  },
  {
   "cell_type": "markdown",
   "metadata": {},
   "source": [
    "## Thank You!"
   ]
  }
 ],
 "metadata": {
  "kernelspec": {
   "display_name": "Python 3",
   "language": "python",
   "name": "python3"
  },
  "language_info": {
   "codemirror_mode": {
    "name": "ipython",
    "version": 3
   },
   "file_extension": ".py",
   "mimetype": "text/x-python",
   "name": "python",
   "nbconvert_exporter": "python",
   "pygments_lexer": "ipython3",
   "version": "3.8.5"
  }
 },
 "nbformat": 4,
 "nbformat_minor": 4
}
