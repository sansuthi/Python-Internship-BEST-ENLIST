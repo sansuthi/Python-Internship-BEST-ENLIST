{
 "cells": [
  {
   "cell_type": "markdown",
   "metadata": {},
   "source": [
    "# 30 Days Python Bootcamp @BEST-ENLIST\n",
    "## Author: SANDHYA S\n",
    "## Date: 14 June '21\n",
    "# Task: Simple Registration Form"
   ]
  },
  {
   "cell_type": "code",
   "execution_count": 1,
   "metadata": {},
   "outputs": [],
   "source": [
    "# Importing Library\n",
    "from tkinter import *\n",
    "from tkinter import ttk\n",
    "\n",
    "window = Tk()\n",
    "\n",
    "# Window Title\n",
    "window.title('Employee Registration')\n",
    "\n",
    "# Window size\n",
    "window.geometry('350x325')\n",
    "\n",
    "# Window Color\n",
    "window.configure(background = 'pink')\n",
    "\n",
    "# Label widget for Registration Form\n",
    "label = Label(window, text='Enter details...', font=('Arial',14), bg='pink').grid(row=0, column=0)\n",
    "Name = Label(window, text='Name', font=11, bg='pink').grid(row=1, column=0)\n",
    "Id = Label(window, text='Employee Id', font=11, bg='pink').grid(row=2, column=0)\n",
    "Design = Label(window, text='Designation', font=11, bg='pink').grid(row=3, column=0)\n",
    "Dept = Label(window, text='Department', font=11, bg='pink').grid(row=4, column=0)\n",
    "Gender = Label(window, text='Gender', font=11, bg='pink').grid(row=5, column=0)\n",
    "Email = Label(window, text='Email', font=11, bg='pink').grid(row=6, column=0)\n",
    "Mobile = Label(window, text='Mobile', font=11, bg='pink').grid(row=7, column=0)\n",
    "City = Label(window, text='City', font=11, bg='pink').grid(row=8, column=0)\n",
    "State = Label(window, text='State', font=11, bg='pink').grid(row=9, column=0)\n",
    "pincode = Label(window, text='Pincode', font=11, bg='pink').grid(row=10, column=0)\n",
    "\n",
    "# Radio Button for Gender\n",
    "Radiobutton(window, text='Male', bg='pink', value=1).grid(row=5, column=1)\n",
    "Radiobutton(window, text='Female', bg='pink', value=2).grid(row=5, column=2)\n",
    "\n",
    "# Text Box to accept the input from user\n",
    "name = Entry(window).grid(row=1, column=1)\n",
    "eid = Entry(window).grid(row=2, column=1)\n",
    "des = Entry(window).grid(row=3, column=1)\n",
    "dept = Entry(window).grid(row=4, column=1)\n",
    "email = Entry(window).grid(row=6, column=1)\n",
    "mobile = Entry(window).grid(row=7, column=1)\n",
    "city = Entry(window).grid(row=8, column=1)\n",
    "pincode = Entry(window).grid(row=10, column=1)\n",
    "\n",
    "# Dropdown list for State\n",
    "c=StringVar()\n",
    "state_list = ['Kerala', 'Tamil Nadu', 'Karnataka', 'Andhra Pradesh', 'Telangana']\n",
    "droplist = ttk.OptionMenu(window, c, *state_list).grid(row=9, column=1)\n",
    "c.set('Select your State')\n",
    "\n",
    "# Submit Button\n",
    "submit = ttk.Button(window, text='SUBMIT').grid(row=11,column=1)\n",
    "\n",
    "window.mainloop()"
   ]
  },
  {
   "cell_type": "code",
   "execution_count": 2,
   "metadata": {},
   "outputs": [
    {
     "data": {
      "image/png": "[encoded data removed]",
      "text/plain": [
       "<IPython.core.display.Image object>"
      ]
     },
     "execution_count": 2,
     "metadata": {},
     "output_type": "execute_result"
    }
   ],
   "source": [
    "# Output - Registration Form \n",
    "from IPython import display\n",
    "display.Image('Reg_Form.png')"
   ]
  },
  {
   "cell_type": "markdown",
   "metadata": {},
   "source": [
    "## Thank You!"
   ]
  }
 ],
 "metadata": {
  "kernelspec": {
   "display_name": "Python 3",
   "language": "python",
   "name": "python3"
  },
  "language_info": {
   "codemirror_mode": {
    "name": "ipython",
    "version": 3
   },
   "file_extension": ".py",
   "mimetype": "text/x-python",
   "name": "python",
   "nbconvert_exporter": "python",
   "pygments_lexer": "ipython3",
   "version": "3.8.5"
  }
 },
 "nbformat": 4,
 "nbformat_minor": 4
}
