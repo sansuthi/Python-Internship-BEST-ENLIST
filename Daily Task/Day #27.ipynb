{
 "cells": [
  {
   "cell_type": "markdown",
   "metadata": {},
   "source": [
    "## _30 Days Python Bootcamp @ BEST-ENLIST_\n",
    "\n",
    "### _Author: SANDHYA S_\n",
    "\n",
    "### _Date: 12 July '21_\n",
    "\n",
    "## _Task: BeautifulSoup_\n",
    "---"
   ]
  },
  {
   "cell_type": "markdown",
   "metadata": {},
   "source": [
    "- Scraping is simply a process of extracting (from various means), copying and screening of data.\n",
    "- When we do scraping or extracting data or feeds from the web (like from web-pages or websites), it is termed as web-scraping.\n",
    "- Beautiful Soup is a python package and as the name suggests, parses the unwanted data and helps to organize and format the messy web data by fixing bad HTML and present to us in an easily-traversible XML structures.\n",
    "```\n",
    "pip install beautifulsoup4\n",
    "```"
   ]
  },
  {
   "cell_type": "markdown",
   "metadata": {},
   "source": [
    "```\n",
    "from bs4 import BeautifulSoup\n",
    "import requests\n",
    "url = \"https://www.xlwings.com/index.htm\"\n",
    "req = requests.get(url)\n",
    "soup = BeautifulSoup(req.text, \"html.parser\")\n",
    "print(soup.title)\n",
    "```"
   ]
  },
  {
   "cell_type": "markdown",
   "metadata": {},
   "source": [
    "- When we passed a html document or string to a beautifulsoup constructor, beautifulsoup basically converts a complex html page into different python objects. Below we are going to discuss four major kinds of objects:\n",
    "> - Tag\n",
    "> - NavigableString\n",
    "> - BeautifulSoup\n",
    "> - Comments"
   ]
  },
  {
   "cell_type": "markdown",
   "metadata": {},
   "source": [
    "- A tag object can have any number of attributes. \n",
    "- The tag < b class = \"boldest\" > has an attribute \"class\" whose value is \"boldest\". \n",
    "- Anything that is NOT tag, is basically an attribute and must contain a value. \n",
    "- You can access the attributes either through accessing the keys (like accessing \"class\" in above example) or directly accessing through \".attrs\""
   ]
  },
  {
   "cell_type": "markdown",
   "metadata": {},
   "source": [
    "```\n",
    "tutorialsP = BeautifulSoup(\"<div class='xlwings'></div>\",'lxml')\n",
    "tag2 =xlwings.div\n",
    "tag2['class']\n",
    "```"
   ]
  },
  {
   "cell_type": "markdown",
   "metadata": {},
   "source": [
    "- Some of the HTML5 attributes can have multiple values. Most commonly used is the class-attribute which can have multiple CSS-values. \n",
    "- Others include ‘rel’, ‘rev’, ‘headers’, ‘accesskey’ and ‘accept-charset’."
   ]
  },
  {
   "cell_type": "markdown",
   "metadata": {},
   "source": [
    "```\n",
    "css_soup = BeautifulSoup('<p class=\"body\"></p>')\n",
    "css_soup.p['class']\n",
    "```"
   ]
  },
  {
   "cell_type": "markdown",
   "metadata": {},
   "source": [
    "- The navigablestring object is used to represent the contents of a tag. To access the contents, use “.string” with tag."
   ]
  },
  {
   "cell_type": "markdown",
   "metadata": {},
   "source": [
    "```\n",
    "soup = BeautifulSoup(\"<h2 id='message'>Hello, xlwings!</h2>\")\n",
    "soup.string\n",
    "```"
   ]
  },
  {
   "cell_type": "markdown",
   "metadata": {},
   "source": [
    "```\n",
    "type(soup.string)\n",
    "```"
   ]
  },
  {
   "cell_type": "markdown",
   "metadata": {},
   "source": [
    "- BeautifulSoup is the object created when we try to scrape a web resource. So, it is the complete document which we are trying to scrape. Most of the time, it is treated tag object.\n",
    "- Adding new data/contents to an existing tag is by using tag.append() method. It is very much similar to append() method in Python list."
   ]
  },
  {
   "cell_type": "markdown",
   "metadata": {},
   "source": [
    "---\n",
    "# _Exercise_"
   ]
  },
  {
   "cell_type": "markdown",
   "metadata": {},
   "source": [
    "### _1. Take any webpage, Scrape the data and try to insert only the class data and save it in excel_"
   ]
  },
  {
   "cell_type": "code",
   "execution_count": 1,
   "metadata": {},
   "outputs": [
    {
     "name": "stdout",
     "output_type": "stream",
     "text": [
      "CLASS:\n",
      "{'mw-hidden-catlinks mw-hidden-cats-hidden', 'mw-portlet mw-portlet-personal vector-user-menu-legacy vector-menu', 'mw-portlet mw-portlet-coll-print_export vector-menu vector-menu-portal portal', 'searchButton mw-fallbackSearchButton', 'mw-parser-output', 'read-more-container', 'shortdescription nomobile noexcerpt noprint searchaux', 'mw-editsection', 'vector-menu-heading', 'wbc-editpage', 'mw-portlet mw-portlet-interaction vector-menu vector-menu-portal portal', 'vector-menu-content-list', 'searchButton', 'dmbox-body', 'after-portlet after-portlet-lang', 'mw-headline', 'catlinks', 'vector-menu-content', 'mw-jump-link', 'mw-editsection-bracket', 'selected', 'mw-normal-catlinks', 'uls-after-portlet-link', 'mw-body-content mw-content-ltr', 'image', 'vector-menu-checkbox', 'metadata plainlinks dmbox dmbox-disambig', 'mw-portlet mw-portlet-tb vector-menu vector-menu-portal portal', 'mw-body', 'noprint', 'mw-footer', 'noprint stopMobileRedirectToggle', 'printfooter', 'mw-indicators', 'mw-portlet mw-portlet-navigation vector-menu vector-menu-portal portal', 'mw-portlet mw-portlet-namespaces vector-menu vector-menu-tabs', 'mw-portlet mw-portlet-cactions emptyPortlet vector-menu vector-menu-dropdown', 'mw-portlet mw-portlet-lang vector-menu vector-menu-portal portal', 'external text', 'client-nojs', 'mediawiki ltr sitedir-ltr mw-hide-empty-elt ns-0 ns-subject mw-editable page-Beautiful_Soup rootpage-Beautiful_Soup skin-vector action-view skin-vector-legacy', 'firstHeading', 'wb-langlinks-add wb-langlinks-link', 'anonymous-show', 'mw-wiki-logo', 'mw-portlet mw-portlet-views vector-menu vector-menu-tabs', 'vector-body', 'mw-portlet mw-portlet-variants emptyPortlet vector-menu vector-menu-dropdown', 'extiw'}\n"
     ]
    }
   ],
   "source": [
    "from bs4 import BeautifulSoup\n",
    "import requests\n",
    "\n",
    "class_list = set()\n",
    "url = 'https://en.wikipedia.org/wiki/Beautiful_Soup'\n",
    "page = requests.get(url)\n",
    "soup = BeautifulSoup(page.content , 'html.parser')\n",
    "tags = {tag.name for tag in soup.find_all()}\n",
    "\n",
    "for tag in tags:\n",
    "    for i in soup.find_all(tag):\n",
    "        if i.has_attr(\"class\"):\n",
    "            if len(i['class']) != 0:\n",
    "                class_list.add(\" \".join(i['class']))\n",
    "                \n",
    "print(f'CLASS:\\n{class_list}')"
   ]
  },
  {
   "cell_type": "code",
   "execution_count": 2,
   "metadata": {},
   "outputs": [],
   "source": [
    "# Creating dictionary of list of class and its content \n",
    "class_dict = {'Class': [],\n",
    "              'Text' : []}\n",
    "for clas in class_list:\n",
    "    content = soup.find('div', {\"class\": clas})\n",
    "    text = ''\n",
    "    try:\n",
    "        for i in content.findAll('p'):\n",
    "            text = text + ' ' +  i.text\n",
    "        class_dict['Class'].append(clas)\n",
    "        class_dict['Text'].append(text)\n",
    "    except:\n",
    "        class_dict['Class'].append(clas)\n",
    "        class_dict['Text'].append('None')"
   ]
  },
  {
   "cell_type": "code",
   "execution_count": 3,
   "metadata": {},
   "outputs": [],
   "source": [
    "# Creating DF of the dictionary\n",
    "import pandas as pd\n",
    "df = pd.DataFrame(class_dict)"
   ]
  },
  {
   "cell_type": "code",
   "execution_count": 4,
   "metadata": {},
   "outputs": [
    {
     "data": {
      "text/html": [
       "<div>\n",
       "<style scoped>\n",
       "    .dataframe tbody tr th:only-of-type {\n",
       "        vertical-align: middle;\n",
       "    }\n",
       "\n",
       "    .dataframe tbody tr th {\n",
       "        vertical-align: top;\n",
       "    }\n",
       "\n",
       "    .dataframe thead th {\n",
       "        text-align: right;\n",
       "    }\n",
       "</style>\n",
       "<table border=\"1\" class=\"dataframe\">\n",
       "  <thead>\n",
       "    <tr style=\"text-align: right;\">\n",
       "      <th></th>\n",
       "      <th>Class</th>\n",
       "      <th>Text</th>\n",
       "    </tr>\n",
       "  </thead>\n",
       "  <tbody>\n",
       "    <tr>\n",
       "      <th>0</th>\n",
       "      <td>mw-hidden-catlinks mw-hidden-cats-hidden</td>\n",
       "      <td></td>\n",
       "    </tr>\n",
       "    <tr>\n",
       "      <th>1</th>\n",
       "      <td>mw-portlet mw-portlet-personal vector-user-men...</td>\n",
       "      <td>None</td>\n",
       "    </tr>\n",
       "    <tr>\n",
       "      <th>2</th>\n",
       "      <td>mw-portlet mw-portlet-coll-print_export vector...</td>\n",
       "      <td>None</td>\n",
       "    </tr>\n",
       "    <tr>\n",
       "      <th>3</th>\n",
       "      <td>searchButton mw-fallbackSearchButton</td>\n",
       "      <td>None</td>\n",
       "    </tr>\n",
       "    <tr>\n",
       "      <th>4</th>\n",
       "      <td>mw-parser-output</td>\n",
       "      <td>Beautiful Soup may refer to:\\n</td>\n",
       "    </tr>\n",
       "    <tr>\n",
       "      <th>5</th>\n",
       "      <td>read-more-container</td>\n",
       "      <td></td>\n",
       "    </tr>\n",
       "    <tr>\n",
       "      <th>6</th>\n",
       "      <td>shortdescription nomobile noexcerpt noprint se...</td>\n",
       "      <td></td>\n",
       "    </tr>\n",
       "    <tr>\n",
       "      <th>7</th>\n",
       "      <td>mw-editsection</td>\n",
       "      <td>None</td>\n",
       "    </tr>\n",
       "    <tr>\n",
       "      <th>8</th>\n",
       "      <td>vector-menu-heading</td>\n",
       "      <td>None</td>\n",
       "    </tr>\n",
       "    <tr>\n",
       "      <th>9</th>\n",
       "      <td>wbc-editpage</td>\n",
       "      <td>None</td>\n",
       "    </tr>\n",
       "  </tbody>\n",
       "</table>\n",
       "</div>"
      ],
      "text/plain": [
       "                                               Class  \\\n",
       "0           mw-hidden-catlinks mw-hidden-cats-hidden   \n",
       "1  mw-portlet mw-portlet-personal vector-user-men...   \n",
       "2  mw-portlet mw-portlet-coll-print_export vector...   \n",
       "3               searchButton mw-fallbackSearchButton   \n",
       "4                                   mw-parser-output   \n",
       "5                                read-more-container   \n",
       "6  shortdescription nomobile noexcerpt noprint se...   \n",
       "7                                     mw-editsection   \n",
       "8                                vector-menu-heading   \n",
       "9                                       wbc-editpage   \n",
       "\n",
       "                              Text  \n",
       "0                                   \n",
       "1                             None  \n",
       "2                             None  \n",
       "3                             None  \n",
       "4   Beautiful Soup may refer to:\\n  \n",
       "5                                   \n",
       "6                                   \n",
       "7                             None  \n",
       "8                             None  \n",
       "9                             None  "
      ]
     },
     "execution_count": 4,
     "metadata": {},
     "output_type": "execute_result"
    }
   ],
   "source": [
    "# Displaying first 10 entries\n",
    "df.head(10)"
   ]
  },
  {
   "cell_type": "code",
   "execution_count": 5,
   "metadata": {},
   "outputs": [
    {
     "data": {
      "text/html": [
       "<div>\n",
       "<style scoped>\n",
       "    .dataframe tbody tr th:only-of-type {\n",
       "        vertical-align: middle;\n",
       "    }\n",
       "\n",
       "    .dataframe tbody tr th {\n",
       "        vertical-align: top;\n",
       "    }\n",
       "\n",
       "    .dataframe thead th {\n",
       "        text-align: right;\n",
       "    }\n",
       "</style>\n",
       "<table border=\"1\" class=\"dataframe\">\n",
       "  <thead>\n",
       "    <tr style=\"text-align: right;\">\n",
       "      <th></th>\n",
       "      <th>Class</th>\n",
       "      <th>Text</th>\n",
       "    </tr>\n",
       "  </thead>\n",
       "  <tbody>\n",
       "    <tr>\n",
       "      <th>39</th>\n",
       "      <td>client-nojs</td>\n",
       "      <td>None</td>\n",
       "    </tr>\n",
       "    <tr>\n",
       "      <th>40</th>\n",
       "      <td>mediawiki ltr sitedir-ltr mw-hide-empty-elt ns...</td>\n",
       "      <td>None</td>\n",
       "    </tr>\n",
       "    <tr>\n",
       "      <th>41</th>\n",
       "      <td>firstHeading</td>\n",
       "      <td>None</td>\n",
       "    </tr>\n",
       "    <tr>\n",
       "      <th>42</th>\n",
       "      <td>wb-langlinks-add wb-langlinks-link</td>\n",
       "      <td>None</td>\n",
       "    </tr>\n",
       "    <tr>\n",
       "      <th>43</th>\n",
       "      <td>anonymous-show</td>\n",
       "      <td>None</td>\n",
       "    </tr>\n",
       "    <tr>\n",
       "      <th>44</th>\n",
       "      <td>mw-wiki-logo</td>\n",
       "      <td>None</td>\n",
       "    </tr>\n",
       "    <tr>\n",
       "      <th>45</th>\n",
       "      <td>mw-portlet mw-portlet-views vector-menu vector...</td>\n",
       "      <td>None</td>\n",
       "    </tr>\n",
       "    <tr>\n",
       "      <th>46</th>\n",
       "      <td>vector-body</td>\n",
       "      <td>Beautiful Soup may refer to:\\n</td>\n",
       "    </tr>\n",
       "    <tr>\n",
       "      <th>47</th>\n",
       "      <td>mw-portlet mw-portlet-variants emptyPortlet ve...</td>\n",
       "      <td>None</td>\n",
       "    </tr>\n",
       "    <tr>\n",
       "      <th>48</th>\n",
       "      <td>extiw</td>\n",
       "      <td>None</td>\n",
       "    </tr>\n",
       "  </tbody>\n",
       "</table>\n",
       "</div>"
      ],
      "text/plain": [
       "                                                Class  \\\n",
       "39                                        client-nojs   \n",
       "40  mediawiki ltr sitedir-ltr mw-hide-empty-elt ns...   \n",
       "41                                       firstHeading   \n",
       "42                 wb-langlinks-add wb-langlinks-link   \n",
       "43                                     anonymous-show   \n",
       "44                                       mw-wiki-logo   \n",
       "45  mw-portlet mw-portlet-views vector-menu vector...   \n",
       "46                                        vector-body   \n",
       "47  mw-portlet mw-portlet-variants emptyPortlet ve...   \n",
       "48                                              extiw   \n",
       "\n",
       "                               Text  \n",
       "39                             None  \n",
       "40                             None  \n",
       "41                             None  \n",
       "42                             None  \n",
       "43                             None  \n",
       "44                             None  \n",
       "45                             None  \n",
       "46   Beautiful Soup may refer to:\\n  \n",
       "47                             None  \n",
       "48                             None  "
      ]
     },
     "execution_count": 5,
     "metadata": {},
     "output_type": "execute_result"
    }
   ],
   "source": [
    "# Displaying last 10 entries\n",
    "df.tail(10)"
   ]
  },
  {
   "cell_type": "code",
   "execution_count": 6,
   "metadata": {},
   "outputs": [],
   "source": [
    "# Writing the DF to an excel\n",
    "df.to_excel('Scraped_class.xlsx')"
   ]
  },
  {
   "cell_type": "markdown",
   "metadata": {},
   "source": [
    "---\n",
    "## _Thank You!_"
   ]
  }
 ],
 "metadata": {
  "kernelspec": {
   "display_name": "Python 3",
   "language": "python",
   "name": "python3"
  },
  "language_info": {
   "codemirror_mode": {
    "name": "ipython",
    "version": 3
   },
   "file_extension": ".py",
   "mimetype": "text/x-python",
   "name": "python",
   "nbconvert_exporter": "python",
   "pygments_lexer": "ipython3",
   "version": "3.8.5"
  }
 },
 "nbformat": 4,
 "nbformat_minor": 4
}
