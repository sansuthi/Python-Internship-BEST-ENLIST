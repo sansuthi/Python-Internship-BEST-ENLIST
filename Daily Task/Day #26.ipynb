{
 "cells": [
  {
   "cell_type": "markdown",
   "metadata": {},
   "source": [
    "## _30 Days Python Bootcamp @ BEST-ENLIST_\n",
    "\n",
    "### _Author: SANDHYA S_\n",
    "\n",
    "### _Date: 11 July '21_\n",
    "\n",
    "## _Task: Python enumerate_\n",
    "---"
   ]
  },
  {
   "cell_type": "markdown",
   "metadata": {},
   "source": [
    "- A lot of times when dealing with iterators, we also get a need to keep a count of iterations. \n",
    "- Python eases the programmers’ task by providing a _built-in_ function **enumerate()** for this task.\n",
    "- enumerate() method adds a counter to an iterable and returns it in a form of enumerate object. \n",
    "- This enumerate object can then be used directly in for loops or be converted into a list of tuples using list() method.\n",
    "```\n",
    "enumerate(iterable, start=0)\n",
    "``` \n",
    "> **iterable:** any object that supports iteration  \n",
    "> **start:** the index value from which the counter is to be started, by default it is 0   \n",
    "- Example:"
   ]
  },
  {
   "cell_type": "code",
   "execution_count": 1,
   "metadata": {},
   "outputs": [
    {
     "name": "stdout",
     "output_type": "stream",
     "text": [
      "Return type: <class 'enumerate'>\n"
     ]
    }
   ],
   "source": [
    "l1 = ['Cat', 'Dog', 'Pig'] \n",
    "s1 = 'BLUE'\n",
    "  \n",
    "# creating enumerate objects \n",
    "obj1 = enumerate(l1) \n",
    "obj2 = enumerate(s1) \n",
    "print(\"Return type:\",type(obj1))"
   ]
  },
  {
   "cell_type": "code",
   "execution_count": 2,
   "metadata": {},
   "outputs": [
    {
     "name": "stdout",
     "output_type": "stream",
     "text": [
      "[(0, 'Cat'), (1, 'Dog'), (2, 'Pig')]\n"
     ]
    }
   ],
   "source": [
    "print(list(enumerate(l1)))"
   ]
  },
  {
   "cell_type": "code",
   "execution_count": 3,
   "metadata": {},
   "outputs": [
    {
     "name": "stdout",
     "output_type": "stream",
     "text": [
      "[(3, 'B'), (4, 'L'), (5, 'U'), (6, 'E')]\n"
     ]
    }
   ],
   "source": [
    "# changing start index to 2 from 0 \n",
    "print(list(enumerate(s1, 3)))"
   ]
  },
  {
   "cell_type": "markdown",
   "metadata": {},
   "source": [
    "- The enumerate() function takes a collection (e.g. a tuple) and returns it as an enumerate object.\n",
    "- The enumerate() function adds a **counter** as the key of the enumerate object.\n",
    "- You can convert enumerate objects to list and tuple using list() and tuple() method respectively."
   ]
  },
  {
   "cell_type": "markdown",
   "metadata": {},
   "source": [
    "---\n",
    "# _Exercise_"
   ]
  },
  {
   "cell_type": "markdown",
   "metadata": {},
   "source": [
    "### _1. Enumerate a python list and try to print the counter with the list value_"
   ]
  },
  {
   "cell_type": "code",
   "execution_count": 4,
   "metadata": {},
   "outputs": [
    {
     "name": "stdout",
     "output_type": "stream",
     "text": [
      "[(1, 'Violet'), (2, 'Indigo'), (3, 'Blue'), (4, 'Green'), (5, 'Yellow'), (6, 'Orange'), (7, 'Red')]\n"
     ]
    }
   ],
   "source": [
    "colors = ['Violet', 'Indigo', 'Blue', 'Green', 'Yellow', 'Orange', 'Red']\n",
    "col_lst = list(enumerate(colors, 1))\n",
    "print(col_lst)"
   ]
  },
  {
   "cell_type": "code",
   "execution_count": 5,
   "metadata": {},
   "outputs": [
    {
     "name": "stdout",
     "output_type": "stream",
     "text": [
      "1 Violet\n",
      "2 Indigo\n",
      "3 Blue\n",
      "4 Green\n",
      "5 Yellow\n",
      "6 Orange\n",
      "7 Red\n"
     ]
    }
   ],
   "source": [
    "for count, color in enumerate(colors, 1):\n",
    "    print(count, color)"
   ]
  },
  {
   "cell_type": "markdown",
   "metadata": {},
   "source": [
    "### _2. Enumerate a python tuple and try to print the counter with the tuple value_"
   ]
  },
  {
   "cell_type": "code",
   "execution_count": 6,
   "metadata": {},
   "outputs": [
    {
     "name": "stdout",
     "output_type": "stream",
     "text": [
      "((101, 'Bear'), (102, 'Giraffe'), (103, 'Pig'), (104, 'Rabbit'), (105, 'Elephant'))\n"
     ]
    }
   ],
   "source": [
    "animals = ('Bear', 'Giraffe', 'Pig', 'Rabbit', 'Elephant')\n",
    "anim_tup = tuple(enumerate(animals, 101))\n",
    "print(anim_tup)"
   ]
  },
  {
   "cell_type": "code",
   "execution_count": 7,
   "metadata": {},
   "outputs": [
    {
     "name": "stdout",
     "output_type": "stream",
     "text": [
      "101 Bear\n",
      "102 Giraffe\n",
      "103 Pig\n",
      "104 Rabbit\n",
      "105 Elephant\n"
     ]
    }
   ],
   "source": [
    "for count, animal in enumerate(animals, 101):\n",
    "    print(count, animal)"
   ]
  },
  {
   "cell_type": "markdown",
   "metadata": {},
   "source": [
    "---\n",
    "## _Thank You!_"
   ]
  }
 ],
 "metadata": {
  "kernelspec": {
   "display_name": "Python 3",
   "language": "python",
   "name": "python3"
  },
  "language_info": {
   "codemirror_mode": {
    "name": "ipython",
    "version": 3
   },
   "file_extension": ".py",
   "mimetype": "text/x-python",
   "name": "python",
   "nbconvert_exporter": "python",
   "pygments_lexer": "ipython3",
   "version": "3.8.5"
  }
 },
 "nbformat": 4,
 "nbformat_minor": 4
}
