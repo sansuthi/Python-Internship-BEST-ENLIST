{
 "cells": [
  {
   "cell_type": "markdown",
   "metadata": {},
   "source": [
    "## _30 Days Python Bootcamp @ BEST-ENLIST_\n",
    "\n",
    "### _Author: SANDHYA S_\n",
    "\n",
    "### _Date: 02 July '21_\n",
    "\n",
    "## _Task: MySql - JOIN_\n",
    "---"
   ]
  },
  {
   "cell_type": "markdown",
   "metadata": {},
   "source": [
    "- You can combine rows from two or more tables, based on a related column between them, by using a JOIN statement.\n",
    "```\n",
    "sql = \"SELECT users.name AS user, products.name AS favorite FROM users\\\n",
    "        INNER JOIN products ON users.fav = products.id\"\n",
    "mycursor.execute(sql)\n",
    "myresult = mycursor.fetchall()\n",
    "```"
   ]
  },
  {
   "cell_type": "markdown",
   "metadata": {},
   "source": [
    "- If you want to show all users, even if they do not have a favourite product, use the LEFT JOIN statement.\n",
    "```\n",
    "sql = \"SELECT users.name AS user, products.name AS favorite FROM users\\\n",
    "        LEFT JOIN products ON users.fav = products.id\"\n",
    "```"
   ]
  },
  {
   "cell_type": "markdown",
   "metadata": {},
   "source": [
    "- If you want to return all products, and the users who have them as their favorite, even if no user have them as their favorite, use the RIGHT JOIN statement.\n",
    "```\n",
    "sql = \"SELECT users.name AS user, products.name AS favorite FROM users\\\n",
    "        RIGHT JOIN products ON users.fav = products.id\"\n",
    "```"
   ]
  },
  {
   "cell_type": "markdown",
   "metadata": {},
   "source": [
    "- You can limit the number of records returned from the query, by using the LIMIT statement\n",
    "```\n",
    "mycursor.execute(\"SELECT * FROM customers LIMIT 5\")\n",
    "myresult = mycursor.fetchall()\n",
    "```\n",
    "---"
   ]
  },
  {
   "cell_type": "markdown",
   "metadata": {},
   "source": [
    "# Exercise"
   ]
  },
  {
   "cell_type": "markdown",
   "metadata": {},
   "source": [
    "## 1. Create an employee Table with employee name, employee ID & Salary\n",
    "> ### a.\tWrite a query to get the maximum and minimum salary from employees table\n",
    "> ### b.\tWrite a query to get the number of employees working with the company\n",
    "> ### c.\tWrite a query to get the first 3 characters of first name from employees table"
   ]
  },
  {
   "cell_type": "code",
   "execution_count": 1,
   "metadata": {},
   "outputs": [],
   "source": [
    "import mysql.connector as msq\n",
    "db = msq.connect(host='localhost', user='root', password='password', database='mydb')\n",
    "cur = db.cursor(buffered=True)\n",
    "\n",
    "# Creating table, 'Employee' \n",
    "tab = 'CREATE TABLE employee(EmpId VARCHAR(7), EmpName VARCHAR(25), EmpSal INTEGER(7))'\n",
    "cur.execute(tab)\n",
    "\n",
    "# Inserting values into the table\n",
    "query = 'INSERT INTO Employee(EmpId, EmpName, EmpSal) VALUES(%s, %s, %s)'\n",
    "data = [('E1001', 'Luke', 24000), ('E1002', 'Marnie', 30000), ('E1003', 'Anne', 43000), ('E1004', 'Lucy', 32000), \n",
    "        ('E1005', 'Chelsea', 25000), ('E1006', 'Kelly', 29000), ('E1007', 'Todd', 31000), ('E1008', 'Kirk', 18000), \n",
    "        ('E1009', 'Suzanne', 21000), ('E1010', 'Tina', 15000), ('E1011', 'Alan', 17000), ('E1012', 'Jie', 45000),\n",
    "        ('E1013', 'Ruth', 37000), ('E1014', 'Peyton', 18000), ('E1015', 'Shawna', 23000), ('E1016', 'Ziba', 35000),\n",
    "        ('E1017', 'Chris', 19000), ('E1018', 'Melissa', 32000), ('E1019', 'Shelly', 18000), ('E1020', 'Alex', 34000)]\n",
    "cur.executemany(query, data)\n",
    "db.commit()"
   ]
  },
  {
   "cell_type": "code",
   "execution_count": 2,
   "metadata": {},
   "outputs": [
    {
     "name": "stdout",
     "output_type": "stream",
     "text": [
      "EMPLOYEE DETAILS:\n",
      "Id\tName\tSalary\n",
      "----------------------\n",
      "E1001\tLuke\t24000\n",
      "E1002\tMarnie\t30000\n",
      "E1003\tAnne\t43000\n",
      "E1004\tLucy\t32000\n",
      "E1005\tChelsea\t25000\n",
      "E1006\tKelly\t29000\n",
      "E1007\tTodd\t31000\n",
      "E1008\tKirk\t18000\n",
      "E1009\tSuzanne\t21000\n",
      "E1010\tTina\t15000\n",
      "E1011\tAlan\t17000\n",
      "E1012\tJie\t45000\n",
      "E1013\tRuth\t37000\n",
      "E1014\tPeyton\t18000\n",
      "E1015\tShawna\t23000\n",
      "E1016\tZiba\t35000\n",
      "E1017\tChris\t19000\n",
      "E1018\tMelissa\t32000\n",
      "E1019\tShelly\t18000\n",
      "E1020\tAlex\t34000\n"
     ]
    }
   ],
   "source": [
    "# Displaying entries of the table\n",
    "query = 'SELECT * FROM employee'\n",
    "cur.execute(query)\n",
    "emp = cur.fetchall()\n",
    "print('EMPLOYEE DETAILS:')\n",
    "print(f'Id\\tName\\tSalary\\n{\"-\"*22}')\n",
    "for i in range(len(emp)):\n",
    "    print(f'{emp[i][0]}\\t{emp[i][1]}\\t{emp[i][2]}')"
   ]
  },
  {
   "cell_type": "markdown",
   "metadata": {},
   "source": [
    "### _a) Maximum and Minimum salary from employees table_"
   ]
  },
  {
   "cell_type": "code",
   "execution_count": 3,
   "metadata": {},
   "outputs": [
    {
     "name": "stdout",
     "output_type": "stream",
     "text": [
      "Employees with Minimum & Maximum Salary:\n",
      "\n",
      "Id\tName\tSalary\n",
      "----------------------\n",
      "E1010\tTina\t15000\n",
      "E1012\tJie\t45000\n"
     ]
    }
   ],
   "source": [
    "query = 'SELECT * FROM employee WHERE EmpSal = (SELECT MIN(EmpSal) FROM employee) OR\\\n",
    "                                      EmpSal = (SELECT MAX(EmpSal) FROM employee)'\n",
    "cur.execute(query)\n",
    "sal = cur.fetchall()\n",
    "print('Employees with Minimum & Maximum Salary:\\n')\n",
    "print(f'Id\\tName\\tSalary\\n{\"-\"*22}')\n",
    "for i in range(2):\n",
    "    print(f'{sal[i][0]}\\t{sal[i][1]}\\t{sal[i][2]}')"
   ]
  },
  {
   "cell_type": "markdown",
   "metadata": {},
   "source": [
    "### _b) Number of employees working with the company_"
   ]
  },
  {
   "cell_type": "code",
   "execution_count": 4,
   "metadata": {},
   "outputs": [
    {
     "name": "stdout",
     "output_type": "stream",
     "text": [
      "Total Number of Employees: 20\n"
     ]
    }
   ],
   "source": [
    "query = 'SELECT COUNT(*) FROM employee'\n",
    "cur.execute(query)\n",
    "total = cur.fetchall()\n",
    "print(f'Total Number of Employees: {total[0][0]}')"
   ]
  },
  {
   "cell_type": "markdown",
   "metadata": {},
   "source": [
    "### _c) First 3 characters of first name from employees table_"
   ]
  },
  {
   "cell_type": "code",
   "execution_count": 5,
   "metadata": {},
   "outputs": [
    {
     "name": "stdout",
     "output_type": "stream",
     "text": [
      "Name(3 Char):\n",
      "------------\n",
      "Luk\n",
      "Mar\n",
      "Ann\n",
      "Luc\n",
      "Che\n",
      "Kel\n",
      "Tod\n",
      "Kir\n",
      "Suz\n",
      "Tin\n",
      "Ala\n",
      "Jie\n",
      "Rut\n",
      "Pey\n",
      "Sha\n",
      "Zib\n",
      "Chr\n",
      "Mel\n",
      "She\n",
      "Ale\n"
     ]
    }
   ],
   "source": [
    "query = 'SELECT SUBSTRING(EmpName, 1, 3) FROM employee'\n",
    "cur.execute(query)\n",
    "three = cur.fetchall()\n",
    "print(f'Name(3 Char):\\n{\"-\"*12}')\n",
    "for i in range(len(three)):\n",
    "    print(three[i][0])"
   ]
  },
  {
   "cell_type": "code",
   "execution_count": 6,
   "metadata": {},
   "outputs": [],
   "source": [
    "cur.execute('DROP TABLE employee')\n",
    "cur.close()\n",
    "db.close()"
   ]
  },
  {
   "cell_type": "markdown",
   "metadata": {},
   "source": [
    "## _Thank You!_\n",
    "---"
   ]
  }
 ],
 "metadata": {
  "kernelspec": {
   "display_name": "Python 3",
   "language": "python",
   "name": "python3"
  },
  "language_info": {
   "codemirror_mode": {
    "name": "ipython",
    "version": 3
   },
   "file_extension": ".py",
   "mimetype": "text/x-python",
   "name": "python",
   "nbconvert_exporter": "python",
   "pygments_lexer": "ipython3",
   "version": "3.8.5"
  }
 },
 "nbformat": 4,
 "nbformat_minor": 4
}
