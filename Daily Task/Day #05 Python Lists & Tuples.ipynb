{
 "cells": [
  {
   "cell_type": "markdown",
   "metadata": {},
   "source": [
    "# 30 Days Python Bootcamp @BEST-ENLIST\n",
    "\n",
    "## Author: SANDHYA S\n",
    "\n",
    "## Date: 16 June '21\n",
    "\n",
    "# Task: User Inputs & Other Important Datatypes"
   ]
  },
  {
   "cell_type": "markdown",
   "metadata": {},
   "source": [
    "## 1. Python User Input\n",
    "\n",
    "• The input() function allows user input \n",
    "\n",
    "• We can assign the user input to a variable"
   ]
  },
  {
   "cell_type": "code",
   "execution_count": 1,
   "metadata": {},
   "outputs": [
    {
     "name": "stdout",
     "output_type": "stream",
     "text": [
      "Enter your favourite color: BLUE\n",
      "Your favourite color is BLUE\n"
     ]
    }
   ],
   "source": [
    "color = input('Enter your favourite color: ')\n",
    "print('Your favourite color is '+ color)"
   ]
  },
  {
   "cell_type": "code",
   "execution_count": 2,
   "metadata": {},
   "outputs": [
    {
     "name": "stdout",
     "output_type": "stream",
     "text": [
      "Enter a number: 3\n",
      "Number: 3\n"
     ]
    }
   ],
   "source": [
    "# Example\n",
    "num = input('Enter a number: ')\n",
    "print('Number: '+ num)"
   ]
  },
  {
   "cell_type": "markdown",
   "metadata": {},
   "source": [
    "## 2. Python Lists"
   ]
  },
  {
   "cell_type": "markdown",
   "metadata": {},
   "source": [
    "### Building a List"
   ]
  },
  {
   "cell_type": "code",
   "execution_count": 3,
   "metadata": {},
   "outputs": [
    {
     "name": "stdout",
     "output_type": "stream",
     "text": [
      "List A: ['a', 'b', 'c']\n",
      "List B: [1, 2, 3]\n"
     ]
    }
   ],
   "source": [
    "A = ['a','b','c']\n",
    "B = [1, 2, 3]\n",
    "print('List A:',A)\n",
    "print('List B:',B)"
   ]
  },
  {
   "cell_type": "markdown",
   "metadata": {},
   "source": [
    "### Accessing a List\n",
    "•\tIndex of list starts from 0"
   ]
  },
  {
   "cell_type": "code",
   "execution_count": 4,
   "metadata": {},
   "outputs": [
    {
     "name": "stdout",
     "output_type": "stream",
     "text": [
      "List A:  ['s', 'c', 'l', 3, 7]\n",
      "First Element: s\n",
      "Third Element: l\n",
      "Last Element: 7\n"
     ]
    }
   ],
   "source": [
    "# Example\n",
    "A = ['s', 'c', 'l', 3, 7]\n",
    "print('List A: ', A)\n",
    "print('First Element:', A[0])\n",
    "print('Third Element:', A[2])\n",
    "print('Last Element:', A[-1])"
   ]
  },
  {
   "cell_type": "code",
   "execution_count": 5,
   "metadata": {},
   "outputs": [
    {
     "name": "stdout",
     "output_type": "stream",
     "text": [
      "['c', 'l', 3]\n"
     ]
    }
   ],
   "source": [
    "# Sequence of elements\n",
    "print(A[1:4])"
   ]
  },
  {
   "cell_type": "code",
   "execution_count": 6,
   "metadata": {},
   "outputs": [
    {
     "name": "stdout",
     "output_type": "stream",
     "text": [
      "['s', 'c', 'l', 3, 7]\n"
     ]
    }
   ],
   "source": [
    "print(A[:])"
   ]
  },
  {
   "cell_type": "code",
   "execution_count": 7,
   "metadata": {},
   "outputs": [
    {
     "name": "stdout",
     "output_type": "stream",
     "text": [
      "['l', 3]\n"
     ]
    }
   ],
   "source": [
    "print(A[2:-1])"
   ]
  },
  {
   "cell_type": "code",
   "execution_count": 8,
   "metadata": {},
   "outputs": [
    {
     "name": "stdout",
     "output_type": "stream",
     "text": [
      "[3, 7]\n"
     ]
    }
   ],
   "source": [
    "print(A[3:])"
   ]
  },
  {
   "cell_type": "markdown",
   "metadata": {},
   "source": [
    "### Append in a List"
   ]
  },
  {
   "cell_type": "code",
   "execution_count": 9,
   "metadata": {},
   "outputs": [
    {
     "name": "stdout",
     "output_type": "stream",
     "text": [
      "Actual List: ['Sun', 167, 89.32, 'Parrot']\n",
      "List after append: ['Sun', 167, 89.32, 'Parrot', 234]\n"
     ]
    }
   ],
   "source": [
    "# Appending value 234 to List A\n",
    "A = ['Sun', 167, 89.32, 'Parrot']\n",
    "print('Actual List:', A)\n",
    "A.append(234)\n",
    "print('List after append:', A)"
   ]
  },
  {
   "cell_type": "markdown",
   "metadata": {},
   "source": [
    "### Extending a List"
   ]
  },
  {
   "cell_type": "code",
   "execution_count": 10,
   "metadata": {},
   "outputs": [
    {
     "name": "stdout",
     "output_type": "stream",
     "text": [
      "Actual List: ['Sun', 167, 'Parrot']\n",
      "List after extension: ['Sun', 167, 'Parrot', '234', 786]\n"
     ]
    }
   ],
   "source": [
    "A = ['Sun', 167, 'Parrot']\n",
    "print('Actual List:', A)\n",
    "A.extend(['234', 786])\n",
    "print('List after extension:', A)"
   ]
  },
  {
   "cell_type": "markdown",
   "metadata": {},
   "source": [
    "### Inserting value in a List"
   ]
  },
  {
   "cell_type": "code",
   "execution_count": 11,
   "metadata": {},
   "outputs": [
    {
     "name": "stdout",
     "output_type": "stream",
     "text": [
      "Actual List: [167, 'Parrot', 234.56]\n"
     ]
    }
   ],
   "source": [
    "A = [167, 'Parrot', 234.56]\n",
    "print('Actual List:', A)"
   ]
  },
  {
   "cell_type": "code",
   "execution_count": 12,
   "metadata": {},
   "outputs": [
    {
     "name": "stdout",
     "output_type": "stream",
     "text": [
      "[167, 'Parrot', 'Flower', 234.56]\n"
     ]
    }
   ],
   "source": [
    "# Inserting value at index 2\n",
    "A.insert(2, 'Flower')\n",
    "print(A)"
   ]
  },
  {
   "cell_type": "code",
   "execution_count": 13,
   "metadata": {},
   "outputs": [
    {
     "name": "stdout",
     "output_type": "stream",
     "text": [
      "['CAT', 167, 'Parrot', 'Flower', 234.56]\n"
     ]
    }
   ],
   "source": [
    "# Inserting value at the beginning\n",
    "A.insert(0,'CAT')\n",
    "print(A)"
   ]
  },
  {
   "cell_type": "markdown",
   "metadata": {},
   "source": [
    "### Deletion in a List"
   ]
  },
  {
   "cell_type": "code",
   "execution_count": 14,
   "metadata": {},
   "outputs": [
    {
     "name": "stdout",
     "output_type": "stream",
     "text": [
      "Actual List: ['CAT', 167, 'Parrot', '1987', 'Flower', 234.56, 'Python']\n"
     ]
    }
   ],
   "source": [
    "A = ['CAT', 167, 'Parrot', '1987','Flower', 234.56, 'Python']\n",
    "print('Actual List:', A)"
   ]
  },
  {
   "cell_type": "code",
   "execution_count": 15,
   "metadata": {},
   "outputs": [
    {
     "name": "stdout",
     "output_type": "stream",
     "text": [
      "['CAT', 167, 'Parrot', 'Flower', 234.56, 'Python']\n"
     ]
    }
   ],
   "source": [
    "# Deleting value from 3rd index\n",
    "del A[3]\n",
    "print(A)"
   ]
  },
  {
   "cell_type": "code",
   "execution_count": 16,
   "metadata": {},
   "outputs": [
    {
     "name": "stdout",
     "output_type": "stream",
     "text": [
      "['CAT', 'Flower', 234.56, 'Python']\n"
     ]
    }
   ],
   "source": [
    "# Deleting more than an item using slicing\n",
    "del A[1:3]\n",
    "print(A)"
   ]
  },
  {
   "cell_type": "code",
   "execution_count": 17,
   "metadata": {},
   "outputs": [
    {
     "name": "stdout",
     "output_type": "stream",
     "text": [
      "['CAT', 'Flower', 234.56]\n"
     ]
    }
   ],
   "source": [
    "# Deleting Last item using pop()\n",
    "A.pop()\n",
    "print(A)"
   ]
  },
  {
   "cell_type": "code",
   "execution_count": 18,
   "metadata": {},
   "outputs": [
    {
     "name": "stdout",
     "output_type": "stream",
     "text": [
      "['Flower', 234.56]\n"
     ]
    }
   ],
   "source": [
    "# Deleting first item using pop()\n",
    "A.pop(0)\n",
    "print(A)"
   ]
  },
  {
   "cell_type": "code",
   "execution_count": 19,
   "metadata": {},
   "outputs": [
    {
     "name": "stdout",
     "output_type": "stream",
     "text": [
      "[234.56]\n"
     ]
    }
   ],
   "source": [
    "# Deletion using remove()\n",
    "A.remove('Flower')\n",
    "print(A)"
   ]
  },
  {
   "cell_type": "markdown",
   "metadata": {},
   "source": [
    "### Maximum & Minimum of a List\n",
    "•\tTo get the smallest or largest item in a list, use the built-in min and max functions: "
   ]
  },
  {
   "cell_type": "code",
   "execution_count": 20,
   "metadata": {},
   "outputs": [
    {
     "name": "stdout",
     "output_type": "stream",
     "text": [
      "List A: [123, 435, 876, 564, 904]\n"
     ]
    }
   ],
   "source": [
    "A = [123, 435, 876, 564, 904]\n",
    "print('List A:', A)"
   ]
  },
  {
   "cell_type": "code",
   "execution_count": 21,
   "metadata": {},
   "outputs": [
    {
     "name": "stdout",
     "output_type": "stream",
     "text": [
      "Maximum Value: 904\n"
     ]
    }
   ],
   "source": [
    "# Maximum using max()\n",
    "print('Maximum Value:', max(A))"
   ]
  },
  {
   "cell_type": "code",
   "execution_count": 22,
   "metadata": {},
   "outputs": [
    {
     "name": "stdout",
     "output_type": "stream",
     "text": [
      "Minimum Value: 123\n"
     ]
    }
   ],
   "source": [
    "# Minimum using min()\n",
    "print('Minimum Value:', min(A))"
   ]
  },
  {
   "cell_type": "markdown",
   "metadata": {},
   "source": [
    "### Sorting a List"
   ]
  },
  {
   "cell_type": "code",
   "execution_count": 23,
   "metadata": {},
   "outputs": [
    {
     "name": "stdout",
     "output_type": "stream",
     "text": [
      "List A: [435, 876, 564, 904, 123]\n",
      "Sorted A: [123, 435, 564, 876, 904]\n",
      "List B: [123, 435, 564, 876, 904]\n"
     ]
    }
   ],
   "source": [
    "A = [435, 876, 564, 904, 123]\n",
    "print('List A:', A)\n",
    "B = sorted(A)\n",
    "print('Sorted A:', sorted(A))\n",
    "print('List B:', B)"
   ]
  },
  {
   "cell_type": "markdown",
   "metadata": {},
   "source": [
    "## 3. Python Tuples"
   ]
  },
  {
   "cell_type": "code",
   "execution_count": 24,
   "metadata": {},
   "outputs": [
    {
     "name": "stdout",
     "output_type": "stream",
     "text": [
      "Tuple C: (3, 5, 8, 2, 6)\n"
     ]
    }
   ],
   "source": [
    "# creating a tuple\n",
    "C = (3, 5, 8, 2, 6)\n",
    "print('Tuple C:', C)"
   ]
  },
  {
   "cell_type": "markdown",
   "metadata": {},
   "source": [
    "### Tuple with mixed datatypes"
   ]
  },
  {
   "cell_type": "code",
   "execution_count": 25,
   "metadata": {},
   "outputs": [
    {
     "name": "stdout",
     "output_type": "stream",
     "text": [
      "Tuple C: (3, 'Hello', 82, '1845', 7.23)\n"
     ]
    }
   ],
   "source": [
    "C = (3, 'Hello', 82, '1845', 7.23)\n",
    "print('Tuple C:', C)"
   ]
  },
  {
   "cell_type": "markdown",
   "metadata": {},
   "source": [
    "### Accessing tuple elements using indexing"
   ]
  },
  {
   "cell_type": "code",
   "execution_count": 26,
   "metadata": {},
   "outputs": [
    {
     "name": "stdout",
     "output_type": "stream",
     "text": [
      "First Element: Hello\n",
      "Third Element: 82\n",
      "Last Element: 7.23\n"
     ]
    }
   ],
   "source": [
    "C = ('Hello', 3, 82, '1845', 7.23)\n",
    "print('First Element:', C[0])\n",
    "print('Third Element:', C[2])\n",
    "print('Last Element:', C[-1])"
   ]
  },
  {
   "cell_type": "markdown",
   "metadata": {},
   "source": [
    "#### • Unlike lists, tuples are immutable ( They cannot be changed)"
   ]
  },
  {
   "cell_type": "markdown",
   "metadata": {},
   "source": [
    "# Exercise:"
   ]
  },
  {
   "cell_type": "markdown",
   "metadata": {},
   "source": [
    "### 1. Write a program to create a list of n integer values and do the following\n",
    "#### •\tAdd an item in to the list (using function)\n",
    "#### •\tDelete (using function)\n",
    "#### •\tStore the largest number from the list to a variable\n",
    "#### •\tStore the Smallest number from the list to a variable"
   ]
  },
  {
   "cell_type": "markdown",
   "metadata": {},
   "source": [
    "### Solution:"
   ]
  },
  {
   "cell_type": "code",
   "execution_count": 27,
   "metadata": {},
   "outputs": [
    {
     "name": "stdout",
     "output_type": "stream",
     "text": [
      "List: []\n"
     ]
    }
   ],
   "source": [
    "# creating an empty list\n",
    "my_list = list()\n",
    "print('List:', my_list)"
   ]
  },
  {
   "cell_type": "markdown",
   "metadata": {},
   "source": [
    "##### • Add an item in to the list (using function)"
   ]
  },
  {
   "cell_type": "code",
   "execution_count": 28,
   "metadata": {},
   "outputs": [
    {
     "name": "stdout",
     "output_type": "stream",
     "text": [
      "List: [453]\n",
      "List: [453, 794]\n"
     ]
    }
   ],
   "source": [
    "# Adding an item using append()\n",
    "my_list.append(453)\n",
    "print('List:', my_list)\n",
    "my_list.append(794)\n",
    "print('List:', my_list)"
   ]
  },
  {
   "cell_type": "code",
   "execution_count": 29,
   "metadata": {},
   "outputs": [
    {
     "name": "stdout",
     "output_type": "stream",
     "text": [
      "List: [453, 794, 673, 132, 986, 435, 545]\n",
      "List: [453, 794, 673, 132, 986, 435, 545, 723, 477, 916, 812, 834]\n"
     ]
    }
   ],
   "source": [
    "# Adding more items using extend()\n",
    "my_list.extend([673, 132, 986, 435, 545])\n",
    "print('List:', my_list)\n",
    "my_list.extend([723, 477, 916, 812, 834])\n",
    "print('List:', my_list)"
   ]
  },
  {
   "cell_type": "markdown",
   "metadata": {},
   "source": [
    "##### • Delete (using function)"
   ]
  },
  {
   "cell_type": "code",
   "execution_count": 30,
   "metadata": {},
   "outputs": [
    {
     "name": "stdout",
     "output_type": "stream",
     "text": [
      "List: [794, 673, 132, 986, 435, 545, 723, 477, 916, 812, 834]\n"
     ]
    }
   ],
   "source": [
    "# Deleting items using del()\n",
    "del my_list[:1]\n",
    "print('List:', my_list)"
   ]
  },
  {
   "cell_type": "code",
   "execution_count": 31,
   "metadata": {},
   "outputs": [
    {
     "name": "stdout",
     "output_type": "stream",
     "text": [
      "List: [794, 673, 132, 986, 435, 545, 723, 477, 916, 812]\n",
      "List: [794, 673, 132, 986, 435, 545, 723, 916, 812]\n"
     ]
    }
   ],
   "source": [
    "# Deleting items using pop()\n",
    "my_list.pop()\n",
    "print('List:', my_list)\n",
    "my_list.pop(7)\n",
    "print('List:', my_list)"
   ]
  },
  {
   "cell_type": "code",
   "execution_count": 32,
   "metadata": {},
   "outputs": [
    {
     "name": "stdout",
     "output_type": "stream",
     "text": [
      "List: [794, 132, 986, 435, 545, 723, 916, 812]\n"
     ]
    }
   ],
   "source": [
    "# Deleting items using remove()\n",
    "my_list.remove(673)\n",
    "print('List:', my_list)"
   ]
  },
  {
   "cell_type": "markdown",
   "metadata": {},
   "source": [
    "##### • Store the Largest & Smallest number from the list to a variable"
   ]
  },
  {
   "cell_type": "code",
   "execution_count": 33,
   "metadata": {},
   "outputs": [
    {
     "name": "stdout",
     "output_type": "stream",
     "text": [
      "List: [794, 132, 986, 435, 545, 723, 916, 812]\n"
     ]
    }
   ],
   "source": [
    "print('List:', my_list)"
   ]
  },
  {
   "cell_type": "code",
   "execution_count": 34,
   "metadata": {},
   "outputs": [
    {
     "name": "stdout",
     "output_type": "stream",
     "text": [
      "Largest Number: 986\n",
      "Smallest Number: 132\n"
     ]
    }
   ],
   "source": [
    "# using max() & min()\n",
    "large = max(my_list)\n",
    "small = min(my_list)\n",
    "print('Largest Number:', large)\n",
    "print('Smallest Number:', small)"
   ]
  },
  {
   "cell_type": "code",
   "execution_count": 35,
   "metadata": {},
   "outputs": [
    {
     "name": "stdout",
     "output_type": "stream",
     "text": [
      "Largest Number: 986\n",
      "Smallest Number: 132\n"
     ]
    }
   ],
   "source": [
    "# using sorted()\n",
    "large = sorted(my_list)[-1]\n",
    "small = sorted(my_list)[0]\n",
    "print('Largest Number:', large)\n",
    "print('Smallest Number:', small)"
   ]
  },
  {
   "cell_type": "markdown",
   "metadata": {},
   "source": [
    "### 2. Create a tuple and print the reverse of the created tuple"
   ]
  },
  {
   "cell_type": "code",
   "execution_count": 36,
   "metadata": {},
   "outputs": [
    {
     "name": "stdout",
     "output_type": "stream",
     "text": [
      "Tuple: ()\n"
     ]
    }
   ],
   "source": [
    "# creating an empty tuple\n",
    "my_tuple = tuple()\n",
    "print('Tuple:', my_tuple)"
   ]
  },
  {
   "cell_type": "code",
   "execution_count": 37,
   "metadata": {},
   "outputs": [
    {
     "name": "stdout",
     "output_type": "stream",
     "text": [
      "Tuple: (234, 756, 873, 694, 598)\n"
     ]
    }
   ],
   "source": [
    "# Adding values in tuple\n",
    "my_tuple= (234, 756, 873, 694, 598)\n",
    "print('Tuple:', my_tuple)"
   ]
  },
  {
   "cell_type": "code",
   "execution_count": 38,
   "metadata": {},
   "outputs": [
    {
     "name": "stdout",
     "output_type": "stream",
     "text": [
      "Tuple: (234, 756, 873, 694)\n",
      "Reversed Tuple: (694, 873, 756, 234)\n"
     ]
    }
   ],
   "source": [
    "# Reversing the tuple\n",
    "my_tuple= (234, 756, 873, 694)\n",
    "print('Tuple:', my_tuple)\n",
    "print('Reversed Tuple:', my_tuple[::-1])"
   ]
  },
  {
   "cell_type": "markdown",
   "metadata": {},
   "source": [
    "### 3. Create a tuple and convert tuple into list"
   ]
  },
  {
   "cell_type": "code",
   "execution_count": 39,
   "metadata": {},
   "outputs": [],
   "source": [
    "my_tuple= (234, 756, 873, 694, 598)"
   ]
  },
  {
   "cell_type": "code",
   "execution_count": 40,
   "metadata": {},
   "outputs": [
    {
     "name": "stdout",
     "output_type": "stream",
     "text": [
      "Tuple: (234, 756, 873, 694, 598)\n",
      "List: [234, 756, 873, 694, 598]\n"
     ]
    }
   ],
   "source": [
    "# Converting Tuple into List\n",
    "my_list = list(my_tuple)\n",
    "print('Tuple:', my_tuple)\n",
    "print('List:', my_list)"
   ]
  },
  {
   "cell_type": "markdown",
   "metadata": {},
   "source": [
    "## Thank You!"
   ]
  }
 ],
 "metadata": {
  "kernelspec": {
   "display_name": "Python 3",
   "language": "python",
   "name": "python3"
  },
  "language_info": {
   "codemirror_mode": {
    "name": "ipython",
    "version": 3
   },
   "file_extension": ".py",
   "mimetype": "text/x-python",
   "name": "python",
   "nbconvert_exporter": "python",
   "pygments_lexer": "ipython3",
   "version": "3.8.5"
  }
 },
 "nbformat": 4,
 "nbformat_minor": 4
}
