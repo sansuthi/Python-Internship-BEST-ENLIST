{
 "cells": [
  {
   "cell_type": "markdown",
   "metadata": {},
   "source": [
    "## 30 Days Python Bootcamp @BEST-ENLIST\n",
    "\n",
    "### Author: SANDHYA S\n",
    "\n",
    "### Date: 29 June '21\n",
    "\n",
    "## Task: Python & MySql"
   ]
  },
  {
   "cell_type": "markdown",
   "metadata": {},
   "source": [
    "#### • For Installing SQL Driver -- use PIP to install \"MySQL Connector\""
   ]
  },
  {
   "cell_type": "code",
   "execution_count": 1,
   "metadata": {},
   "outputs": [
    {
     "name": "stdout",
     "output_type": "stream",
     "text": [
      "Requirement already satisfied: mysql-connector in c:\\users\\admin\\anaconda3\\lib\\site-packages (2.2.9)Note: you may need to restart the kernel to use updated packages.\n",
      "\n"
     ]
    }
   ],
   "source": [
    "pip install mysql-connector"
   ]
  },
  {
   "cell_type": "markdown",
   "metadata": {},
   "source": [
    "#### •  Import the SQL connector by import mysql.connector"
   ]
  },
  {
   "cell_type": "code",
   "execution_count": 2,
   "metadata": {},
   "outputs": [],
   "source": [
    "import mysql.connector"
   ]
  },
  {
   "cell_type": "markdown",
   "metadata": {},
   "source": [
    "#### • Use the username and password from your MySQL database:"
   ]
  },
  {
   "cell_type": "code",
   "execution_count": 3,
   "metadata": {},
   "outputs": [
    {
     "name": "stdout",
     "output_type": "stream",
     "text": [
      "<mysql.connector.connection.MySQLConnection object at 0x00000250D557C2E0>\n"
     ]
    }
   ],
   "source": [
    "mydb = mysql.connector.connect(host='localhost', \n",
    "                               user='root', \n",
    "                               password='password')\n",
    "print(mydb)"
   ]
  },
  {
   "cell_type": "markdown",
   "metadata": {},
   "source": [
    "#### • To create a database in MySQL, use the \"CREATE DATABASE\" statement"
   ]
  },
  {
   "cell_type": "code",
   "execution_count": 4,
   "metadata": {},
   "outputs": [],
   "source": [
    "dbse = mydb.cursor()\n",
    "dbse.execute(\"CREATE DATABASE mydatabase\")"
   ]
  },
  {
   "cell_type": "markdown",
   "metadata": {},
   "source": [
    "#### • You can check if a database exist by listing all databases in your system by using the \"SHOW DATABASES\" statement:"
   ]
  },
  {
   "cell_type": "code",
   "execution_count": 5,
   "metadata": {},
   "outputs": [
    {
     "name": "stdout",
     "output_type": "stream",
     "text": [
      "('information_schema',)\n",
      "('mydatabase',)\n",
      "('mysql',)\n",
      "('performance_schema',)\n",
      "('sys',)\n"
     ]
    }
   ],
   "source": [
    "dbse.execute(\"SHOW DATABASES\")\n",
    "for entry in dbse:\n",
    "    print(entry)"
   ]
  },
  {
   "cell_type": "markdown",
   "metadata": {},
   "source": [
    "#### • To create a table in MySQL, use the \"CREATE TABLE\" statement."
   ]
  },
  {
   "cell_type": "code",
   "execution_count": 6,
   "metadata": {},
   "outputs": [],
   "source": [
    "mydb = mysql.connector.connect(host='localhost', user='root', password='password', database='mydatabase')\n",
    "dbse = mydb.cursor()\n",
    "dbse.execute(\"CREATE TABLE customers (Employee_name VARCHAR(255), Employee_dep VARCHAR(255))\")"
   ]
  },
  {
   "cell_type": "markdown",
   "metadata": {},
   "source": [
    "#### • Check if a table exist by listing all tables in your database with the \"SHOW TABLES\" statement"
   ]
  },
  {
   "cell_type": "code",
   "execution_count": 7,
   "metadata": {},
   "outputs": [
    {
     "name": "stdout",
     "output_type": "stream",
     "text": [
      "('customers',)\n"
     ]
    }
   ],
   "source": [
    "dbse.execute(\"SHOW TABLES\")\n",
    "for value in dbse:\n",
    "    print(value)"
   ]
  },
  {
   "cell_type": "markdown",
   "metadata": {},
   "source": [
    "#### • To delete a database, use \"DROP DATABASE\" statement"
   ]
  },
  {
   "cell_type": "code",
   "execution_count": 8,
   "metadata": {},
   "outputs": [],
   "source": [
    "dbse.execute(\"DROP DATABASE mydatabase\")"
   ]
  },
  {
   "cell_type": "markdown",
   "metadata": {},
   "source": [
    "#### • To close the connection, use close() method"
   ]
  },
  {
   "cell_type": "code",
   "execution_count": 9,
   "metadata": {},
   "outputs": [],
   "source": [
    "dbse.close()\n",
    "mydb.close()"
   ]
  },
  {
   "cell_type": "markdown",
   "metadata": {},
   "source": [
    "# Exercise:"
   ]
  },
  {
   "cell_type": "markdown",
   "metadata": {},
   "source": [
    "### 1. Create a connection for Database and print the version using a python program"
   ]
  },
  {
   "cell_type": "code",
   "execution_count": 10,
   "metadata": {},
   "outputs": [],
   "source": [
    "import mysql.connector as msq"
   ]
  },
  {
   "cell_type": "code",
   "execution_count": 11,
   "metadata": {},
   "outputs": [],
   "source": [
    "conn = msq.connect(host='localhost', user='root', password='password')\n",
    "curs = conn.cursor(buffered=True)"
   ]
  },
  {
   "cell_type": "code",
   "execution_count": 12,
   "metadata": {},
   "outputs": [
    {
     "name": "stdout",
     "output_type": "stream",
     "text": [
      "MySql Version: ('8.0.25',)\n"
     ]
    }
   ],
   "source": [
    "curs.execute('SELECT VERSION()')\n",
    "vers = curs.fetchone()\n",
    "print('MySql Version:', vers)"
   ]
  },
  {
   "cell_type": "markdown",
   "metadata": {},
   "source": [
    "### 2. Create multiple tables & insert data in table"
   ]
  },
  {
   "cell_type": "markdown",
   "metadata": {},
   "source": [
    "#### a) Creating Database - 'MyDatabase'"
   ]
  },
  {
   "cell_type": "code",
   "execution_count": 13,
   "metadata": {},
   "outputs": [],
   "source": [
    "curs.execute('CREATE DATABASE mydb')"
   ]
  },
  {
   "cell_type": "markdown",
   "metadata": {},
   "source": [
    "#### b) Creating Tables - 'Student' & 'Staff'"
   ]
  },
  {
   "cell_type": "code",
   "execution_count": 14,
   "metadata": {},
   "outputs": [],
   "source": [
    "conn = mysql.connector.connect(host='localhost', user='root', password='password', database='mydb')\n",
    "curs = conn.cursor(buffered=True)"
   ]
  },
  {
   "cell_type": "code",
   "execution_count": 15,
   "metadata": {},
   "outputs": [],
   "source": [
    "curs.execute('CREATE TABLE student(Stu_Id INTEGER(7), Stu_Name VARCHAR(255), Stu_Dept VARCHAR(255))')\n",
    "curs.execute('CREATE TABLE staff(Staff_Id INTEGER(7), Staff_Name VARCHAR(255), Staff_Dept VARCHAR(255))')"
   ]
  },
  {
   "cell_type": "code",
   "execution_count": 16,
   "metadata": {},
   "outputs": [
    {
     "name": "stdout",
     "output_type": "stream",
     "text": [
      "('staff',)\n",
      "('student',)\n"
     ]
    }
   ],
   "source": [
    "curs.execute(\"SHOW TABLES\")\n",
    "for value in curs:\n",
    "    print(value)"
   ]
  },
  {
   "cell_type": "markdown",
   "metadata": {},
   "source": [
    "#### c) Inserting data into the tables"
   ]
  },
  {
   "cell_type": "code",
   "execution_count": 17,
   "metadata": {},
   "outputs": [],
   "source": [
    "query = 'INSERT INTO student(Stu_Id, Stu_Name, Stu_Dept) VALUES(%s, %s, %s)'\n",
    "data = [(234, 'John', 'CSE'), (535, 'Chris', 'ECE'), (782, 'Sara', 'CSE')]\n",
    "for value in data:\n",
    "    curs.execute(query, value)"
   ]
  },
  {
   "cell_type": "code",
   "execution_count": 18,
   "metadata": {},
   "outputs": [],
   "source": [
    "query = 'INSERT INTO staff(Staff_Id, Staff_Name, Staff_Dept) VALUES(%s, %s, %s)'\n",
    "data = [(922, 'David', 'CSE'), (452, 'Rose', 'ECE')]\n",
    "for value in data:\n",
    "    curs.execute(query, value)"
   ]
  },
  {
   "cell_type": "code",
   "execution_count": 19,
   "metadata": {},
   "outputs": [
    {
     "name": "stdout",
     "output_type": "stream",
     "text": [
      "Students\n",
      "--------\n",
      "(234, 'John', 'CSE')\n",
      "(535, 'Chris', 'ECE')\n",
      "(782, 'Sara', 'CSE')\n"
     ]
    }
   ],
   "source": [
    "# Displaying Student details\n",
    "curs.execute('SELECT * from student')\n",
    "student = curs.fetchall()\n",
    "print(f'Students\\n{\"-\"*8}')\n",
    "for details in student:\n",
    "    print(details)"
   ]
  },
  {
   "cell_type": "markdown",
   "metadata": {},
   "source": [
    "### 3. Create an employee table and read all the employee names in the table using for loop"
   ]
  },
  {
   "cell_type": "code",
   "execution_count": 20,
   "metadata": {},
   "outputs": [],
   "source": [
    "# Creating table, 'Employee' and inserting value in it\n",
    "curs.execute('CREATE TABLE Employee(EmpId INTEGER(7), EmpName VARCHAR(255), EmpSal INTEGER(7))')\n",
    "sql = 'INSERT INTO Employee(EmpId, EmpName, EmpSal) VALUES(%s, %s, %s)'\n",
    "data = [(2634, 'John', 25000), (5135, 'Chris', 27000), (7682, 'Sara', 34000), (3482, 'Katty', 45000)]\n",
    "for value in data:\n",
    "    curs.execute(sql, value)"
   ]
  },
  {
   "cell_type": "code",
   "execution_count": 21,
   "metadata": {},
   "outputs": [
    {
     "name": "stdout",
     "output_type": "stream",
     "text": [
      "Employees\n",
      "---------\n",
      "John\n",
      "Chris\n",
      "Sara\n",
      "Katty\n"
     ]
    }
   ],
   "source": [
    "curs.execute('SELECT EmpName from Employee')\n",
    "employee = curs.fetchall()\n",
    "print(f'Employees\\n{\"-\"*9}')\n",
    "for name in employee:\n",
    "    print(name[0])"
   ]
  },
  {
   "cell_type": "code",
   "execution_count": 22,
   "metadata": {},
   "outputs": [],
   "source": [
    "curs.execute('DROP DATABASE mydb')"
   ]
  },
  {
   "cell_type": "code",
   "execution_count": 23,
   "metadata": {},
   "outputs": [],
   "source": [
    "conn.commit()\n",
    "curs.close()\n",
    "conn.close()"
   ]
  },
  {
   "cell_type": "markdown",
   "metadata": {},
   "source": [
    "## Thank You!"
   ]
  }
 ],
 "metadata": {
  "kernelspec": {
   "display_name": "Python 3",
   "language": "python",
   "name": "python3"
  },
  "language_info": {
   "codemirror_mode": {
    "name": "ipython",
    "version": 3
   },
   "file_extension": ".py",
   "mimetype": "text/x-python",
   "name": "python",
   "nbconvert_exporter": "python",
   "pygments_lexer": "ipython3",
   "version": "3.8.5"
  }
 },
 "nbformat": 4,
 "nbformat_minor": 4
}
