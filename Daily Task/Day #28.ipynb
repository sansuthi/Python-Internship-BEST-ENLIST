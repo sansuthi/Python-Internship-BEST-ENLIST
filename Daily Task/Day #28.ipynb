{
 "cells": [
  {
   "cell_type": "markdown",
   "metadata": {},
   "source": [
    "## _30 Days Python Bootcamp @ BEST-ENLIST_\n",
    "\n",
    "### _Author: SANDHYA S_\n",
    "\n",
    "### _Date: 13 July '21_\n",
    "\n",
    "## _Task: Multi-threaded Programming_\n",
    "---"
   ]
  },
  {
   "cell_type": "markdown",
   "metadata": {},
   "source": [
    "- Multiple threads within a process share the same data space with the main thread and can therefore share information or communicate with each other more easily than if they were separate processes.\n",
    "- Threads sometimes called light-weight processes and they do not require much memory overhead; they are cheaper than processes.\n",
    "- A thread has a beginning, an execution sequence, and a conclusion. It has an instruction pointer that keeps track of where within its context it is currently running.\n",
    "- It can be pre-empted (interrupted)\n",
    "- It can temporarily be put on hold (also known as sleeping) while other threads are running - this is called yielding.\n",
    "- To spawn another thread, you need to call following method available in thread module –\n",
    "```\n",
    "thread.start_new_thread(function, args[, kwargs])\n",
    "```"
   ]
  },
  {
   "cell_type": "markdown",
   "metadata": {},
   "source": [
    "```\n",
    "import thread\n",
    "import time\n",
    "\n",
    "# Define a function for the thread\n",
    "def print_time( threadName, delay):\n",
    "    count = 0\n",
    "    while count < 5:\n",
    "        time.sleep(delay)\n",
    "        count += 1\n",
    "        print \"%s: %s\" % ( threadName, time.ctime(time.time()) )\n",
    "\n",
    "# Create two threads as follows\n",
    "try:\n",
    "    thread.start_new_thread( print_time, (\"Thread-1\", 2, ) )\n",
    "    thread.start_new_thread( print_time, (\"Thread-2\", 4, ) )\n",
    "except:\n",
    "    print \"Error: unable to start thread\"\n",
    "\n",
    "while 1:\n",
    "    pass\n",
    "```"
   ]
  },
  {
   "cell_type": "markdown",
   "metadata": {},
   "source": [
    "- The newer threading module included with Python 2.4 provides much more powerful, high-level support for threads than the thread module discussed in the previous section.\n",
    "- The threading module exposes all the methods of the thread module and provides some additional methods −\n",
    "> - **threading.activeCount()** − Returns the number of thread objects that are active.\n",
    "> - **threading.currentThread()** − Returns the number of thread objects in the caller's thread control.\n",
    "> - **threading.enumerate()** − Returns a list of all thread objects that are currently active.  \n",
    "\n",
    "- In addition to the methods, the threading module has the Thread class that implements threading. The methods provided by the Thread class are as follows −\n",
    "> - **run()** − The run() method is the entry point for a thread.  \n",
    "> - **start()** − The start() method starts a thread by calling the run method.  \n",
    "> - **join([time])** − The join() waits for threads to terminate.  \n",
    "> - **isAlive()** − The isAlive() method checks whether a thread is still executing.  \n",
    "> - **getName()** − The getName() method returns the name of a thread.  \n",
    "> - **setName()** − The setName() method sets the name of a thread.  "
   ]
  },
  {
   "cell_type": "markdown",
   "metadata": {},
   "source": [
    "To implement a new thread using the threading module, you have to do the following −\n",
    "> - Define a new subclass of the Thread class.\n",
    "> - Override the __init__(self [,args]) method to add additional arguments.\n",
    "> - Then, override the run(self [,args]) method to implement what the thread should do when started."
   ]
  },
  {
   "cell_type": "markdown",
   "metadata": {},
   "source": [
    "- Once you have created the new Thread subclass, you can create an instance of it and then start a new thread by invoking the start(), which in turn calls run() method.\n",
    "- The threading module provided with Python includes a simple-to-implement locking mechanism that allows you to synchronize threads. A new lock is created by calling the Lock() method, which returns the new lock."
   ]
  },
  {
   "cell_type": "markdown",
   "metadata": {},
   "source": [
    "- The Queue module allows you to create a new queue object that can hold a specific number of items. There are following methods to control the Queue −\n",
    "> - **get()** − The get() removes and returns an item from the queue.\n",
    "> - **put()** − The put adds item to a queue.\n",
    "> - **qsize()** − The qsize() returns the number of items that are currently in the queue.\n",
    "> - **empty()** − The empty( ) returns True if queue is empty; otherwise, False.\n",
    "> - **full()** − the full() returns True if queue is full; otherwise, False."
   ]
  },
  {
   "cell_type": "markdown",
   "metadata": {},
   "source": [
    "---\n",
    "# _Exercise_"
   ]
  },
  {
   "cell_type": "markdown",
   "metadata": {},
   "source": [
    "## _Write a Python multithreading program to print current date._\n",
    "### _1. Define a subclass using threading.Thread class._"
   ]
  },
  {
   "cell_type": "code",
   "execution_count": 1,
   "metadata": {},
   "outputs": [],
   "source": [
    "import threading\n",
    "import time\n",
    "\n",
    "class myThread(threading.Thread):\n",
    "    def __init__(self, name, counter, delay):\n",
    "        threading.Thread.__init__(self)\n",
    "        self.name = name\n",
    "        self.counter = counter\n",
    "        self.delay = delay\n",
    "\n",
    "    def run(self):\n",
    "        print(f'Starting {self.name}...')\n",
    "        print_time(self.name, self.counter, self.delay)\n",
    "        print(f'\\nExiting {self.name}!!')"
   ]
  },
  {
   "cell_type": "code",
   "execution_count": 2,
   "metadata": {},
   "outputs": [],
   "source": [
    "def print_time(name, counter, delay):\n",
    "    print(f'Counter: {counter} & Delay: {delay}sec\\n')\n",
    "    while counter > 0:\n",
    "        print(f'{counter}: {time.ctime(time.time())}')\n",
    "        time.sleep(delay)\n",
    "        counter -= 1"
   ]
  },
  {
   "cell_type": "markdown",
   "metadata": {},
   "source": [
    "### _2. Instantiate the subclass and trigger the thread._"
   ]
  },
  {
   "cell_type": "code",
   "execution_count": 3,
   "metadata": {},
   "outputs": [
    {
     "name": "stdout",
     "output_type": "stream",
     "text": [
      "Starting Thread-1...\n",
      "Counter: 7 & Delay: 3sec\n",
      "\n",
      "7: Wed Jul 14 13:53:17 2021\n",
      "6: Wed Jul 14 13:53:20 2021\n",
      "5: Wed Jul 14 13:53:23 2021\n",
      "4: Wed Jul 14 13:53:26 2021\n",
      "3: Wed Jul 14 13:53:29 2021\n",
      "2: Wed Jul 14 13:53:32 2021\n",
      "1: Wed Jul 14 13:53:35 2021\n",
      "\n",
      "Exiting Thread-1!!\n"
     ]
    }
   ],
   "source": [
    "thread1 = myThread('Thread-1', 7, 3)\n",
    "thread1.start()"
   ]
  },
  {
   "cell_type": "markdown",
   "metadata": {},
   "source": [
    "---\n",
    "## _Thank You!_"
   ]
  }
 ],
 "metadata": {
  "kernelspec": {
   "display_name": "Python 3",
   "language": "python",
   "name": "python3"
  },
  "language_info": {
   "codemirror_mode": {
    "name": "ipython",
    "version": 3
   },
   "file_extension": ".py",
   "mimetype": "text/x-python",
   "name": "python",
   "nbconvert_exporter": "python",
   "pygments_lexer": "ipython3",
   "version": "3.8.5"
  }
 },
 "nbformat": 4,
 "nbformat_minor": 4
}
