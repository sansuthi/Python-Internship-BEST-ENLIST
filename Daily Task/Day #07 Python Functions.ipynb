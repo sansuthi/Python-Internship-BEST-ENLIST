{
 "cells": [
  {
   "cell_type": "markdown",
   "metadata": {},
   "source": [
    "## 30 Days Python Bootcamp @BEST-ENLIST\n",
    "\n",
    "### Author: SANDHYA S\n",
    "\n",
    "### Date: 18 June '21\n",
    "\n",
    "## Task: Python Functions"
   ]
  },
  {
   "cell_type": "markdown",
   "metadata": {},
   "source": [
    "#### • A function is a set of statements that take inputs, do some specific computation and produces output. The idea is to put some \n",
    "#### commonly or repeatedly done task together and make a function, so that instead of writing the same code again and again for \n",
    "#### different inputs, we can call the function."
   ]
  },
  {
   "cell_type": "code",
   "execution_count": 1,
   "metadata": {},
   "outputs": [],
   "source": [
    "# Example\n",
    "def myFun(num): \n",
    "    num[0] = 20"
   ]
  },
  {
   "cell_type": "code",
   "execution_count": 2,
   "metadata": {},
   "outputs": [
    {
     "name": "stdout",
     "output_type": "stream",
     "text": [
      "[1, 2, 3, 4, 5]\n"
     ]
    }
   ],
   "source": [
    "list1 = [1, 2, 3, 4, 5]  \n",
    "print(list1)\n",
    "myFun(list1)"
   ]
  },
  {
   "cell_type": "code",
   "execution_count": 3,
   "metadata": {},
   "outputs": [
    {
     "name": "stdout",
     "output_type": "stream",
     "text": [
      "[20, 2, 3, 4, 5]\n"
     ]
    }
   ],
   "source": [
    "#list will be changed after the function call\n",
    "print(list1) "
   ]
  },
  {
   "cell_type": "markdown",
   "metadata": {},
   "source": [
    "#### • A function is defined using the def keyword"
   ]
  },
  {
   "cell_type": "code",
   "execution_count": 4,
   "metadata": {},
   "outputs": [],
   "source": [
    "def my_function():\n",
    "    print('Hello World!')"
   ]
  },
  {
   "cell_type": "markdown",
   "metadata": {},
   "source": [
    "#### • Calling a function is easy as to call only the function name"
   ]
  },
  {
   "cell_type": "code",
   "execution_count": 5,
   "metadata": {},
   "outputs": [
    {
     "name": "stdout",
     "output_type": "stream",
     "text": [
      "Hello World!\n"
     ]
    }
   ],
   "source": [
    "my_function()"
   ]
  },
  {
   "cell_type": "markdown",
   "metadata": {},
   "source": [
    "#### • Arguments are specified after the function name, inside the parentheses, and can add n number of  arguments."
   ]
  },
  {
   "cell_type": "code",
   "execution_count": 6,
   "metadata": {},
   "outputs": [
    {
     "name": "stdout",
     "output_type": "stream",
     "text": [
      "Player name is Mahendra Singh Dhoni\n",
      "Player name is Sachin Tendulkar\n"
     ]
    }
   ],
   "source": [
    "def player(name):\n",
    "    print('Player name is ' + name)\n",
    "\n",
    "player('Mahendra Singh Dhoni')\n",
    "player('Sachin Tendulkar')"
   ]
  },
  {
   "cell_type": "markdown",
   "metadata": {},
   "source": [
    "##### *  A parameter is the variable listed inside the parentheses in the function definition.\n",
    "\n",
    "##### * An Argument is the value that is sent to the function when it is called."
   ]
  },
  {
   "cell_type": "markdown",
   "metadata": {},
   "source": [
    "#### •\tif your function expects 2 arguments, you have to call the function with 2 arguments, not more, and not less"
   ]
  },
  {
   "cell_type": "code",
   "execution_count": 7,
   "metadata": {},
   "outputs": [
    {
     "name": "stdout",
     "output_type": "stream",
     "text": [
      "Ant & Elephant\n"
     ]
    }
   ],
   "source": [
    "# Example\n",
    "def animals(anim1, anim2):\n",
    "    print(anim1 +' & '+ anim2)\n",
    "\n",
    "animals('Ant','Elephant')"
   ]
  },
  {
   "cell_type": "code",
   "execution_count": 8,
   "metadata": {},
   "outputs": [
    {
     "name": "stdout",
     "output_type": "stream",
     "text": [
      "Sum: 170\n"
     ]
    }
   ],
   "source": [
    "def sum_numbers(num1, num2, num3):\n",
    "    print('Sum:', num1+num2+num3)\n",
    "    \n",
    "sum_numbers(20, 50, 100)"
   ]
  },
  {
   "cell_type": "markdown",
   "metadata": {},
   "source": [
    "#### • If you do not know how many arguments that will be passed into the function, add a * before the parameter name in the function definition."
   ]
  },
  {
   "cell_type": "code",
   "execution_count": 9,
   "metadata": {},
   "outputs": [
    {
     "name": "stdout",
     "output_type": "stream",
     "text": [
      "Flowers are: Sun Flower & Jasmine\n"
     ]
    }
   ],
   "source": [
    "# Example\n",
    "def flowers(*flower):\n",
    "    print('Flowers are:', flower[0], '&', flower[-1])\n",
    "    \n",
    "flowers('Sun Flower','Jasmine')"
   ]
  },
  {
   "cell_type": "code",
   "execution_count": 10,
   "metadata": {},
   "outputs": [
    {
     "name": "stdout",
     "output_type": "stream",
     "text": [
      "The smallest number is 20\n"
     ]
    }
   ],
   "source": [
    "def smallest(*numbers):\n",
    "    print('The smallest number is', numbers[0])\n",
    "\n",
    "smallest(20, 50, 100)"
   ]
  },
  {
   "cell_type": "markdown",
   "metadata": {},
   "source": [
    "#### • You can also send arguments with the key = value syntax & the order of the arguments does not matter."
   ]
  },
  {
   "cell_type": "code",
   "execution_count": 11,
   "metadata": {},
   "outputs": [
    {
     "name": "stdout",
     "output_type": "stream",
     "text": [
      "The Birds are: Peacock, King Fisher & Parrot\n"
     ]
    }
   ],
   "source": [
    "# Example\n",
    "def birds(bird3, bird1, bird2):\n",
    "    print('The Birds are: ' + bird1 + ', ' + bird2 +' & '+ bird3)\n",
    "\n",
    "birds(bird1 = 'Peacock', bird2 = 'King Fisher', bird3 = 'Parrot')"
   ]
  },
  {
   "cell_type": "code",
   "execution_count": 12,
   "metadata": {},
   "outputs": [
    {
     "name": "stdout",
     "output_type": "stream",
     "text": [
      "Product: 3827\n"
     ]
    }
   ],
   "source": [
    "def product(num1, num2):\n",
    "    print('Product:', num1*num2)\n",
    "    \n",
    "product(num2=89, num1=43)"
   ]
  },
  {
   "cell_type": "markdown",
   "metadata": {},
   "source": [
    "#### • If you do not know how many keyword arguments that will be passed into your function, add two asterisk: ** before the parameter name in the function definition."
   ]
  },
  {
   "cell_type": "code",
   "execution_count": 13,
   "metadata": {},
   "outputs": [
    {
     "name": "stdout",
     "output_type": "stream",
     "text": [
      "Largest number is 50\n"
     ]
    }
   ],
   "source": [
    "def numbers(**number):\n",
    "    print('Largest number is', number['num2'])\n",
    "    \n",
    "numbers(num1=20, num2=50)"
   ]
  },
  {
   "cell_type": "code",
   "execution_count": 14,
   "metadata": {},
   "outputs": [
    {
     "name": "stdout",
     "output_type": "stream",
     "text": [
      "Larger letter: S\n",
      "Smaller letter: H\n"
     ]
    }
   ],
   "source": [
    "def numbers(**letters):\n",
    "    print('Larger letter:', max(letters))\n",
    "    print('Smaller letter:', min(letters))\n",
    "    \n",
    "numbers(N='N', H='H', S='S')"
   ]
  },
  {
   "cell_type": "markdown",
   "metadata": {},
   "source": [
    "#### • To let a function return a value, use the return statement"
   ]
  },
  {
   "cell_type": "code",
   "execution_count": 15,
   "metadata": {},
   "outputs": [
    {
     "name": "stdout",
     "output_type": "stream",
     "text": [
      "7 * 5 = 35\n"
     ]
    }
   ],
   "source": [
    "# Example \n",
    "def product(number):\n",
    "    return 5 * number\n",
    "\n",
    "print('7 * 5 =', product(7))"
   ]
  },
  {
   "cell_type": "code",
   "execution_count": 16,
   "metadata": {},
   "outputs": [
    {
     "name": "stdout",
     "output_type": "stream",
     "text": [
      "Square of 7: 49\n"
     ]
    }
   ],
   "source": [
    "def square(number):\n",
    "    return number ** 2\n",
    "\n",
    "print('Square of 7:', square(7))"
   ]
  },
  {
   "cell_type": "markdown",
   "metadata": {},
   "source": [
    "#### • passing a default value while initiation"
   ]
  },
  {
   "cell_type": "code",
   "execution_count": 17,
   "metadata": {},
   "outputs": [
    {
     "name": "stdout",
     "output_type": "stream",
     "text": [
      "The Captain is MS Dhoni\n"
     ]
    }
   ],
   "source": [
    "def captain(cap='MS Dhoni'):\n",
    "    print('The Captain is', cap)\n",
    "\n",
    "captain()"
   ]
  },
  {
   "cell_type": "code",
   "execution_count": 18,
   "metadata": {},
   "outputs": [
    {
     "name": "stdout",
     "output_type": "stream",
     "text": [
      "The Captain is Sachin Tendulkar\n"
     ]
    }
   ],
   "source": [
    "captain('Sachin Tendulkar')"
   ]
  },
  {
   "cell_type": "markdown",
   "metadata": {},
   "source": [
    "# Exercise:"
   ]
  },
  {
   "cell_type": "markdown",
   "metadata": {},
   "source": [
    "### 1. Create a function getting two integer inputs from user & print the following:\n",
    "#### a)  Addition of two numbers is +value\n",
    "#### b)  Subtraction of two numbers is +value\n",
    "#### c)  Division of two numbers is +value\n",
    "#### d)  Multiplication of two numbers is +value\n",
    "##### Here the value represents math function associated"
   ]
  },
  {
   "cell_type": "code",
   "execution_count": 19,
   "metadata": {},
   "outputs": [],
   "source": [
    "# Function for getting input from user\n",
    "def get_numbers():\n",
    "    num1 = int(input('Enter first number: '))\n",
    "    num2 = int(input('Enter second number: '))\n",
    "    return num1, num2"
   ]
  },
  {
   "cell_type": "markdown",
   "metadata": {},
   "source": [
    "#### a) Addition of two numbers"
   ]
  },
  {
   "cell_type": "code",
   "execution_count": 20,
   "metadata": {},
   "outputs": [],
   "source": [
    "# Function for Addition\n",
    "def addition():\n",
    "    a, b = get_numbers() \n",
    "    print('Addition of two numbers:', a+b)"
   ]
  },
  {
   "cell_type": "code",
   "execution_count": 21,
   "metadata": {},
   "outputs": [
    {
     "name": "stdout",
     "output_type": "stream",
     "text": [
      "Enter first number: 342\n",
      "Enter second number: 654\n",
      "Addition of two numbers: 996\n"
     ]
    }
   ],
   "source": [
    "# Function Call\n",
    "addition()"
   ]
  },
  {
   "cell_type": "markdown",
   "metadata": {},
   "source": [
    "#### b) Subtraction of two numbers"
   ]
  },
  {
   "cell_type": "code",
   "execution_count": 22,
   "metadata": {},
   "outputs": [],
   "source": [
    "# Function for Subtraction\n",
    "def subtraction():\n",
    "    a, b = get_numbers() \n",
    "    print('Subtraction of two numbers:', a-b)"
   ]
  },
  {
   "cell_type": "code",
   "execution_count": 23,
   "metadata": {},
   "outputs": [
    {
     "name": "stdout",
     "output_type": "stream",
     "text": [
      "Enter first number: 854\n",
      "Enter second number: 234\n",
      "Subtraction of two numbers: 620\n"
     ]
    }
   ],
   "source": [
    "# Function Call\n",
    "subtraction()"
   ]
  },
  {
   "cell_type": "markdown",
   "metadata": {},
   "source": [
    "#### c) Division of two numbers"
   ]
  },
  {
   "cell_type": "code",
   "execution_count": 24,
   "metadata": {},
   "outputs": [],
   "source": [
    "# Function for Division\n",
    "def division():\n",
    "    a, b = get_numbers() \n",
    "    print('Division of two numbers:', a/b)"
   ]
  },
  {
   "cell_type": "code",
   "execution_count": 25,
   "metadata": {},
   "outputs": [
    {
     "name": "stdout",
     "output_type": "stream",
     "text": [
      "Enter first number: 923\n",
      "Enter second number: 43\n",
      "Division of two numbers: 21.46511627906977\n"
     ]
    }
   ],
   "source": [
    "# Function Call\n",
    "division()"
   ]
  },
  {
   "cell_type": "markdown",
   "metadata": {},
   "source": [
    "#### d) Multiplication of two numbers"
   ]
  },
  {
   "cell_type": "code",
   "execution_count": 26,
   "metadata": {},
   "outputs": [],
   "source": [
    "# Function for Multiplication\n",
    "def multiplication():\n",
    "    a, b = get_numbers() \n",
    "    print('Multiplication of two numbers:', a*b)"
   ]
  },
  {
   "cell_type": "code",
   "execution_count": 27,
   "metadata": {},
   "outputs": [
    {
     "name": "stdout",
     "output_type": "stream",
     "text": [
      "Enter first number: 742\n",
      "Enter second number: 12\n",
      "Multiplication of two numbers: 8904\n"
     ]
    }
   ],
   "source": [
    "# Function Call\n",
    "multiplication()"
   ]
  },
  {
   "cell_type": "markdown",
   "metadata": {},
   "source": [
    "### 2. Create a function covid() & it should accept patient name, and body temperature \n",
    "#### by default the body temperature should be 98 degree"
   ]
  },
  {
   "cell_type": "code",
   "execution_count": 28,
   "metadata": {},
   "outputs": [],
   "source": [
    "# Function definition\n",
    "def covid(patient_name, temperature=98):\n",
    "    print('DETAILS:\\n'+'-'*8)\n",
    "    print('Patient Name:', patient_name)\n",
    "    print('Temperature:', temperature, 'Degree')"
   ]
  },
  {
   "cell_type": "code",
   "execution_count": 29,
   "metadata": {},
   "outputs": [
    {
     "name": "stdout",
     "output_type": "stream",
     "text": [
      "DETAILS:\n",
      "--------\n",
      "Patient Name: Arundhathi\n",
      "Temperature: 98 Degree\n"
     ]
    }
   ],
   "source": [
    "# Function call\n",
    "covid('Arundhathi')"
   ]
  },
  {
   "cell_type": "code",
   "execution_count": 30,
   "metadata": {},
   "outputs": [
    {
     "name": "stdout",
     "output_type": "stream",
     "text": [
      "DETAILS:\n",
      "--------\n",
      "Patient Name: Anirudh\n",
      "Temperature: 87 Degree\n"
     ]
    }
   ],
   "source": [
    "covid('Anirudh', 87)"
   ]
  },
  {
   "cell_type": "code",
   "execution_count": 31,
   "metadata": {},
   "outputs": [
    {
     "name": "stdout",
     "output_type": "stream",
     "text": [
      "Enter Patient Name: Aradhana\n",
      "Enter Temperature: 74\n",
      "DETAILS:\n",
      "--------\n",
      "Patient Name: Aradhana\n",
      "Temperature: 74 Degree\n"
     ]
    }
   ],
   "source": [
    "name = input('Enter Patient Name: ')\n",
    "temp = input('Enter Temperature: ')\n",
    "covid(name, temp)"
   ]
  },
  {
   "cell_type": "markdown",
   "metadata": {},
   "source": [
    "## Thank You!"
   ]
  }
 ],
 "metadata": {
  "kernelspec": {
   "display_name": "Python 3",
   "language": "python",
   "name": "python3"
  },
  "language_info": {
   "codemirror_mode": {
    "name": "ipython",
    "version": 3
   },
   "file_extension": ".py",
   "mimetype": "text/x-python",
   "name": "python",
   "nbconvert_exporter": "python",
   "pygments_lexer": "ipython3",
   "version": "3.8.5"
  }
 },
 "nbformat": 4,
 "nbformat_minor": 4
}
