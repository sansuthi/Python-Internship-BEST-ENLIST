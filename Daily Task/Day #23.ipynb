{
 "cells": [
  {
   "cell_type": "markdown",
   "metadata": {},
   "source": [
    "## _30 Days Python Bootcamp @ BEST-ENLIST_\n",
    "\n",
    "### _Author: SANDHYA S_\n",
    "\n",
    "### _Date: 07 July '21_\n",
    "\n",
    "## _Task: Python tkinter_\n",
    "---"
   ]
  },
  {
   "cell_type": "markdown",
   "metadata": {},
   "source": [
    "### _1.\tCreate a browse option with a specific folder which has all the JPEG Files & create a Convert button to convert the image from JPEG to PNG – Basic Image converter App_"
   ]
  },
  {
   "cell_type": "code",
   "execution_count": 1,
   "metadata": {},
   "outputs": [],
   "source": [
    "import tkinter as tk\n",
    "from tkinter import filedialog\n",
    "from PIL import Image\n",
    "\n",
    "def importJPG():\n",
    "    global image\n",
    "    import_file_path = filedialog.askopenfilename()\n",
    "    image = Image.open(import_file_path)\n",
    "\n",
    "def convertToPNG():\n",
    "    global image\n",
    "    export_file_path = filedialog.asksaveasfilename(defaultextension='.png')\n",
    "    image.save(export_file_path)\n",
    "    \n",
    "root = tk.Tk()\n",
    "root.title(\"JPG to PNG Converter\")\n",
    "canvas = tk.Canvas(root, width=300, height=300, bg='pink', relief='raised')\n",
    "canvas.pack()\n",
    "\n",
    "label = tk.Label(root, text='Image Converter', bg='pink')\n",
    "label.config(font=('Book Antiqua', 20))\n",
    "canvas.create_window(150, 40, window=label)\n",
    "\n",
    "\n",
    "browseJPG = tk.Button(text=\"Import JPG File\", command=importJPG, bg='black', fg='white',\n",
    "                             font=('Book Antiqua', 12, 'bold'))\n",
    "canvas.create_window(150, 120, window=browseJPG)\n",
    "    \n",
    "\n",
    "savePNG = tk.Button(text='Convert JPG to PNG', command=convertToPNG, bg='black', fg='white',\n",
    "                             font=('Book Antiqua', 12, 'bold'))\n",
    "canvas.create_window(150, 200, window=savePNG)\n",
    "\n",
    "root.mainloop()"
   ]
  },
  {
   "cell_type": "markdown",
   "metadata": {},
   "source": [
    "#### tkinter window:"
   ]
  },
  {
   "cell_type": "code",
   "execution_count": 2,
   "metadata": {},
   "outputs": [
    {
     "data": {
      "image/png": "[encoded data removed]",
      "text/plain": [
       "<IPython.core.display.Image object>"
      ]
     },
     "execution_count": 2,
     "metadata": {},
     "output_type": "execute_result"
    }
   ],
   "source": [
    "from IPython import display\n",
    "display.Image('imageConverter.png')"
   ]
  },
  {
   "cell_type": "markdown",
   "metadata": {},
   "source": [
    "### _2. Create another button as ‘fetch button’ and have a functionality of fetching the weather on a given location in text box_"
   ]
  },
  {
   "cell_type": "code",
   "execution_count": 3,
   "metadata": {},
   "outputs": [],
   "source": [
    "from tkinter import *\n",
    "import tkinter as tk\n",
    "from datetime import datetime\n",
    "import requests\n",
    "from tkinter import messagebox\n",
    "\n",
    "\n",
    "class Weather():\n",
    "    def weather_report(self):\n",
    "        self.url = \"http://api.openweathermap.org/data/2.5/weather?q=\"\n",
    "        self.cityname = self.loc.get(1.0, END)\n",
    "        self.api_key = '64f61566457c1a48b4f301389ba59786'\n",
    "        self.data = requests.get(self.url + self.cityname + '&appid=' + self.api_key).json()\n",
    "\n",
    "        if self.data['cod'] == '404':\n",
    "            messagebox.showerror('Error', 'City Not Found !!')\n",
    "        else:\n",
    "            self.location['text'] = self.data['name'] + \",\" + self.data['sys']['country']\n",
    "            self.c = self.data['main']['temp_max'] - 273.15\n",
    "            self.f = self.c * 9 / 5 + 32\n",
    "            self.weather['text'] = self.data['weather'][0]['main']\n",
    "            self.weather['font'] = ('verdana', 20, 'bold')\n",
    "            self.temperature['text'] = f'{self.c}°C \\n {self.f}°F'\n",
    "            self.temperature['font'] = ('verdana', 15, 'bold')\n",
    "            self.humidity['text'] = self.data['main']['humidity']\n",
    "            self.humidity['font'] = ('verdana', 15, 'bold')\n",
    "            self.pressure['text'] = self.data['main']['pressure']\n",
    "            self.pressure['font'] = ('verdana', 15, 'bold')\n",
    "\n",
    "    def __init__(self):\n",
    "        self.root = tk.Tk()\n",
    "        self.root.geometry('500x500')\n",
    "        self.root.title(\"Weather Report\")\n",
    "        self.root.maxsize(500, 400)\n",
    "        self.root.minsize(500, 300)\n",
    "\n",
    "        self.header = Label(self.root, width=100, height=2, bg=\"black\")\n",
    "        self.header.place(x=0, y=0)\n",
    "\n",
    "        self.font = ('Book Antiqua', 12, 'bold')\n",
    "\n",
    "        self.date = Label(self.root, text=datetime.now().date(), bg=\"black\", fg=\"white\", font=self.font)\n",
    "        self.date.place(x=400, y=5)\n",
    "\n",
    "\n",
    "        self.location = Label(self.root, bg=\"black\", fg=\"white\", font=self.font)\n",
    "        self.location.place(x=10, y=5)\n",
    "\n",
    "        self.name = Label(self.root, text=\"Enter City or Country\", fg=\"black\", font=self.font)\n",
    "        self.name.place(x=140, y=45)\n",
    "\n",
    "        self.loc = Text(self.root, width=25, height=2)\n",
    "        self.loc.place(x=140, y=70)\n",
    "\n",
    "        self.button = Button(self.root, text=\"Search\", bg=\"black\", fg=\"white\", font=self.font, relief=RAISED,\n",
    "                             borderwidth=3, command=self.weather_report)\n",
    "        self.button.place(x=350, y=73)\n",
    "\n",
    "        self.report = Label(self.root, text=\"Weather Report\", bg=\"black\", fg=\"white\", font=self.font, padx=10)\n",
    "        self.report.place(x=180, y=150)\n",
    "\n",
    "        self.weather = Label(self.root, fg=\"black\", font=self.font)\n",
    "        self.weather.place(x=150, y=180)\n",
    "\n",
    "        self.temperature = Label(self.root, fg=\"black\", font=self.font)\n",
    "        self.temperature.place(x=150, y=230)\n",
    "\n",
    "        self.humidity = Label(self.root, fg=\"black\", font=self.font)\n",
    "        self.humidity.place(x=150, y=300)\n",
    "\n",
    "        self.pressure = Label(self.root, fg=\"black\", font=self.font)\n",
    "        self.pressure.place(x=150, y=350)\n",
    "\n",
    "        self.root.mainloop()\n",
    "\n",
    "\n",
    "if __name__ == '__main__':\n",
    "    Weather()"
   ]
  },
  {
   "cell_type": "markdown",
   "metadata": {},
   "source": [
    "#### tkinter window:"
   ]
  },
  {
   "cell_type": "code",
   "execution_count": 4,
   "metadata": {},
   "outputs": [
    {
     "data": {
      "image/png": "[encoded data removed]",
      "text/plain": [
       "<IPython.core.display.Image object>"
      ]
     },
     "execution_count": 4,
     "metadata": {},
     "output_type": "execute_result"
    }
   ],
   "source": [
    "from IPython import display\n",
    "display.Image('weatherReport.png')"
   ]
  },
  {
   "cell_type": "markdown",
   "metadata": {},
   "source": [
    "### _3.\tCreate two browse button and place the .pdf file for the buttons and create a merge pdf option -  Watermark Merger App_"
   ]
  },
  {
   "cell_type": "code",
   "execution_count": 5,
   "metadata": {},
   "outputs": [],
   "source": [
    "import tkinter as tk\n",
    "from tkinter.filedialog import askopenfilename\n",
    "from PyPDF2 import PdfFileMerger, PdfFileReader\n",
    "from pathlib import Path\n",
    "\n",
    "filelist = []\n",
    "merger = PdfFileMerger()\n",
    "\n",
    "def open_file(files):\n",
    "    filepath = askopenfilename(filetypes=[(\"PDF Files\",\"*.pdf\"), (\"All Files\", \"*.*\")])\n",
    "    if not(filepath and Path(filepath).exists()):\n",
    "        return\n",
    "    files.append(filepath)\n",
    "    # list out all filenames\n",
    "    lbl_items[\"text\"] = '\\n'.join(str(f) for f in files)\n",
    "    if len(files) >= 2 and btn_merge['state'] == \"disabled\":\n",
    "        btn_merge[\"state\"] = \"normal\"\n",
    "\n",
    "def merge_pdfs(files):\n",
    "    for f in files:\n",
    "        merger.append(PdfFileReader(open(f, \"rb\")))\n",
    "    \n",
    "    output_filename = ent_output_name.get()\n",
    "\n",
    "    if not output_filename:\n",
    "        output_filename = \"Untitled.pdf\"\n",
    "    elif \".pdf\" not in output_filename:\n",
    "        output_filename += \".pdf\"\n",
    "    merger.write(output_filename)\n",
    "\n",
    "\n",
    "window = tk.Tk()\n",
    "window.title(\"PDF Merger\")\n",
    "window.geometry(\"400x250\")\n",
    "window.resizable(0,0)\n",
    "\n",
    "\n",
    "fr_bg1 = tk.Frame(window, bd=3)\n",
    "lbl_open = tk.Label(fr_bg1, text=\"Choose PDFs to be Merged\")\n",
    "lbl_open.grid(row=0, column=0, sticky=\"ew\", padx=5, pady=5)\n",
    "\n",
    "btn_open = tk.Button(fr_bg1, text=\"Open file(s)\",\n",
    "                command=lambda: open_file(filelist))\n",
    "btn_open.grid(row=1, column=0, sticky=\"ew\", padx=5)\n",
    "lbl_items = tk.Label(fr_bg1, text=\"\")\n",
    "lbl_items.grid(row=2, column=0, pady=5)\n",
    "fr_bg1.pack()\n",
    "\n",
    "\n",
    "fr_bg2 = tk.Frame(window, bd=3)\n",
    "lbl_to_merge = tk.Label(fr_bg2, text=\"Enter Output Filename\")\n",
    "lbl_to_merge.grid(row=0, column=0, sticky=\"ew\", padx=\"5\", pady=\"5\")\n",
    "\n",
    "ent_output_name = tk.Entry(master=fr_bg2, width=7)\n",
    "ent_output_name.grid(row=1, column=0, sticky=\"ew\")\n",
    "\n",
    "btn_merge = tk.Button(fr_bg2, \n",
    "                text=\"Merge PDF\",\n",
    "                state=\"disabled\",\n",
    "                command=lambda: merge_pdfs(filelist))\n",
    "btn_merge.grid(row=2, column=0, sticky=\"ew\", padx=5, pady=5)\n",
    "fr_bg2.pack()\n",
    "\n",
    "window.mainloop()"
   ]
  },
  {
   "cell_type": "markdown",
   "metadata": {},
   "source": [
    "#### tkinter window:"
   ]
  },
  {
   "cell_type": "code",
   "execution_count": 6,
   "metadata": {},
   "outputs": [
    {
     "data": {
      "image/png": "[encoded data removed]",
      "text/plain": [
       "<IPython.core.display.Image object>"
      ]
     },
     "execution_count": 6,
     "metadata": {},
     "output_type": "execute_result"
    }
   ],
   "source": [
    "display.Image('pdfmerge.png')"
   ]
  },
  {
   "cell_type": "markdown",
   "metadata": {},
   "source": [
    "---\n",
    "## _Thank You!_"
   ]
  }
 ],
 "metadata": {
  "kernelspec": {
   "display_name": "Python 3",
   "language": "python",
   "name": "python3"
  },
  "language_info": {
   "codemirror_mode": {
    "name": "ipython",
    "version": 3
   },
   "file_extension": ".py",
   "mimetype": "text/x-python",
   "name": "python",
   "nbconvert_exporter": "python",
   "pygments_lexer": "ipython3",
   "version": "3.8.5"
  }
 },
 "nbformat": 4,
 "nbformat_minor": 4
}
