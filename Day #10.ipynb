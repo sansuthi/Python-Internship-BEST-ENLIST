{
 "cells": [
  {
   "cell_type": "markdown",
   "metadata": {},
   "source": [
    "## 30 Days Python Bootcamp @BEST-ENLIST\n",
    "\n",
    "### Author: SANDHYA S\n",
    "\n",
    "### Date: 22 June '21\n",
    "\n",
    "## Task: Inheritance: Banking System"
   ]
  },
  {
   "cell_type": "markdown",
   "metadata": {},
   "source": [
    "Inheritance provides code reusability to the program. The child class acquires the properties and can access all the data members and functions defined in the parent class.  Child class can also provide its specific implementation to the functions of the parent class. Derived class can inherit base class by just mentioning the base in the bracket after the derived class name. Consider the following syntax to inherit a base class into the derived class."
   ]
  },
  {
   "cell_type": "markdown",
   "metadata": {},
   "source": [
    "### Single Inheritance:"
   ]
  },
  {
   "cell_type": "code",
   "execution_count": 1,
   "metadata": {},
   "outputs": [
    {
     "name": "stdout",
     "output_type": "stream",
     "text": [
      "this is example 1\n",
      "this is example 2 \n"
     ]
    }
   ],
   "source": [
    "class Parent:\n",
    "    def func1(self):\n",
    "        print(\"this is example 1\")\n",
    "        \n",
    "class Child(Parent):\n",
    "    def func2(self):\n",
    "        print(\"this is example 2\")\n",
    "        \n",
    "ob = Child()\n",
    "ob.func1()\n",
    "ob.func2()"
   ]
  },
  {
   "cell_type": "code",
   "execution_count": 2,
   "metadata": {},
   "outputs": [
    {
     "name": "stdout",
     "output_type": "stream",
     "text": [
      "PARROT\n",
      "ROSE\n"
     ]
    }
   ],
   "source": [
    "class Bird:\n",
    "    def parrot(self):\n",
    "        print('PARROT')\n",
    "        \n",
    "class Flower(Bird):\n",
    "    def rose(self):\n",
    "        print('ROSE')\n",
    "        \n",
    "obj = Flower()\n",
    "obj.parrot()\n",
    "obj.rose()"
   ]
  },
  {
   "cell_type": "markdown",
   "metadata": {},
   "source": [
    "### Multiple Inheritance:\n",
    "When a child class inherits from more than one parent class"
   ]
  },
  {
   "cell_type": "code",
   "execution_count": 3,
   "metadata": {},
   "outputs": [
    {
     "name": "stdout",
     "output_type": "stream",
     "text": [
      "this is example 1\n",
      "this is example 2\n",
      "this is example 3\n"
     ]
    }
   ],
   "source": [
    "class Parent:\n",
    "    def func1(self):\n",
    "        print(\"this is example 1\")\n",
    "class Parent2:\n",
    "    def func2(self):\n",
    "        print(\"this is example 2\")\n",
    "class Child(Parent , Parent2):\n",
    "    def func3(self):\n",
    "        print(\"this is example 3\")\n",
    "        \n",
    "ob = Child()\n",
    "ob.func1()\n",
    "ob.func2()\n",
    "ob.func3()"
   ]
  },
  {
   "cell_type": "code",
   "execution_count": 4,
   "metadata": {},
   "outputs": [
    {
     "name": "stdout",
     "output_type": "stream",
     "text": [
      "JASMINE\n",
      "PEACOCK\n",
      "ELEPHANT\n"
     ]
    }
   ],
   "source": [
    "class Animal:\n",
    "    def elephant(self):\n",
    "        print('ELEPHANT')\n",
    "        \n",
    "class Bird:\n",
    "    def peacock(self):\n",
    "        print('PEACOCK')\n",
    "        \n",
    "class Flower(Animal, Bird):\n",
    "    def jasmine(self):\n",
    "        print('JASMINE')\n",
    "        \n",
    "obj = Flower()\n",
    "obj.jasmine()\n",
    "obj.peacock()\n",
    "obj.elephant()"
   ]
  },
  {
   "cell_type": "markdown",
   "metadata": {},
   "source": [
    "### Multilevel Inheritance:\n",
    "When a child class becomes a parent class for another child class."
   ]
  },
  {
   "cell_type": "code",
   "execution_count": 5,
   "metadata": {},
   "outputs": [
    {
     "name": "stdout",
     "output_type": "stream",
     "text": [
      "this is example 1\n",
      "this is example 2\n",
      "this is example 3\n"
     ]
    }
   ],
   "source": [
    "class Parent:\n",
    "    def func1(self):\n",
    "        print(\"this is example 1\")\n",
    "        \n",
    "class Child(Parent):\n",
    "    def func2(self):\n",
    "        print(\"this is example 2\")\n",
    "        \n",
    "class Child2(Child):\n",
    "    def func3(self):\n",
    "        print(\"this is example 3\")\n",
    "        \n",
    "ob = Child2()\n",
    "ob.func1()\n",
    "ob.func2()\n",
    "ob.func3()"
   ]
  },
  {
   "cell_type": "code",
   "execution_count": 6,
   "metadata": {},
   "outputs": [
    {
     "name": "stdout",
     "output_type": "stream",
     "text": [
      "ELEPHANT\n",
      "JASMINE\n",
      "PEACOCK\n"
     ]
    }
   ],
   "source": [
    "class Animal:\n",
    "    def elephant(self):\n",
    "        print('ELEPHANT')\n",
    "        \n",
    "class Bird(Animal):\n",
    "    def peacock(self):\n",
    "        print('PEACOCK')\n",
    "        \n",
    "class Flower(Bird):\n",
    "    def jasmine(self):\n",
    "        print('JASMINE')\n",
    "        \n",
    "obj = Flower()\n",
    "obj.elephant()\n",
    "obj.jasmine()\n",
    "obj.peacock()"
   ]
  },
  {
   "cell_type": "markdown",
   "metadata": {},
   "source": [
    "### Hierarchical Inheritance:\n",
    "Hierarchical inheritance involves multiple inheritance from the same base or parent class."
   ]
  },
  {
   "cell_type": "code",
   "execution_count": 7,
   "metadata": {},
   "outputs": [
    {
     "name": "stdout",
     "output_type": "stream",
     "text": [
      "this is example 1\n",
      "this is example 2\n"
     ]
    }
   ],
   "source": [
    "class Parent:\n",
    "    def func1(self):\n",
    "        print(\"this is example 1\")\n",
    "        \n",
    "class Child(Parent):\n",
    "    def func2(self):\n",
    "        print(\"this is example 2\")\n",
    "        \n",
    "class Child2(Parent):\n",
    "    def func3(self):\n",
    "        print(\"this is example 3\")\n",
    "\n",
    "ob = Child()\n",
    "ob1 = Child2()\n",
    "ob.func1()\n",
    "ob.func2()"
   ]
  },
  {
   "cell_type": "markdown",
   "metadata": {},
   "source": [
    "### Hybrid Inheritance:\n",
    "Hybrid inheritance involves multiple inheritance taking place in a single program."
   ]
  },
  {
   "cell_type": "code",
   "execution_count": 8,
   "metadata": {},
   "outputs": [
    {
     "name": "stdout",
     "output_type": "stream",
     "text": [
      "this is example 1\n"
     ]
    }
   ],
   "source": [
    "class Parent:\n",
    "    def func1(self):\n",
    "        print(\"this is example 1\")\n",
    "        \n",
    "class Child1(Parent):\n",
    "    def func2(self):\n",
    "        print(\"this is example 2\")   \n",
    "        \n",
    "class Child2(Parent):\n",
    "    def func3(self):\n",
    "        print(\" this is example 3\")\n",
    "        \n",
    "class Child3(Child1, Parent):\n",
    "    def func4(self):\n",
    "        print(\" this is example 4\")\n",
    "        \n",
    "ob = Child3()\n",
    "ob.func1()"
   ]
  },
  {
   "cell_type": "markdown",
   "metadata": {},
   "source": [
    "### Python Super() Function:\n",
    "Super function allows us to call a method from the parent class."
   ]
  },
  {
   "cell_type": "code",
   "execution_count": 9,
   "metadata": {},
   "outputs": [
    {
     "name": "stdout",
     "output_type": "stream",
     "text": [
      "this is example 1\n",
      "this is example 2\n"
     ]
    }
   ],
   "source": [
    "class Parent:\n",
    "    def func1(self):\n",
    "        print(\"this is example 1\")\n",
    "        \n",
    "class Child(Parent):\n",
    "    def func2(self):\n",
    "        super().func1()\n",
    "        print(\"this is example 2\")\n",
    "\n",
    "ob = Child()\n",
    "ob.func2()"
   ]
  },
  {
   "cell_type": "markdown",
   "metadata": {},
   "source": [
    "### Method Overriding:"
   ]
  },
  {
   "cell_type": "code",
   "execution_count": 10,
   "metadata": {},
   "outputs": [
    {
     "name": "stdout",
     "output_type": "stream",
     "text": [
      "this is child function\n"
     ]
    }
   ],
   "source": [
    "class Parent:\n",
    "    def func1(self):\n",
    "        print(\"this is parent function\")\n",
    "class Child(Parent):\n",
    "    def func1(self):\n",
    "        print(\"this is child function\")\n",
    "        \n",
    "ob = Child()\n",
    "ob.func1()"
   ]
  },
  {
   "cell_type": "markdown",
   "metadata": {},
   "source": [
    "## Exercise:\n",
    "### Create a real time scenario for inheritance example Banking concept, ecommerce concept."
   ]
  },
  {
   "cell_type": "code",
   "execution_count": 11,
   "metadata": {},
   "outputs": [],
   "source": [
    "import random\n",
    "class Banking:\n",
    "    def details(self):\n",
    "        print(f'\\nDETAILS:\\n{\"-\"*8}')\n",
    "        print('Account Holder:', self.name)\n",
    "        print('Account Number:', self.account)\n",
    "        print('Balance: Rs.', self.balance)\n",
    "        \n",
    "    def print_bal(self):\n",
    "        print('Available Balance:', self.balance)\n",
    "        print(f'\\n{\"-\"*38}')\n",
    "                 \n",
    "    def deposit(self):\n",
    "        amount = float(input('\\nEnter the amount to be deposited: '))\n",
    "        self.balance += amount\n",
    "        print(f'Rs.{amount} credited successfully')\n",
    "               \n",
    "    def withdraw(self):\n",
    "        amount = float(input('\\nEnter the amount to be withdrawn: '))\n",
    "        if self.balance >= amount:\n",
    "            self.balance -= amount\n",
    "            print(f'Rs.{amount} withdrawn successfully')\n",
    "        else:\n",
    "            print('\\nInsufficient Balance..!')\n",
    "            \n",
    "class Main(Banking):\n",
    "    def __init__(self):\n",
    "        print(f'Welcome to the Banking Portal\\n{\".\"*30}')\n",
    "        self.name = input('Enter your Name: ')\n",
    "        self.account = input('Enter Account Number: ')\n",
    "        self.balance = float(random.randint(5000, 15000))\n",
    "        \n",
    "    def menu(self):\n",
    "        while True:\n",
    "            print('\\n1. Balance Inquiry')\n",
    "            print('2. Deposit')\n",
    "            print('3. Withdrawal')\n",
    "            print('4. Exit')\n",
    "            option = input('Enter the option: ')\n",
    "            if option == '4':\n",
    "                print('\\nThank You!')\n",
    "                return\n",
    "            elif option == '1':\n",
    "                super().details()\n",
    "            elif option == '2':\n",
    "                super().deposit()\n",
    "                super().print_bal()\n",
    "            elif option == '3':\n",
    "                super().withdraw()\n",
    "                super().print_bal()\n",
    "            else:\n",
    "                print('\\nEnter a valid option!')\n",
    "                continue\n",
    "            contn = input('\\nDo you want to continue?(Y/N): ')\n",
    "            if contn == 'Y' or contn == 'y':\n",
    "                continue\n",
    "            elif contn == 'N' or contn == 'n':\n",
    "                print('\\nThank You!')\n",
    "                return "
   ]
  },
  {
   "cell_type": "code",
   "execution_count": 12,
   "metadata": {},
   "outputs": [
    {
     "name": "stdout",
     "output_type": "stream",
     "text": [
      "Welcome to the Banking Portal\n",
      "..............................\n",
      "Enter your Name: Anuradha\n",
      "Enter Account Number: 56132\n",
      "\n",
      "1. Balance Inquiry\n",
      "2. Deposit\n",
      "3. Withdrawal\n",
      "4. Exit\n",
      "Enter the option: 1\n",
      "\n",
      "DETAILS:\n",
      "--------\n",
      "Account Holder: Anuradha\n",
      "Account Number: 56132\n",
      "Balance: Rs. 11178.0\n",
      "\n",
      "Do you want to continue?(Y/N): y\n",
      "\n",
      "1. Balance Inquiry\n",
      "2. Deposit\n",
      "3. Withdrawal\n",
      "4. Exit\n",
      "Enter the option: 3\n",
      "\n",
      "Enter the amount to be withdrawn: 1500\n",
      "Rs.1500.0 withdrawn successfully\n",
      "Available Balance: 9678.0\n",
      "\n",
      "--------------------------------------\n",
      "\n",
      "Do you want to continue?(Y/N): Y\n",
      "\n",
      "1. Balance Inquiry\n",
      "2. Deposit\n",
      "3. Withdrawal\n",
      "4. Exit\n",
      "Enter the option: 4\n",
      "\n",
      "Thank You!\n"
     ]
    }
   ],
   "source": [
    "anu = Main()\n",
    "anu.menu()"
   ]
  },
  {
   "cell_type": "code",
   "execution_count": 13,
   "metadata": {},
   "outputs": [
    {
     "name": "stdout",
     "output_type": "stream",
     "text": [
      "Welcome to the Banking Portal\n",
      "..............................\n",
      "Enter your Name: Ragini\n",
      "Enter Account Number: 89123\n",
      "\n",
      "1. Balance Inquiry\n",
      "2. Deposit\n",
      "3. Withdrawal\n",
      "4. Exit\n",
      "Enter the option: 2\n",
      "\n",
      "Enter the amount to be deposited: 15000\n",
      "Rs.15000.0 credited successfully\n",
      "Available Balance: 24872.0\n",
      "\n",
      "--------------------------------------\n",
      "\n",
      "Do you want to continue?(Y/N): Y\n",
      "\n",
      "1. Balance Inquiry\n",
      "2. Deposit\n",
      "3. Withdrawal\n",
      "4. Exit\n",
      "Enter the option: 1\n",
      "\n",
      "DETAILS:\n",
      "--------\n",
      "Account Holder: Ragini\n",
      "Account Number: 89123\n",
      "Balance: Rs. 24872.0\n",
      "\n",
      "Do you want to continue?(Y/N): N\n",
      "\n",
      "Thank You!\n"
     ]
    }
   ],
   "source": [
    "rag = Main()\n",
    "rag.menu()"
   ]
  },
  {
   "cell_type": "code",
   "execution_count": 14,
   "metadata": {},
   "outputs": [
    {
     "name": "stdout",
     "output_type": "stream",
     "text": [
      "Welcome to the Banking Portal\n",
      "..............................\n",
      "Enter your Name: Jasmine\n",
      "Enter Account Number: 45312\n",
      "\n",
      "1. Balance Inquiry\n",
      "2. Deposit\n",
      "3. Withdrawal\n",
      "4. Exit\n",
      "Enter the option: 5\n",
      "\n",
      "Enter a valid option!\n",
      "\n",
      "1. Balance Inquiry\n",
      "2. Deposit\n",
      "3. Withdrawal\n",
      "4. Exit\n",
      "Enter the option: 3\n",
      "\n",
      "Enter the amount to be withdrawn: 12000\n",
      "\n",
      "Insufficient Balance..!\n",
      "Available Balance: 11459.0\n",
      "\n",
      "--------------------------------------\n",
      "\n",
      "Do you want to continue?(Y/N): N\n",
      "\n",
      "Thank You!\n"
     ]
    }
   ],
   "source": [
    "jas = Main()\n",
    "jas.menu()"
   ]
  },
  {
   "cell_type": "code",
   "execution_count": 15,
   "metadata": {},
   "outputs": [
    {
     "name": "stdout",
     "output_type": "stream",
     "text": [
      "Welcome to the Banking Portal\n",
      "..............................\n",
      "Enter your Name: Madumitha\n",
      "Enter Account Number: 32163\n",
      "\n",
      "1. Balance Inquiry\n",
      "2. Deposit\n",
      "3. Withdrawal\n",
      "4. Exit\n",
      "Enter the option: 1\n",
      "\n",
      "DETAILS:\n",
      "--------\n",
      "Account Holder: Madumitha\n",
      "Account Number: 32163\n",
      "Balance: Rs. 11949.0\n",
      "\n",
      "Do you want to continue?(Y/N): n\n",
      "\n",
      "Thank You!\n"
     ]
    }
   ],
   "source": [
    "madhu = Main()\n",
    "madhu.menu()"
   ]
  },
  {
   "cell_type": "markdown",
   "metadata": {},
   "source": [
    "## Thank You!"
   ]
  }
 ],
 "metadata": {
  "kernelspec": {
   "display_name": "Python 3",
   "language": "python",
   "name": "python3"
  },
  "language_info": {
   "codemirror_mode": {
    "name": "ipython",
    "version": 3
   },
   "file_extension": ".py",
   "mimetype": "text/x-python",
   "name": "python",
   "nbconvert_exporter": "python",
   "pygments_lexer": "ipython3",
   "version": "3.8.5"
  }
 },
 "nbformat": 4,
 "nbformat_minor": 4
}
