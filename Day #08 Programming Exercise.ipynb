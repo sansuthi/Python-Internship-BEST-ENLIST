{
 "cells": [
  {
   "cell_type": "markdown",
   "metadata": {},
   "source": [
    "## 30 Days Python Bootcamp @BEST-ENLIST\n",
    "\n",
    "### Author: SANDHYA S\n",
    "\n",
    "### Date: 20 June '21\n",
    "\n",
    "## Task: Programming Exercise"
   ]
  },
  {
   "cell_type": "markdown",
   "metadata": {},
   "source": [
    "### 1. Write a Python script to merge two Python dictionaries"
   ]
  },
  {
   "cell_type": "code",
   "execution_count": 1,
   "metadata": {},
   "outputs": [
    {
     "name": "stdout",
     "output_type": "stream",
     "text": [
      "DICTIONARIES:\n",
      "Animals: {'C': 'Cat', 'D': 'Dog', 'E': 'Elephant'}\n",
      "Birds: {'K': 'King Fisher', 'O': 'Owl', 'P': 'Parrot'}\n"
     ]
    }
   ],
   "source": [
    "# Creating two dictionaries\n",
    "animals = {'C': 'Cat', 'D': 'Dog', 'E': 'Elephant'}\n",
    "birds = {'K': 'King Fisher', 'O': 'Owl', 'P': 'Parrot'}\n",
    "print('DICTIONARIES:')\n",
    "print('Animals:', animals)\n",
    "print('Birds:', birds)"
   ]
  },
  {
   "cell_type": "markdown",
   "metadata": {},
   "source": [
    "#### a) Merging dictionaries using update()"
   ]
  },
  {
   "cell_type": "code",
   "execution_count": 2,
   "metadata": {},
   "outputs": [
    {
     "name": "stdout",
     "output_type": "stream",
     "text": [
      "Animals:\n",
      "\n"
     ]
    },
    {
     "data": {
      "text/plain": [
       "{'C': 'Cat',\n",
       " 'D': 'Dog',\n",
       " 'E': 'Elephant',\n",
       " 'K': 'King Fisher',\n",
       " 'O': 'Owl',\n",
       " 'P': 'Parrot'}"
      ]
     },
     "execution_count": 2,
     "metadata": {},
     "output_type": "execute_result"
    }
   ],
   "source": [
    "animals.update(birds)\n",
    "print('Animals:\\n')\n",
    "animals"
   ]
  },
  {
   "cell_type": "markdown",
   "metadata": {},
   "source": [
    "#### b) Merging dictionaries using **"
   ]
  },
  {
   "cell_type": "code",
   "execution_count": 3,
   "metadata": {},
   "outputs": [
    {
     "name": "stdout",
     "output_type": "stream",
     "text": [
      "Merged Dict:\n",
      "\n"
     ]
    },
    {
     "data": {
      "text/plain": [
       "{'K': 'King Fisher',\n",
       " 'O': 'Owl',\n",
       " 'P': 'Parrot',\n",
       " 'C': 'Cat',\n",
       " 'D': 'Dog',\n",
       " 'E': 'Elephant'}"
      ]
     },
     "execution_count": 3,
     "metadata": {},
     "output_type": "execute_result"
    }
   ],
   "source": [
    "animals = {'C': 'Cat', 'D': 'Dog', 'E': 'Elephant'}\n",
    "birds = {'K': 'King Fisher', 'O': 'Owl', 'P': 'Parrot'}\n",
    "new_dict = {**birds, **animals}\n",
    "print('Merged Dict:\\n')\n",
    "new_dict"
   ]
  },
  {
   "cell_type": "markdown",
   "metadata": {},
   "source": [
    "### 2.  Write a program to sort the value from descending to ascending in list and convert it in to a set."
   ]
  },
  {
   "cell_type": "code",
   "execution_count": 4,
   "metadata": {},
   "outputs": [
    {
     "name": "stdout",
     "output_type": "stream",
     "text": [
      "List: [794, 673, 132, 294, 435, 545, 916, 812]\n"
     ]
    }
   ],
   "source": [
    "# creating a list\n",
    "num_list = [794, 673, 132, 294, 435, 545, 916, 812]\n",
    "print('List:', num_list)"
   ]
  },
  {
   "cell_type": "code",
   "execution_count": 5,
   "metadata": {},
   "outputs": [
    {
     "name": "stdout",
     "output_type": "stream",
     "text": [
      "Sorted List: [916, 812, 794, 673, 545, 435, 294, 132]\n"
     ]
    }
   ],
   "source": [
    "# Sorting the list from descending to ascending\n",
    "num_list.sort(reverse=True)\n",
    "print('Sorted List:', num_list)"
   ]
  },
  {
   "cell_type": "code",
   "execution_count": 6,
   "metadata": {
    "scrolled": true
   },
   "outputs": [
    {
     "name": "stdout",
     "output_type": "stream",
     "text": [
      "Set: {673, 545, 132, 294, 812, 435, 916, 794}\n"
     ]
    }
   ],
   "source": [
    "# Converting list to set\n",
    "num_set = set(num_list)\n",
    "print('Set:', num_set)"
   ]
  },
  {
   "cell_type": "markdown",
   "metadata": {},
   "source": [
    "### 3. Write a Python program to list number of items in a dictionary key and sort the list with the help of a \n",
    "\n",
    "### function & without the function."
   ]
  },
  {
   "cell_type": "code",
   "execution_count": 7,
   "metadata": {},
   "outputs": [
    {
     "name": "stdout",
     "output_type": "stream",
     "text": [
      "DICTIONARY:\n",
      " {'one': [8], 'two': [1, 2, 9, 3, 5], 'three': [3, 6, 2], 'four': [9, 3], 'five': [9, 1, 3, 4, 7, 2], 'six': [1, 5, 0, 3, 5, 1, 7], 'seven': [3, 7, 1, 3]}\n"
     ]
    }
   ],
   "source": [
    "# Creating dictionary\n",
    "dictionary = {'one': [8],\n",
    "              'two': [1, 2, 9, 3, 5],\n",
    "              'three': [3, 6, 2],\n",
    "              'four': [9, 3], \n",
    "              'five': [9, 1, 3, 4, 7, 2],\n",
    "              'six': [1, 5, 0, 3, 5, 1, 7],\n",
    "              'seven': [3, 7, 1, 3]}\n",
    "print('DICTIONARY:\\n', dictionary)"
   ]
  },
  {
   "cell_type": "code",
   "execution_count": 8,
   "metadata": {},
   "outputs": [
    {
     "data": {
      "text/plain": [
       "[1, 5, 3, 2, 6, 7, 4]"
      ]
     },
     "execution_count": 8,
     "metadata": {},
     "output_type": "execute_result"
    }
   ],
   "source": [
    "# Storing the number of items in the dictionary keys\n",
    "num_list = []\n",
    "for item in dictionary:\n",
    "    num_list.append(len(dictionary[item]))\n",
    "num_list"
   ]
  },
  {
   "cell_type": "markdown",
   "metadata": {},
   "source": [
    "#### a) Sorting List with sorted()"
   ]
  },
  {
   "cell_type": "code",
   "execution_count": 9,
   "metadata": {},
   "outputs": [
    {
     "name": "stdout",
     "output_type": "stream",
     "text": [
      "Actual List: [1, 5, 3, 2, 6, 7, 4]\n",
      "Sorted List: [1, 2, 3, 4, 5, 6, 7]\n"
     ]
    }
   ],
   "source": [
    "print('Actual List:', num_list)\n",
    "print('Sorted List:', sorted(num_list))"
   ]
  },
  {
   "cell_type": "markdown",
   "metadata": {},
   "source": [
    "#### b) Sorting List without function"
   ]
  },
  {
   "cell_type": "code",
   "execution_count": 10,
   "metadata": {},
   "outputs": [
    {
     "name": "stdout",
     "output_type": "stream",
     "text": [
      "Actual List: [1, 5, 3, 2, 6, 7, 4]\n",
      "Sorted List: [1, 2, 3, 4, 5, 6, 7]\n"
     ]
    }
   ],
   "source": [
    "print('Actual List:', num_list)\n",
    "sort_list = []\n",
    "while num_list:\n",
    "    small = num_list[0]  \n",
    "    for x in num_list: \n",
    "        if x < small:\n",
    "            small = x\n",
    "    sort_list.append(small)\n",
    "    num_list.remove(small)    \n",
    "\n",
    "print('Sorted List:', sort_list)"
   ]
  },
  {
   "cell_type": "markdown",
   "metadata": {},
   "source": [
    "### 4. Write a Python program to get a string from a given string (user input) and change the first occurrence of \n",
    "\n",
    "### the word to a user specified input."
   ]
  },
  {
   "cell_type": "code",
   "execution_count": 11,
   "metadata": {},
   "outputs": [],
   "source": [
    "def change_word(string):\n",
    "    print('String:', string)\n",
    "    word1 = input('\\nEnter the word in the string: ')\n",
    "    word2 = input('Enter the word to be changed: ')\n",
    "    if word1 in string:\n",
    "        string = string.replace(word1, word2)\n",
    "        print('\\nReplaced String:', string)"
   ]
  },
  {
   "cell_type": "code",
   "execution_count": 12,
   "metadata": {},
   "outputs": [
    {
     "name": "stdout",
     "output_type": "stream",
     "text": [
      "String: Python Programming in Jupyter Notebook\n",
      "\n",
      "Enter the word in the string: Notebook\n",
      "Enter the word to be changed: Lab\n",
      "\n",
      "Replaced String: Python Programming in Jupyter Lab\n"
     ]
    }
   ],
   "source": [
    "change_word('Python Programming in Jupyter Notebook')"
   ]
  },
  {
   "cell_type": "code",
   "execution_count": 13,
   "metadata": {},
   "outputs": [
    {
     "name": "stdout",
     "output_type": "stream",
     "text": [
      "String: Python Programming\n",
      "\n",
      "Enter the word in the string: Python\n",
      "Enter the word to be changed: Java\n",
      "\n",
      "Replaced String: Java Programming\n"
     ]
    }
   ],
   "source": [
    "change_word('Python Programming')"
   ]
  },
  {
   "cell_type": "markdown",
   "metadata": {},
   "source": [
    "### 5. Write a Python program to get a string from a given string where all occurrences of its first char have been \n",
    "### changed to capital letter."
   ]
  },
  {
   "cell_type": "code",
   "execution_count": 14,
   "metadata": {},
   "outputs": [],
   "source": [
    "def capitalize(string):\n",
    "    print('String:', string)\n",
    "    word = input('Enter the word to be changed: ')\n",
    "    string = string.replace(word, word.capitalize())\n",
    "    print('\\nReplaced String:', string)"
   ]
  },
  {
   "cell_type": "code",
   "execution_count": 15,
   "metadata": {},
   "outputs": [
    {
     "name": "stdout",
     "output_type": "stream",
     "text": [
      "String: python is easy, I program python in Jupyter Notebook\n",
      "Enter the word to be changed: python\n",
      "\n",
      "Replaced String: Python is easy, I program Python in Jupyter Notebook\n"
     ]
    }
   ],
   "source": [
    "capitalize('python is easy, I program python in Jupyter Notebook')"
   ]
  },
  {
   "cell_type": "markdown",
   "metadata": {},
   "source": [
    "### 6. Write a Python program to find the repeated items of a list"
   ]
  },
  {
   "cell_type": "markdown",
   "metadata": {},
   "source": [
    "#### a) using list"
   ]
  },
  {
   "cell_type": "code",
   "execution_count": 16,
   "metadata": {},
   "outputs": [
    {
     "name": "stdout",
     "output_type": "stream",
     "text": [
      "Repeated Items:\n",
      "12\n",
      "hello\n"
     ]
    }
   ],
   "source": [
    "my_list = [12, 45, 'hello', 'hi', 89, 12, 'hello', 49]\n",
    "dup_list = []\n",
    "print('Repeated Items:')\n",
    "for item in my_list:\n",
    "    if item not in dup_list:\n",
    "        dup_list.append(item)\n",
    "    else:\n",
    "        print(item)"
   ]
  },
  {
   "cell_type": "markdown",
   "metadata": {},
   "source": [
    "#### b) using dictionary"
   ]
  },
  {
   "cell_type": "code",
   "execution_count": 17,
   "metadata": {},
   "outputs": [
    {
     "name": "stdout",
     "output_type": "stream",
     "text": [
      "List: [12, 'hello', 45, 'hello', 'hi', 89, 12, 'hello', 49]\n"
     ]
    }
   ],
   "source": [
    "# Creating a list\n",
    "my_list = [12, 'hello', 45, 'hello', 'hi', 89, 12, 'hello', 49]\n",
    "print('List:', my_list)"
   ]
  },
  {
   "cell_type": "code",
   "execution_count": 18,
   "metadata": {},
   "outputs": [
    {
     "data": {
      "text/plain": [
       "{12: 2, 'hello': 3, 45: 1, 'hi': 1, 89: 1, 49: 1}"
      ]
     },
     "execution_count": 18,
     "metadata": {},
     "output_type": "execute_result"
    }
   ],
   "source": [
    "# Finding repeated items\n",
    "rep_dict = {}\n",
    "for value in my_list:\n",
    "    if value not in rep_dict:\n",
    "        rep_dict[value] = 1\n",
    "    else:\n",
    "        rep_dict[value] += 1\n",
    "rep_dict"
   ]
  },
  {
   "cell_type": "code",
   "execution_count": 19,
   "metadata": {},
   "outputs": [
    {
     "name": "stdout",
     "output_type": "stream",
     "text": [
      "Repeated Items:\n",
      "12 : 2\n",
      "hello : 3\n"
     ]
    }
   ],
   "source": [
    "# Printing repeated items\n",
    "print('Repeated Items:')\n",
    "for item in rep_dict:\n",
    "    if rep_dict[item] > 1:\n",
    "        print(item, ':', rep_dict[item])"
   ]
  },
  {
   "cell_type": "markdown",
   "metadata": {},
   "source": [
    "### 7. Write a Python program to check the sum of three elements and divided by a value which is given as an \n",
    "### input by the user"
   ]
  },
  {
   "cell_type": "code",
   "execution_count": 20,
   "metadata": {},
   "outputs": [
    {
     "name": "stdout",
     "output_type": "stream",
     "text": [
      "Numbers: (123, 456, 789)\n",
      "Sum of Numbers: 1368\n"
     ]
    }
   ],
   "source": [
    "nums = 123, 456, 789\n",
    "print('Numbers:', nums)\n",
    "sum_num = sum(nums)\n",
    "print('Sum of Numbers:', sum_num)"
   ]
  },
  {
   "cell_type": "code",
   "execution_count": 21,
   "metadata": {},
   "outputs": [
    {
     "name": "stdout",
     "output_type": "stream",
     "text": [
      "Enter a number: 12\n",
      "Division output: 114.0\n"
     ]
    }
   ],
   "source": [
    "value = int(input('Enter a number: '))\n",
    "print('Division output:', sum_num/value)"
   ]
  },
  {
   "cell_type": "markdown",
   "metadata": {},
   "source": [
    "### 8. Write a Python program to find the Mean, median, mode among three given numbers"
   ]
  },
  {
   "cell_type": "markdown",
   "metadata": {},
   "source": [
    "#### a) Conventional method"
   ]
  },
  {
   "cell_type": "code",
   "execution_count": 22,
   "metadata": {},
   "outputs": [],
   "source": [
    "# Finding Mean\n",
    "numbers = 987, 321, 654\n",
    "mean = sum(numbers)/len(numbers)"
   ]
  },
  {
   "cell_type": "code",
   "execution_count": 23,
   "metadata": {},
   "outputs": [],
   "source": [
    "# Finding Median\n",
    "sorted_num = sorted(numbers)\n",
    "length = len(numbers)\n",
    "if len(numbers) % 2 == 0:\n",
    "    median1 = n_num[length//2]\n",
    "    median2 = n_num[length//2 - 1]\n",
    "    median = (median1 + median2)/2\n",
    "else:\n",
    "    median = sorted_num[length//2]"
   ]
  },
  {
   "cell_type": "code",
   "execution_count": 24,
   "metadata": {},
   "outputs": [
    {
     "name": "stdout",
     "output_type": "stream",
     "text": [
      "Numbers: (987, 321, 654)\n",
      "Mean: 654.0\n",
      "Median: 654\n"
     ]
    }
   ],
   "source": [
    "print('Numbers:', numbers)\n",
    "print('Mean:', mean)\n",
    "print('Median:', median)"
   ]
  },
  {
   "cell_type": "markdown",
   "metadata": {},
   "source": [
    "#### b) using statistics module"
   ]
  },
  {
   "cell_type": "code",
   "execution_count": 25,
   "metadata": {},
   "outputs": [
    {
     "name": "stdout",
     "output_type": "stream",
     "text": [
      "Numbers: (987, 321, 654)\n",
      "Mean: 654\n",
      "Median: 654\n",
      "Mode: 987\n"
     ]
    }
   ],
   "source": [
    "import statistics\n",
    "print('Numbers:', numbers)\n",
    "print('Mean:', statistics.mean(numbers))\n",
    "print('Median:', statistics.median(numbers))\n",
    "print('Mode:', statistics.mode(numbers))"
   ]
  },
  {
   "cell_type": "markdown",
   "metadata": {},
   "source": [
    "### 9. Write a Python program to swap cases of a given string"
   ]
  },
  {
   "cell_type": "code",
   "execution_count": 26,
   "metadata": {},
   "outputs": [
    {
     "name": "stdout",
     "output_type": "stream",
     "text": [
      "String: Python\n",
      "After Swapping: pYTHON\n",
      "\n",
      "String: PROGRAMMING\n",
      "After Swapping: programming\n",
      "\n",
      "String: exercise\n",
      "After Swapping: EXERCISE\n"
     ]
    }
   ],
   "source": [
    "# Defining function for swapping\n",
    "def swap(string):\n",
    "    swap_str =''   \n",
    "    for letter in string:\n",
    "        if letter.isupper():\n",
    "            swap_str += letter.lower()\n",
    "        else:\n",
    "            swap_str += letter.upper()           \n",
    "    return swap_str\n",
    "\n",
    "print(f'String: {\"Python\"}\\nAfter Swapping: {swap(\"Python\")}')\n",
    "print(f'\\nString: {\"PROGRAMMING\"}\\nAfter Swapping: {swap(\"PROGRAMMING\")}')\n",
    "print(f'\\nString: {\"exercise\"}\\nAfter Swapping: {swap(\"exercise\")}')"
   ]
  },
  {
   "cell_type": "markdown",
   "metadata": {},
   "source": [
    "### 10. Write a program to convert an integer to binary & octa decimal"
   ]
  },
  {
   "cell_type": "code",
   "execution_count": 27,
   "metadata": {},
   "outputs": [],
   "source": [
    "# Function definition for conversion\n",
    "def bin_oct(integer):\n",
    "    print('Decimal:', integer)\n",
    "    print('Binary:', bin(integer))\n",
    "    print('Octal:', oct(integer))"
   ]
  },
  {
   "cell_type": "code",
   "execution_count": 28,
   "metadata": {},
   "outputs": [
    {
     "name": "stdout",
     "output_type": "stream",
     "text": [
      "Decimal: 4\n",
      "Binary: 0b100\n",
      "Octal: 0o4\n"
     ]
    }
   ],
   "source": [
    "# Function Calling\n",
    "bin_oct(4)"
   ]
  },
  {
   "cell_type": "code",
   "execution_count": 29,
   "metadata": {},
   "outputs": [
    {
     "name": "stdout",
     "output_type": "stream",
     "text": [
      "Decimal: 1024\n",
      "Binary: 0b10000000000\n",
      "Octal: 0o2000\n"
     ]
    }
   ],
   "source": [
    "bin_oct(1024)"
   ]
  },
  {
   "cell_type": "markdown",
   "metadata": {},
   "source": [
    "## Thank You!"
   ]
  }
 ],
 "metadata": {
  "kernelspec": {
   "display_name": "Python 3",
   "language": "python",
   "name": "python3"
  },
  "language_info": {
   "codemirror_mode": {
    "name": "ipython",
    "version": 3
   },
   "file_extension": ".py",
   "mimetype": "text/x-python",
   "name": "python",
   "nbconvert_exporter": "python",
   "pygments_lexer": "ipython3",
   "version": "3.8.5"
  }
 },
 "nbformat": 4,
 "nbformat_minor": 4
}
